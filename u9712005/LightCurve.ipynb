{
 "cells": [
  {
   "cell_type": "code",
   "execution_count": 1,
   "metadata": {},
   "outputs": [
    {
     "data": {
      "text/html": [
       "\n",
       "    <div class=\"bk-root\">\n",
       "        <a href=\"https://bokeh.pydata.org\" target=\"_blank\" class=\"bk-logo bk-logo-small bk-logo-notebook\"></a>\n",
       "        <span id=\"1001\">Loading BokehJS ...</span>\n",
       "    </div>"
      ]
     },
     "metadata": {},
     "output_type": "display_data"
    },
    {
     "data": {
      "application/javascript": [
       "\n",
       "(function(root) {\n",
       "  function now() {\n",
       "    return new Date();\n",
       "  }\n",
       "\n",
       "  var force = true;\n",
       "\n",
       "  if (typeof root._bokeh_onload_callbacks === \"undefined\" || force === true) {\n",
       "    root._bokeh_onload_callbacks = [];\n",
       "    root._bokeh_is_loading = undefined;\n",
       "  }\n",
       "\n",
       "  var JS_MIME_TYPE = 'application/javascript';\n",
       "  var HTML_MIME_TYPE = 'text/html';\n",
       "  var EXEC_MIME_TYPE = 'application/vnd.bokehjs_exec.v0+json';\n",
       "  var CLASS_NAME = 'output_bokeh rendered_html';\n",
       "\n",
       "  /**\n",
       "   * Render data to the DOM node\n",
       "   */\n",
       "  function render(props, node) {\n",
       "    var script = document.createElement(\"script\");\n",
       "    node.appendChild(script);\n",
       "  }\n",
       "\n",
       "  /**\n",
       "   * Handle when an output is cleared or removed\n",
       "   */\n",
       "  function handleClearOutput(event, handle) {\n",
       "    var cell = handle.cell;\n",
       "\n",
       "    var id = cell.output_area._bokeh_element_id;\n",
       "    var server_id = cell.output_area._bokeh_server_id;\n",
       "    // Clean up Bokeh references\n",
       "    if (id != null && id in Bokeh.index) {\n",
       "      Bokeh.index[id].model.document.clear();\n",
       "      delete Bokeh.index[id];\n",
       "    }\n",
       "\n",
       "    if (server_id !== undefined) {\n",
       "      // Clean up Bokeh references\n",
       "      var cmd = \"from bokeh.io.state import curstate; print(curstate().uuid_to_server['\" + server_id + \"'].get_sessions()[0].document.roots[0]._id)\";\n",
       "      cell.notebook.kernel.execute(cmd, {\n",
       "        iopub: {\n",
       "          output: function(msg) {\n",
       "            var id = msg.content.text.trim();\n",
       "            if (id in Bokeh.index) {\n",
       "              Bokeh.index[id].model.document.clear();\n",
       "              delete Bokeh.index[id];\n",
       "            }\n",
       "          }\n",
       "        }\n",
       "      });\n",
       "      // Destroy server and session\n",
       "      var cmd = \"import bokeh.io.notebook as ion; ion.destroy_server('\" + server_id + \"')\";\n",
       "      cell.notebook.kernel.execute(cmd);\n",
       "    }\n",
       "  }\n",
       "\n",
       "  /**\n",
       "   * Handle when a new output is added\n",
       "   */\n",
       "  function handleAddOutput(event, handle) {\n",
       "    var output_area = handle.output_area;\n",
       "    var output = handle.output;\n",
       "\n",
       "    // limit handleAddOutput to display_data with EXEC_MIME_TYPE content only\n",
       "    if ((output.output_type != \"display_data\") || (!output.data.hasOwnProperty(EXEC_MIME_TYPE))) {\n",
       "      return\n",
       "    }\n",
       "\n",
       "    var toinsert = output_area.element.find(\".\" + CLASS_NAME.split(' ')[0]);\n",
       "\n",
       "    if (output.metadata[EXEC_MIME_TYPE][\"id\"] !== undefined) {\n",
       "      toinsert[toinsert.length - 1].firstChild.textContent = output.data[JS_MIME_TYPE];\n",
       "      // store reference to embed id on output_area\n",
       "      output_area._bokeh_element_id = output.metadata[EXEC_MIME_TYPE][\"id\"];\n",
       "    }\n",
       "    if (output.metadata[EXEC_MIME_TYPE][\"server_id\"] !== undefined) {\n",
       "      var bk_div = document.createElement(\"div\");\n",
       "      bk_div.innerHTML = output.data[HTML_MIME_TYPE];\n",
       "      var script_attrs = bk_div.children[0].attributes;\n",
       "      for (var i = 0; i < script_attrs.length; i++) {\n",
       "        toinsert[toinsert.length - 1].firstChild.setAttribute(script_attrs[i].name, script_attrs[i].value);\n",
       "      }\n",
       "      // store reference to server id on output_area\n",
       "      output_area._bokeh_server_id = output.metadata[EXEC_MIME_TYPE][\"server_id\"];\n",
       "    }\n",
       "  }\n",
       "\n",
       "  function register_renderer(events, OutputArea) {\n",
       "\n",
       "    function append_mime(data, metadata, element) {\n",
       "      // create a DOM node to render to\n",
       "      var toinsert = this.create_output_subarea(\n",
       "        metadata,\n",
       "        CLASS_NAME,\n",
       "        EXEC_MIME_TYPE\n",
       "      );\n",
       "      this.keyboard_manager.register_events(toinsert);\n",
       "      // Render to node\n",
       "      var props = {data: data, metadata: metadata[EXEC_MIME_TYPE]};\n",
       "      render(props, toinsert[toinsert.length - 1]);\n",
       "      element.append(toinsert);\n",
       "      return toinsert\n",
       "    }\n",
       "\n",
       "    /* Handle when an output is cleared or removed */\n",
       "    events.on('clear_output.CodeCell', handleClearOutput);\n",
       "    events.on('delete.Cell', handleClearOutput);\n",
       "\n",
       "    /* Handle when a new output is added */\n",
       "    events.on('output_added.OutputArea', handleAddOutput);\n",
       "\n",
       "    /**\n",
       "     * Register the mime type and append_mime function with output_area\n",
       "     */\n",
       "    OutputArea.prototype.register_mime_type(EXEC_MIME_TYPE, append_mime, {\n",
       "      /* Is output safe? */\n",
       "      safe: true,\n",
       "      /* Index of renderer in `output_area.display_order` */\n",
       "      index: 0\n",
       "    });\n",
       "  }\n",
       "\n",
       "  // register the mime type if in Jupyter Notebook environment and previously unregistered\n",
       "  if (root.Jupyter !== undefined) {\n",
       "    var events = require('base/js/events');\n",
       "    var OutputArea = require('notebook/js/outputarea').OutputArea;\n",
       "\n",
       "    if (OutputArea.prototype.mime_types().indexOf(EXEC_MIME_TYPE) == -1) {\n",
       "      register_renderer(events, OutputArea);\n",
       "    }\n",
       "  }\n",
       "\n",
       "  \n",
       "  if (typeof (root._bokeh_timeout) === \"undefined\" || force === true) {\n",
       "    root._bokeh_timeout = Date.now() + 5000;\n",
       "    root._bokeh_failed_load = false;\n",
       "  }\n",
       "\n",
       "  var NB_LOAD_WARNING = {'data': {'text/html':\n",
       "     \"<div style='background-color: #fdd'>\\n\"+\n",
       "     \"<p>\\n\"+\n",
       "     \"BokehJS does not appear to have successfully loaded. If loading BokehJS from CDN, this \\n\"+\n",
       "     \"may be due to a slow or bad network connection. Possible fixes:\\n\"+\n",
       "     \"</p>\\n\"+\n",
       "     \"<ul>\\n\"+\n",
       "     \"<li>re-rerun `output_notebook()` to attempt to load from CDN again, or</li>\\n\"+\n",
       "     \"<li>use INLINE resources instead, as so:</li>\\n\"+\n",
       "     \"</ul>\\n\"+\n",
       "     \"<code>\\n\"+\n",
       "     \"from bokeh.resources import INLINE\\n\"+\n",
       "     \"output_notebook(resources=INLINE)\\n\"+\n",
       "     \"</code>\\n\"+\n",
       "     \"</div>\"}};\n",
       "\n",
       "  function display_loaded() {\n",
       "    var el = document.getElementById(\"1001\");\n",
       "    if (el != null) {\n",
       "      el.textContent = \"BokehJS is loading...\";\n",
       "    }\n",
       "    if (root.Bokeh !== undefined) {\n",
       "      if (el != null) {\n",
       "        el.textContent = \"BokehJS \" + root.Bokeh.version + \" successfully loaded.\";\n",
       "      }\n",
       "    } else if (Date.now() < root._bokeh_timeout) {\n",
       "      setTimeout(display_loaded, 100)\n",
       "    }\n",
       "  }\n",
       "\n",
       "\n",
       "  function run_callbacks() {\n",
       "    try {\n",
       "      root._bokeh_onload_callbacks.forEach(function(callback) {\n",
       "        if (callback != null)\n",
       "          callback();\n",
       "      });\n",
       "    } finally {\n",
       "      delete root._bokeh_onload_callbacks\n",
       "    }\n",
       "    console.debug(\"Bokeh: all callbacks have finished\");\n",
       "  }\n",
       "\n",
       "  function load_libs(css_urls, js_urls, callback) {\n",
       "    if (css_urls == null) css_urls = [];\n",
       "    if (js_urls == null) js_urls = [];\n",
       "\n",
       "    root._bokeh_onload_callbacks.push(callback);\n",
       "    if (root._bokeh_is_loading > 0) {\n",
       "      console.debug(\"Bokeh: BokehJS is being loaded, scheduling callback at\", now());\n",
       "      return null;\n",
       "    }\n",
       "    if (js_urls == null || js_urls.length === 0) {\n",
       "      run_callbacks();\n",
       "      return null;\n",
       "    }\n",
       "    console.debug(\"Bokeh: BokehJS not loaded, scheduling load and callback at\", now());\n",
       "    root._bokeh_is_loading = css_urls.length + js_urls.length;\n",
       "\n",
       "    function on_load() {\n",
       "      root._bokeh_is_loading--;\n",
       "      if (root._bokeh_is_loading === 0) {\n",
       "        console.debug(\"Bokeh: all BokehJS libraries/stylesheets loaded\");\n",
       "        run_callbacks()\n",
       "      }\n",
       "    }\n",
       "\n",
       "    function on_error() {\n",
       "      console.error(\"failed to load \" + url);\n",
       "    }\n",
       "\n",
       "    for (var i = 0; i < css_urls.length; i++) {\n",
       "      var url = css_urls[i];\n",
       "      const element = document.createElement(\"link\");\n",
       "      element.onload = on_load;\n",
       "      element.onerror = on_error;\n",
       "      element.rel = \"stylesheet\";\n",
       "      element.type = \"text/css\";\n",
       "      element.href = url;\n",
       "      console.debug(\"Bokeh: injecting link tag for BokehJS stylesheet: \", url);\n",
       "      document.body.appendChild(element);\n",
       "    }\n",
       "\n",
       "    for (var i = 0; i < js_urls.length; i++) {\n",
       "      var url = js_urls[i];\n",
       "      var element = document.createElement('script');\n",
       "      element.onload = on_load;\n",
       "      element.onerror = on_error;\n",
       "      element.async = false;\n",
       "      element.src = url;\n",
       "      console.debug(\"Bokeh: injecting script tag for BokehJS library: \", url);\n",
       "      document.head.appendChild(element);\n",
       "    }\n",
       "  };var element = document.getElementById(\"1001\");\n",
       "  if (element == null) {\n",
       "    console.error(\"Bokeh: ERROR: autoload.js configured with elementid '1001' but no matching script tag was found. \")\n",
       "    return false;\n",
       "  }\n",
       "\n",
       "  function inject_raw_css(css) {\n",
       "    const element = document.createElement(\"style\");\n",
       "    element.appendChild(document.createTextNode(css));\n",
       "    document.body.appendChild(element);\n",
       "  }\n",
       "\n",
       "  var js_urls = [\"https://cdn.pydata.org/bokeh/release/bokeh-1.1.0.min.js\", \"https://cdn.pydata.org/bokeh/release/bokeh-widgets-1.1.0.min.js\", \"https://cdn.pydata.org/bokeh/release/bokeh-tables-1.1.0.min.js\", \"https://cdn.pydata.org/bokeh/release/bokeh-gl-1.1.0.min.js\"];\n",
       "  var css_urls = [\"https://cdn.pydata.org/bokeh/release/bokeh-1.1.0.min.css\", \"https://cdn.pydata.org/bokeh/release/bokeh-widgets-1.1.0.min.css\", \"https://cdn.pydata.org/bokeh/release/bokeh-tables-1.1.0.min.css\"];\n",
       "\n",
       "  var inline_js = [\n",
       "    function(Bokeh) {\n",
       "      Bokeh.set_log_level(\"info\");\n",
       "    },\n",
       "    \n",
       "    function(Bokeh) {\n",
       "      \n",
       "    },\n",
       "    function(Bokeh) {} // ensure no trailing comma for IE\n",
       "  ];\n",
       "\n",
       "  function run_inline_js() {\n",
       "    \n",
       "    if ((root.Bokeh !== undefined) || (force === true)) {\n",
       "      for (var i = 0; i < inline_js.length; i++) {\n",
       "        inline_js[i].call(root, root.Bokeh);\n",
       "      }if (force === true) {\n",
       "        display_loaded();\n",
       "      }} else if (Date.now() < root._bokeh_timeout) {\n",
       "      setTimeout(run_inline_js, 100);\n",
       "    } else if (!root._bokeh_failed_load) {\n",
       "      console.log(\"Bokeh: BokehJS failed to load within specified timeout.\");\n",
       "      root._bokeh_failed_load = true;\n",
       "    } else if (force !== true) {\n",
       "      var cell = $(document.getElementById(\"1001\")).parents('.cell').data().cell;\n",
       "      cell.output_area.append_execute_result(NB_LOAD_WARNING)\n",
       "    }\n",
       "\n",
       "  }\n",
       "\n",
       "  if (root._bokeh_is_loading === 0) {\n",
       "    console.debug(\"Bokeh: BokehJS loaded, going straight to plotting\");\n",
       "    run_inline_js();\n",
       "  } else {\n",
       "    load_libs(css_urls, js_urls, function() {\n",
       "      console.debug(\"Bokeh: BokehJS plotting callback run at\", now());\n",
       "      run_inline_js();\n",
       "    });\n",
       "  }\n",
       "}(window));"
      ],
      "application/vnd.bokehjs_load.v0+json": "\n(function(root) {\n  function now() {\n    return new Date();\n  }\n\n  var force = true;\n\n  if (typeof root._bokeh_onload_callbacks === \"undefined\" || force === true) {\n    root._bokeh_onload_callbacks = [];\n    root._bokeh_is_loading = undefined;\n  }\n\n  \n\n  \n  if (typeof (root._bokeh_timeout) === \"undefined\" || force === true) {\n    root._bokeh_timeout = Date.now() + 5000;\n    root._bokeh_failed_load = false;\n  }\n\n  var NB_LOAD_WARNING = {'data': {'text/html':\n     \"<div style='background-color: #fdd'>\\n\"+\n     \"<p>\\n\"+\n     \"BokehJS does not appear to have successfully loaded. If loading BokehJS from CDN, this \\n\"+\n     \"may be due to a slow or bad network connection. Possible fixes:\\n\"+\n     \"</p>\\n\"+\n     \"<ul>\\n\"+\n     \"<li>re-rerun `output_notebook()` to attempt to load from CDN again, or</li>\\n\"+\n     \"<li>use INLINE resources instead, as so:</li>\\n\"+\n     \"</ul>\\n\"+\n     \"<code>\\n\"+\n     \"from bokeh.resources import INLINE\\n\"+\n     \"output_notebook(resources=INLINE)\\n\"+\n     \"</code>\\n\"+\n     \"</div>\"}};\n\n  function display_loaded() {\n    var el = document.getElementById(\"1001\");\n    if (el != null) {\n      el.textContent = \"BokehJS is loading...\";\n    }\n    if (root.Bokeh !== undefined) {\n      if (el != null) {\n        el.textContent = \"BokehJS \" + root.Bokeh.version + \" successfully loaded.\";\n      }\n    } else if (Date.now() < root._bokeh_timeout) {\n      setTimeout(display_loaded, 100)\n    }\n  }\n\n\n  function run_callbacks() {\n    try {\n      root._bokeh_onload_callbacks.forEach(function(callback) {\n        if (callback != null)\n          callback();\n      });\n    } finally {\n      delete root._bokeh_onload_callbacks\n    }\n    console.debug(\"Bokeh: all callbacks have finished\");\n  }\n\n  function load_libs(css_urls, js_urls, callback) {\n    if (css_urls == null) css_urls = [];\n    if (js_urls == null) js_urls = [];\n\n    root._bokeh_onload_callbacks.push(callback);\n    if (root._bokeh_is_loading > 0) {\n      console.debug(\"Bokeh: BokehJS is being loaded, scheduling callback at\", now());\n      return null;\n    }\n    if (js_urls == null || js_urls.length === 0) {\n      run_callbacks();\n      return null;\n    }\n    console.debug(\"Bokeh: BokehJS not loaded, scheduling load and callback at\", now());\n    root._bokeh_is_loading = css_urls.length + js_urls.length;\n\n    function on_load() {\n      root._bokeh_is_loading--;\n      if (root._bokeh_is_loading === 0) {\n        console.debug(\"Bokeh: all BokehJS libraries/stylesheets loaded\");\n        run_callbacks()\n      }\n    }\n\n    function on_error() {\n      console.error(\"failed to load \" + url);\n    }\n\n    for (var i = 0; i < css_urls.length; i++) {\n      var url = css_urls[i];\n      const element = document.createElement(\"link\");\n      element.onload = on_load;\n      element.onerror = on_error;\n      element.rel = \"stylesheet\";\n      element.type = \"text/css\";\n      element.href = url;\n      console.debug(\"Bokeh: injecting link tag for BokehJS stylesheet: \", url);\n      document.body.appendChild(element);\n    }\n\n    for (var i = 0; i < js_urls.length; i++) {\n      var url = js_urls[i];\n      var element = document.createElement('script');\n      element.onload = on_load;\n      element.onerror = on_error;\n      element.async = false;\n      element.src = url;\n      console.debug(\"Bokeh: injecting script tag for BokehJS library: \", url);\n      document.head.appendChild(element);\n    }\n  };var element = document.getElementById(\"1001\");\n  if (element == null) {\n    console.error(\"Bokeh: ERROR: autoload.js configured with elementid '1001' but no matching script tag was found. \")\n    return false;\n  }\n\n  function inject_raw_css(css) {\n    const element = document.createElement(\"style\");\n    element.appendChild(document.createTextNode(css));\n    document.body.appendChild(element);\n  }\n\n  var js_urls = [\"https://cdn.pydata.org/bokeh/release/bokeh-1.1.0.min.js\", \"https://cdn.pydata.org/bokeh/release/bokeh-widgets-1.1.0.min.js\", \"https://cdn.pydata.org/bokeh/release/bokeh-tables-1.1.0.min.js\", \"https://cdn.pydata.org/bokeh/release/bokeh-gl-1.1.0.min.js\"];\n  var css_urls = [\"https://cdn.pydata.org/bokeh/release/bokeh-1.1.0.min.css\", \"https://cdn.pydata.org/bokeh/release/bokeh-widgets-1.1.0.min.css\", \"https://cdn.pydata.org/bokeh/release/bokeh-tables-1.1.0.min.css\"];\n\n  var inline_js = [\n    function(Bokeh) {\n      Bokeh.set_log_level(\"info\");\n    },\n    \n    function(Bokeh) {\n      \n    },\n    function(Bokeh) {} // ensure no trailing comma for IE\n  ];\n\n  function run_inline_js() {\n    \n    if ((root.Bokeh !== undefined) || (force === true)) {\n      for (var i = 0; i < inline_js.length; i++) {\n        inline_js[i].call(root, root.Bokeh);\n      }if (force === true) {\n        display_loaded();\n      }} else if (Date.now() < root._bokeh_timeout) {\n      setTimeout(run_inline_js, 100);\n    } else if (!root._bokeh_failed_load) {\n      console.log(\"Bokeh: BokehJS failed to load within specified timeout.\");\n      root._bokeh_failed_load = true;\n    } else if (force !== true) {\n      var cell = $(document.getElementById(\"1001\")).parents('.cell').data().cell;\n      cell.output_area.append_execute_result(NB_LOAD_WARNING)\n    }\n\n  }\n\n  if (root._bokeh_is_loading === 0) {\n    console.debug(\"Bokeh: BokehJS loaded, going straight to plotting\");\n    run_inline_js();\n  } else {\n    load_libs(css_urls, js_urls, function() {\n      console.debug(\"Bokeh: BokehJS plotting callback run at\", now());\n      run_inline_js();\n    });\n  }\n}(window));"
     },
     "metadata": {},
     "output_type": "display_data"
    }
   ],
   "source": [
    "from astropy.io import fits\n",
    "from astropy.wcs import WCS\n",
    "import numpy as np\n",
    "from astropy.time import Time\n",
    "import os\n",
    "\n",
    "\n",
    "from bokeh.plotting import output_notebook, figure, show\n",
    "from bokeh.models import HoverTool, tools,ColumnDataSource, Whisker\n",
    "output_notebook()\n",
    "\n",
    "\n",
    "from gatspy.periodic import LombScargleFast, LombScargle\n",
    "\n",
    "\n",
    "import matplotlib.pyplot as plt\n",
    "%matplotlib widget\n",
    "# use seaborn for plot styles\n",
    "import seaborn; seaborn.set()"
   ]
  },
  {
   "cell_type": "code",
   "execution_count": 2,
   "metadata": {},
   "outputs": [],
   "source": [
    "def getobjectdata(datafile,index,name='name'):\n",
    "    command = \"sed '{}q;d'  {}\".format(index+1,datafile)\n",
    "    print(command)\n",
    "    datastring = ! {command}\n",
    "    datalist = datastring[0].split()\n",
    "    print(datalist[2:4])\n",
    "    return datalist\n",
    "\n",
    "\n",
    "\n",
    "def getvegamaganddates(data,columnfile,name):\n",
    "    vegamagindex = np.arange(28,6568,13)\n",
    "    \n",
    "    \n",
    "    vegamaglist = np.array([float(data[i]) for i in vegamagindex])\n",
    "    vegamaglisterrors = np.array([float(data[i+2]) for i in vegamagindex])\n",
    "    \n",
    "    columns = []\n",
    "    with open(columnfile) as filecol:\n",
    "        for line in filecol:\n",
    "            columns.append(line)\n",
    "    listanames = []\n",
    "    dates = []\n",
    "    times =[]\n",
    "    nameobject = []\n",
    "    namel=[]\n",
    "\n",
    "    for i in vegamagindex:\n",
    "        initname = columns[i].find('Try/u')\n",
    "        namefits = columns[i][initname:initname+23]\n",
    "        listanames.append(namefits)\n",
    "        fit = fits.open(namefits+'.fits')\n",
    "        dates.append(fit[0].header['DATE-OBS'])\n",
    "        times.append(fit[0].header['TIME-OBS'])\n",
    "        namel.append(name)\n",
    "    datesobs = [['{}T{}'.format(i,j)] for i,j in zip(dates,times)]\n",
    "\n",
    "    d = np.array(datesobs)\n",
    "    t = Time(d)\n",
    "    namel = np.array(namel)\n",
    "       \n",
    "    return vegamaglist, vegamaglisterrors,t, d, namel\n",
    "\n",
    "\n",
    "def createdatadiccomplete(data,columnfile):\n",
    "    vegamag,vegamagerrros, timelist, observationname = getvegamaganddates(data,columnfile)\n",
    "    datadic = {'time':timelist.datetime64,\n",
    "               'VEGAMAG':vegamag,\n",
    "               'obnames':observationname,\n",
    "                'errorsmag':vegamagerrros}\n",
    "    return datadic\n",
    "            \n",
    "def createdatadicclean(datafile,index,columnfile,name='name'):\n",
    "    dataobject = getobjectdata(datafile,index)\n",
    "    vegamag,vegamagerrros, timelist, observationname, namelist = getvegamaganddates(dataobject,columnfile,name)\n",
    "    goodvegamagindex = np.where(vegamag < 99)\n",
    "\n",
    "    datadic = {'time':timelist.datetime64[goodvegamagindex],\n",
    "               'VEGAMAG':vegamag[goodvegamagindex],\n",
    "               'obnames':observationname[goodvegamagindex],\n",
    "                'errorsmag':vegamagerrros[goodvegamagindex],\n",
    "               'upper':vegamag[goodvegamagindex] + vegamagerrros[goodvegamagindex] ,\n",
    "              'lower':vegamag[goodvegamagindex] - vegamagerrros[goodvegamagindex],\n",
    "              'name':namelist[goodvegamagindex]}\n",
    "    return datadic\n",
    "\n",
    "\n",
    "def createdatadicclean(datafile,index,columnfile,name='name',timeformat='datetime64'):\n",
    "    dataobject = getobjectdata(datafile,index)\n",
    "    vegamag,vegamagerrros, timelist, observationname, namelist = getvegamaganddates(dataobject,columnfile,name)\n",
    "    goodvegamagindex = np.where(vegamag < 99)\n",
    "    if timeformat == 'datetime64':\n",
    "        timelist2 = timelist.datetime64[goodvegamagindex]\n",
    "    elif timeformat == 'mjd':\n",
    "        timelist2 = timelist.mjd[goodvegamagindex]\n",
    "\n",
    "    datadic = {'time':timelist2,\n",
    "               'VEGAMAG':vegamag[goodvegamagindex],\n",
    "               'obnames':observationname[goodvegamagindex],\n",
    "                'errorsmag':vegamagerrros[goodvegamagindex],\n",
    "               'upper':vegamag[goodvegamagindex] + vegamagerrros[goodvegamagindex] ,\n",
    "              'lower':vegamag[goodvegamagindex] - vegamagerrros[goodvegamagindex],\n",
    "              'name':namelist[goodvegamagindex]}\n",
    "    return datadic"
   ]
  },
  {
   "cell_type": "code",
   "execution_count": 3,
   "metadata": {},
   "outputs": [],
   "source": [
    "outputfile = 'outdir/out.photo'\n",
    "columnfile = 'outdir/out.columns'"
   ]
  },
  {
   "cell_type": "code",
   "execution_count": 4,
   "metadata": {},
   "outputs": [
    {
     "name": "stdout",
     "output_type": "stream",
     "text": [
      "sed '231q;d'  outdir/out.photo\n",
      "['512.14', '128.26']\n",
      "sed '738q;d'  outdir/out.photo\n",
      "['515.39', '125.65']\n"
     ]
    }
   ],
   "source": [
    "datagood230 = createdatadicclean(outputfile,230,columnfile,name='230')\n",
    "datagood737 =  createdatadicclean(outputfile,737,columnfile,name='737')\n"
   ]
  },
  {
   "cell_type": "markdown",
   "metadata": {},
   "source": [
    "# Plot"
   ]
  },
  {
   "cell_type": "code",
   "execution_count": 5,
   "metadata": {},
   "outputs": [
    {
     "data": {
      "text/html": [
       "\n",
       "\n",
       "\n",
       "\n",
       "\n",
       "\n",
       "  <div class=\"bk-root\" id=\"bf25a24c-bd11-4630-8970-cc80e85b45fb\" data-root-id=\"1004\"></div>\n"
      ]
     },
     "metadata": {},
     "output_type": "display_data"
    },
    {
     "data": {
      "application/javascript": [
       "(function(root) {\n",
       "  function embed_document(root) {\n",
       "    \n",
       "  var docs_json = {\"26cc4a08-4481-4156-8041-0855fc04948b\":{\"roots\":{\"references\":[{\"attributes\":{\"below\":[{\"id\":\"1015\",\"type\":\"DatetimeAxis\"}],\"center\":[{\"id\":\"1019\",\"type\":\"Grid\"},{\"id\":\"1024\",\"type\":\"Grid\"},{\"id\":\"1063\",\"type\":\"Legend\"},{\"id\":\"1065\",\"type\":\"Whisker\"},{\"id\":\"1095\",\"type\":\"Whisker\"}],\"left\":[{\"id\":\"1020\",\"type\":\"LinearAxis\"}],\"plot_height\":500,\"plot_width\":900,\"renderers\":[{\"id\":\"1043\",\"type\":\"GlyphRenderer\"},{\"id\":\"1070\",\"type\":\"GlyphRenderer\"}],\"title\":{\"id\":\"1005\",\"type\":\"Title\"},\"toolbar\":{\"id\":\"1031\",\"type\":\"Toolbar\"},\"x_range\":{\"id\":\"1007\",\"type\":\"DataRange1d\"},\"x_scale\":{\"id\":\"1011\",\"type\":\"LinearScale\"},\"y_range\":{\"id\":\"1009\",\"type\":\"DataRange1d\"},\"y_scale\":{\"id\":\"1013\",\"type\":\"LinearScale\"}},\"id\":\"1004\",\"subtype\":\"Figure\",\"type\":\"Plot\"},{\"attributes\":{\"data_source\":{\"id\":\"1002\",\"type\":\"ColumnDataSource\"},\"glyph\":{\"id\":\"1041\",\"type\":\"Circle\"},\"hover_glyph\":null,\"muted_glyph\":null,\"name\":\"name\",\"nonselection_glyph\":{\"id\":\"1042\",\"type\":\"Circle\"},\"selection_glyph\":null,\"view\":{\"id\":\"1044\",\"type\":\"CDSView\"}},\"id\":\"1043\",\"type\":\"GlyphRenderer\"},{\"attributes\":{\"months\":[0,6]},\"id\":\"1061\",\"type\":\"MonthsTicker\"},{\"attributes\":{},\"id\":\"1048\",\"type\":\"DatetimeTickFormatter\"},{\"attributes\":{\"data_source\":{\"id\":\"1003\",\"type\":\"ColumnDataSource\"},\"glyph\":{\"id\":\"1068\",\"type\":\"Circle\"},\"hover_glyph\":null,\"muted_glyph\":null,\"nonselection_glyph\":{\"id\":\"1069\",\"type\":\"Circle\"},\"selection_glyph\":null,\"view\":{\"id\":\"1071\",\"type\":\"CDSView\"}},\"id\":\"1070\",\"type\":\"GlyphRenderer\"},{\"attributes\":{},\"id\":\"1121\",\"type\":\"Selection\"},{\"attributes\":{\"fill_alpha\":{\"value\":0.1},\"fill_color\":{\"value\":\"#1f77b4\"},\"line_alpha\":{\"value\":0.1},\"line_color\":{\"value\":\"#1f77b4\"},\"x\":{\"field\":\"time\"},\"y\":{\"field\":\"VEGAMAG\"}},\"id\":\"1069\",\"type\":\"Circle\"},{\"attributes\":{\"axis_label\":\"Date_Obs\",\"formatter\":{\"id\":\"1048\",\"type\":\"DatetimeTickFormatter\"},\"ticker\":{\"id\":\"1016\",\"type\":\"DatetimeTicker\"}},\"id\":\"1015\",\"type\":\"DatetimeAxis\"},{\"attributes\":{\"source\":{\"id\":\"1002\",\"type\":\"ColumnDataSource\"}},\"id\":\"1044\",\"type\":\"CDSView\"},{\"attributes\":{\"base\":{\"field\":\"time\",\"units\":\"data\"},\"lower\":{\"field\":\"lower\",\"units\":\"data\"},\"lower_head\":{\"id\":\"1078\",\"type\":\"TeeHead\"},\"source\":{\"id\":\"1002\",\"type\":\"ColumnDataSource\"},\"upper\":{\"field\":\"upper\",\"units\":\"data\"},\"upper_head\":{\"id\":\"1077\",\"type\":\"TeeHead\"}},\"id\":\"1065\",\"type\":\"Whisker\"},{\"attributes\":{\"label\":{\"field\":\"name\"},\"renderers\":[{\"id\":\"1043\",\"type\":\"GlyphRenderer\"}]},\"id\":\"1064\",\"type\":\"LegendItem\"},{\"attributes\":{},\"id\":\"1030\",\"type\":\"HelpTool\"},{\"attributes\":{\"base\":{\"field\":\"time\",\"units\":\"data\"},\"lower\":{\"field\":\"lower\",\"units\":\"data\"},\"lower_head\":{\"id\":\"1105\",\"type\":\"TeeHead\"},\"source\":{\"id\":\"1003\",\"type\":\"ColumnDataSource\"},\"upper\":{\"field\":\"upper\",\"units\":\"data\"},\"upper_head\":{\"id\":\"1104\",\"type\":\"TeeHead\"}},\"id\":\"1095\",\"type\":\"Whisker\"},{\"attributes\":{\"level\":\"underlay\",\"size\":10},\"id\":\"1077\",\"type\":\"TeeHead\"},{\"attributes\":{\"base\":24,\"mantissas\":[1,2,4,6,8,12],\"max_interval\":43200000.0,\"min_interval\":3600000.0,\"num_minor_ticks\":0},\"id\":\"1053\",\"type\":\"AdaptiveTicker\"},{\"attributes\":{},\"id\":\"1026\",\"type\":\"WheelZoomTool\"},{\"attributes\":{\"months\":[0,4,8]},\"id\":\"1060\",\"type\":\"MonthsTicker\"},{\"attributes\":{\"mantissas\":[1,2,5],\"max_interval\":500.0,\"num_minor_ticks\":0},\"id\":\"1051\",\"type\":\"AdaptiveTicker\"},{\"attributes\":{\"text\":\"\"},\"id\":\"1005\",\"type\":\"Title\"},{\"attributes\":{\"fill_alpha\":{\"value\":0.1},\"fill_color\":{\"value\":\"#1f77b4\"},\"line_alpha\":{\"value\":0.1},\"line_color\":{\"value\":\"#1f77b4\"},\"x\":{\"field\":\"time\"},\"y\":{\"field\":\"VEGAMAG\"}},\"id\":\"1042\",\"type\":\"Circle\"},{\"attributes\":{\"fill_color\":{\"value\":\"blue\"},\"line_color\":{\"value\":\"blue\"},\"x\":{\"field\":\"time\"},\"y\":{\"field\":\"VEGAMAG\"}},\"id\":\"1068\",\"type\":\"Circle\"},{\"attributes\":{\"months\":[0,2,4,6,8,10]},\"id\":\"1059\",\"type\":\"MonthsTicker\"},{\"attributes\":{},\"id\":\"1029\",\"type\":\"ResetTool\"},{\"attributes\":{\"base\":60,\"mantissas\":[1,2,5,10,15,20,30],\"max_interval\":1800000.0,\"min_interval\":1000.0,\"num_minor_ticks\":0},\"id\":\"1052\",\"type\":\"AdaptiveTicker\"},{\"attributes\":{\"fill_color\":{\"value\":\"red\"},\"line_color\":{\"value\":\"red\"},\"x\":{\"field\":\"time\"},\"y\":{\"field\":\"VEGAMAG\"}},\"id\":\"1041\",\"type\":\"Circle\"},{\"attributes\":{\"callback\":null},\"id\":\"1007\",\"type\":\"DataRange1d\"},{\"attributes\":{\"overlay\":{\"id\":\"1050\",\"type\":\"BoxAnnotation\"}},\"id\":\"1027\",\"type\":\"BoxZoomTool\"},{\"attributes\":{\"days\":[1,2,3,4,5,6,7,8,9,10,11,12,13,14,15,16,17,18,19,20,21,22,23,24,25,26,27,28,29,30,31]},\"id\":\"1054\",\"type\":\"DaysTicker\"},{\"attributes\":{},\"id\":\"1028\",\"type\":\"SaveTool\"},{\"attributes\":{\"days\":[1,15]},\"id\":\"1057\",\"type\":\"DaysTicker\"},{\"attributes\":{},\"id\":\"1013\",\"type\":\"LinearScale\"},{\"attributes\":{\"dimension\":1,\"ticker\":{\"id\":\"1021\",\"type\":\"BasicTicker\"}},\"id\":\"1024\",\"type\":\"Grid\"},{\"attributes\":{\"source\":{\"id\":\"1003\",\"type\":\"ColumnDataSource\"}},\"id\":\"1071\",\"type\":\"CDSView\"},{\"attributes\":{\"bottom_units\":\"screen\",\"fill_alpha\":{\"value\":0.5},\"fill_color\":{\"value\":\"lightgrey\"},\"left_units\":\"screen\",\"level\":\"overlay\",\"line_alpha\":{\"value\":1.0},\"line_color\":{\"value\":\"black\"},\"line_dash\":[4,4],\"line_width\":{\"value\":2},\"render_mode\":\"css\",\"right_units\":\"screen\",\"top_units\":\"screen\"},\"id\":\"1050\",\"type\":\"BoxAnnotation\"},{\"attributes\":{\"days\":[1,4,7,10,13,16,19,22,25,28]},\"id\":\"1055\",\"type\":\"DaysTicker\"},{\"attributes\":{},\"id\":\"1025\",\"type\":\"PanTool\"},{\"attributes\":{\"level\":\"underlay\",\"size\":10},\"id\":\"1104\",\"type\":\"TeeHead\"},{\"attributes\":{\"days\":[1,8,15,22]},\"id\":\"1056\",\"type\":\"DaysTicker\"},{\"attributes\":{\"active_drag\":{\"id\":\"1025\",\"type\":\"PanTool\"},\"active_inspect\":\"auto\",\"active_multi\":null,\"active_scroll\":{\"id\":\"1026\",\"type\":\"WheelZoomTool\"},\"active_tap\":\"auto\",\"tools\":[{\"id\":\"1025\",\"type\":\"PanTool\"},{\"id\":\"1026\",\"type\":\"WheelZoomTool\"},{\"id\":\"1027\",\"type\":\"BoxZoomTool\"},{\"id\":\"1028\",\"type\":\"SaveTool\"},{\"id\":\"1029\",\"type\":\"ResetTool\"},{\"id\":\"1030\",\"type\":\"HelpTool\"},{\"id\":\"1038\",\"type\":\"HoverTool\"}]},\"id\":\"1031\",\"type\":\"Toolbar\"},{\"attributes\":{\"level\":\"underlay\",\"size\":10},\"id\":\"1078\",\"type\":\"TeeHead\"},{\"attributes\":{\"months\":[0,1,2,3,4,5,6,7,8,9,10,11]},\"id\":\"1058\",\"type\":\"MonthsTicker\"},{\"attributes\":{\"callback\":null},\"id\":\"1009\",\"type\":\"DataRange1d\"},{\"attributes\":{},\"id\":\"1021\",\"type\":\"BasicTicker\"},{\"attributes\":{\"ticker\":{\"id\":\"1016\",\"type\":\"DatetimeTicker\"}},\"id\":\"1019\",\"type\":\"Grid\"},{\"attributes\":{\"level\":\"underlay\",\"size\":10},\"id\":\"1105\",\"type\":\"TeeHead\"},{\"attributes\":{\"axis_label\":\"VEGAMAG\",\"formatter\":{\"id\":\"1046\",\"type\":\"BasicTickFormatter\"},\"ticker\":{\"id\":\"1021\",\"type\":\"BasicTicker\"}},\"id\":\"1020\",\"type\":\"LinearAxis\"},{\"attributes\":{\"callback\":null,\"tooltips\":[[\"Date\",\"(@obnames)\"]]},\"id\":\"1038\",\"type\":\"HoverTool\"},{\"attributes\":{\"callback\":null,\"data\":{\"VEGAMAG\":{\"__ndarray__\":\"rBxaZDufMUCamZmZmZkxQOXQItv5njFAJzEIrByaMUBQjZduEoMxQNNNYhBYeTFAKVyPwvWoMUBI4XoUrqcxQESLbOf7iTFADAIrhxZ5MUDVeOkmMYgxQMP1KFyPgjFAMzMzMzOTMUDl0CLb+Z4xQFK4HoXrkTFAcT0K16OwMUCTGARWDq0xQMdLN4lBoDFARIts5/upMUB/arx0k5gxQGQ730+NlzFABFYOLbJ9MUC28/3UeIkxQOF6FK5HgTFAdZMYBFauMUBg5dAi27kxQCUGgZVDqzFAWmQ730+tMUAdWmQ7368xQNejcD0KlzFATmIQWDmUMUArhxbZzpcxQDeJQWDlsDFAH4XrUbieMUBzaJHtfL8xQIPAyqFFljFABoGVQ4uMMUBeukkMAosxQKjGSzeJgTFAUI2XbhKDMUDhehSuR4ExQMdLN4lBgDFAPQrXo3CdMUAOLbKd74cxQBkEVg4tsjFAO99PjZeOMUC28/3UeIkxQOkmMQisfDFASgwCK4eWMUBCYOXQIpsxQLTIdr6fmjFAVOOlm8SgMUA730+Nl64xQGZmZmZmxjFAcT0K16OwMUAK16NwPYoxQPhT46WbhDFAEoPAyqGFMUA5tMh2vn8xQDVeukkMgjFADAIrhxZ5MUC0yHa+n3oxQL6fGi/dhDFAYOXQItuZMUCYbhKDwKoxQC/dJAaBlTFA/tR46SaRMUDTTWIQWJkxQFyPwvUonDFAeekmMQiMMUDByqFFtnMxQPyp8dJNgjFAgZVDi2yHMUCJQWDl0IIxQPyp8dJNojFAcT0K16NwMUAIrBxaZHsxQDEIrBxahDFAK4cW2c53MUDFILByaJExQMP1KFyPgjFABFYOLbJ9MUDdJAaBlYMxQMuhRbbzfTFAoBov3SSmMUArhxbZzpcxQEoMAiuHljFAaJHtfD+VMUAfhetRuJ4xQCGwcmiRjTFArBxaZDufMUBCYOXQInsxQKAaL90khjFArBxaZDt/MUAbL90kBqExQAwCK4cWmTFAcT0K16OwMUB3vp8aL50xQGq8dJMYpDFAz/dT46WbMUBaZDvfT60xQESLbOf7qTFAtMh2vp96MUAEVg4tsn0xQHsUrkfhejFAIbByaJGNMUB56SYxCIwxQGq8dJMYhDFAz/dT46WbMUD4U+Olm6QxQPhT46WbpDFA2/l+aryUMUC+nxov3aQxQJqZmZmZmTFAtMh2vp+aMUDl0CLb+Z4xQBsv3SQGoTFALbKd76eGMUDVeOkmMYgxQMuhRbbzfTFADi2yne+HMUA5tMh2vn8xQI2XbhKDgDFA/Knx0k2iMUBYObTIdp4xQLgehetRmDFA\",\"dtype\":\"float64\",\"shape\":[126]},\"errorsmag\":{\"__ndarray__\":\"/Knx0k1igD/8qfHSTWKAPzvfT42XboI/O99PjZdugj/8qfHSTWKAP/yp8dJNYoA/O99PjZdugj8730+Nl26CPzvfT42XboI//Knx0k1igD/8qfHSTWKAP/yp8dJNYoA/O99PjZdugj/8qfHSTWKAP/yp8dJNYoA/exSuR+F6hD+6SQwCK4eGP/yp8dJNYoA/O99PjZdugj8730+Nl26CP3sUrkfheoQ//Knx0k1igD/8qfHSTWKAP/yp8dJNYoA/exSuR+F6hD8730+Nl26CPzvfT42XboI/O99PjZdugj8730+Nl26CP/yp8dJNYoA//Knx0k1igD/8qfHSTWKAP3sUrkfheoQ/O99PjZdugj+6SQwCK4eGP/yp8dJNYoA//Knx0k1igD/8qfHSTWKAP/yp8dJNYoA//Knx0k1igD/8qfHSTWKAP/yp8dJNYoA/exSuR+F6hD/8qfHSTWKAP7pJDAIrh4Y//Knx0k1igD/8qfHSTWKAP/yp8dJNYoA//Knx0k1igD/8qfHSTWKAP/yp8dJNYoA/O99PjZdugj8730+Nl26CP3sUrkfheoQ/ukkMAiuHhj/8qfHSTWKAP/yp8dJNYoA//Knx0k1igD/8qfHSTWKAP/yp8dJNYoA//Knx0k1igD/8qfHSTWKAP/yp8dJNYoA/O99PjZdugj+6SQwCK4eGP/yp8dJNYoA//Knx0k1igD/8qfHSTWKAP/yp8dJNYoA//Knx0k1igD/8qfHSTWKAP/yp8dJNYoA//Knx0k1igD/8qfHSTWKAP3sUrkfheoQ//Knx0k1igD/8qfHSTWKAP/yp8dJNYoA//Knx0k1igD/8qfHSTWKAP/yp8dJNYoA//Knx0k1igD/8qfHSTWKAP/yp8dJNYoA/O99PjZdugj/8qfHSTWKAP/yp8dJNYoA//Knx0k1igD/8qfHSTWKAPzvfT42XboI/exSuR+F6hD/8qfHSTWKAP/yp8dJNYoA//Knx0k1igD97FK5H4XqEP/yp8dJNYoA/exSuR+F6hD97FK5H4XqEP/yp8dJNYoA/exSuR+F6hD8730+Nl26CPzvfT42XboI/exSuR+F6hD/8qfHSTWKAP/yp8dJNYoA/exSuR+F6hD/8qfHSTWKAP/yp8dJNYoA/exSuR+F6hD8730+Nl26CPzvfT42XboI/exSuR+F6hD8730+Nl26CP/yp8dJNYoA/exSuR+F6hD8730+Nl26CPzvfT42XboI/exSuR+F6hD/8qfHSTWKAP/yp8dJNYoA/exSuR+F6hD/8qfHSTWKAP/yp8dJNYoA/exSuR+F6hD/8qfHSTWKAP/yp8dJNYoA/\",\"dtype\":\"float64\",\"shape\":[126]},\"lower\":{\"__ndarray__\":\"d76fGi+dMUBlO99PjZcxQOkmMQisnDFAK4cW2c6XMUAbL90kBoExQJ7vp8ZLdzFALbKd76emMUBMN4lBYKUxQEjhehSuhzFA16NwPQp3MUCgGi/dJIYxQI6XbhKDgDFAN4lBYOWQMUCwcmiR7ZwxQB1aZDvfjzFArkfhehSuMUAK16NwPaoxQJLtfD81njFASOF6FK6nMUCDwMqhRZYxQKFFtvP9lDFAz/dT46V7MUCBlUOLbIcxQKwcWmQ7fzFAsp3vp8arMUBkO99PjbcxQClcj8L1qDFAXrpJDAKrMUAhsHJoka0xQKJFtvP9lDFAGQRWDi2SMUD2KFyPwpUxQHSTGARWrjFAI9v5fmqcMUDqJjEIrLwxQE5iEFg5lDFA0SLb+X6KMUApXI/C9YgxQHNoke18fzFAGy/dJAaBMUCsHFpkO38xQJLtfD81fjFAehSuR+GaMUDZzvdT44UxQJDC9ShcrzFABoGVQ4uMMUCBlUOLbIcxQLTIdr6fejFAFa5H4XqUMUANAiuHFpkxQH9qvHSTmDFAWDm0yHaeMUA/NV66SawxQKNwPQrXwzFA6Pup8dKtMUDVeOkmMYgxQMP1KFyPgjFA3SQGgZWDMUAEVg4tsn0xQAAAAAAAgDFA16NwPQp3MUB/arx0k3gxQIlBYOXQgjFAZDvfT42XMUAPLbKd76cxQPp+arx0kzFAyXa+nxqPMUCe76fGS5cxQCcxCKwcmjFARIts5/uJMUCMbOf7qXExQMdLN4lBgDFATDeJQWCFMUBU46WbxIAxQDm0yHa+nzFAPN9PjZduMUDTTWIQWHkxQPyp8dJNgjFA9ihcj8J1MUCQwvUoXI8xQI6XbhKDgDFAz/dT46V7MUCoxks3iYExQJZDi2znezFApHA9CtejMUD2KFyPwpUxQBWuR+F6lDFAMzMzMzOTMUDqJjEIrJwxQCUGgZVDizFA6SYxCKycMUANAiuHFnkxQGu8dJMYhDFAd76fGi99MUBYObTIdp4xQNejcD0KlzFArkfhehSuMUC0yHa+n5oxQDVeukkMojFADAIrhxaZMUBeukkMAqsxQEjhehSupzFA8dJNYhB4MUDP91PjpXsxQEa28/3UeDFAXrpJDAKLMUBEi2zn+4kxQDVeukkMgjFADAIrhxaZMUD8qfHSTaIxQPyp8dJNojFAGARWDi2SMUDC9Shcj6IxQGU730+NlzFA8dJNYhCYMUDpJjEIrJwxQB+F61G4njFAarx0kxiEMUCgGi/dJIYxQJZDi2znezFASzeJQWCFMUAEVg4tsn0xQFg5tMh2fjFAObTIdr6fMUAj2/l+apwxQIPAyqFFljFA\",\"dtype\":\"float64\",\"shape\":[126]},\"name\":[\"737\",\"737\",\"737\",\"737\",\"737\",\"737\",\"737\",\"737\",\"737\",\"737\",\"737\",\"737\",\"737\",\"737\",\"737\",\"737\",\"737\",\"737\",\"737\",\"737\",\"737\",\"737\",\"737\",\"737\",\"737\",\"737\",\"737\",\"737\",\"737\",\"737\",\"737\",\"737\",\"737\",\"737\",\"737\",\"737\",\"737\",\"737\",\"737\",\"737\",\"737\",\"737\",\"737\",\"737\",\"737\",\"737\",\"737\",\"737\",\"737\",\"737\",\"737\",\"737\",\"737\",\"737\",\"737\",\"737\",\"737\",\"737\",\"737\",\"737\",\"737\",\"737\",\"737\",\"737\",\"737\",\"737\",\"737\",\"737\",\"737\",\"737\",\"737\",\"737\",\"737\",\"737\",\"737\",\"737\",\"737\",\"737\",\"737\",\"737\",\"737\",\"737\",\"737\",\"737\",\"737\",\"737\",\"737\",\"737\",\"737\",\"737\",\"737\",\"737\",\"737\",\"737\",\"737\",\"737\",\"737\",\"737\",\"737\",\"737\",\"737\",\"737\",\"737\",\"737\",\"737\",\"737\",\"737\",\"737\",\"737\",\"737\",\"737\",\"737\",\"737\",\"737\",\"737\",\"737\",\"737\",\"737\",\"737\",\"737\",\"737\",\"737\",\"737\",\"737\",\"737\",\"737\"],\"obnames\":[[\"2005-04-03T21:47:16\"],[\"2005-04-03T23:24:16\"],[\"2005-04-04T01:00:16\"],[\"2005-03-31T18:40:16\"],[\"2005-03-31T20:16:16\"],[\"2005-03-31T21:52:16\"],[\"2005-03-25T04:26:16\"],[\"2005-03-25T06:00:16\"],[\"2005-03-31T23:28:16\"],[\"2005-04-01T01:04:16\"],[\"2005-04-01T02:40:16\"],[\"2005-04-01T04:15:16\"],[\"2005-03-31T02:41:16\"],[\"2005-03-31T04:17:16\"],[\"2005-03-20T20:28:16\"],[\"2005-03-20T22:02:16\"],[\"2005-03-24T21:59:16\"],[\"2005-03-24T23:36:16\"],[\"2005-03-25T01:12:16\"],[\"2005-03-25T02:48:16\"],[\"2005-03-26T04:22:16\"],[\"2005-03-26T05:59:16\"],[\"2005-03-27T20:21:16\"],[\"2005-03-27T21:57:16\"],[\"2005-03-13T10:36:16\"],[\"2005-03-13T12:07:16\"],[\"2005-03-13T13:43:16\"],[\"2005-03-13T15:19:16\"],[\"2005-03-13T16:55:16\"],[\"2005-03-16T23:35:16\"],[\"2005-03-17T01:03:16\"],[\"2005-03-17T02:35:16\"],[\"2005-03-17T04:08:16\"],[\"2005-03-17T05:44:16\"],[\"2005-03-17T17:08:16\"],[\"2005-03-17T18:44:16\"],[\"2005-03-17T20:20:16\"],[\"2005-03-17T21:57:16\"],[\"2005-03-17T23:33:16\"],[\"2005-03-18T01:18:16\"],[\"2005-03-18T02:46:16\"],[\"2005-03-18T04:22:16\"],[\"2005-03-18T05:58:16\"],[\"2005-03-18T07:34:16\"],[\"2005-03-18T18:49:16\"],[\"2005-03-18T20:24:16\"],[\"2005-03-18T22:00:16\"],[\"2005-03-18T23:36:16\"],[\"2005-03-19T01:12:16\"],[\"2005-03-19T02:53:16\"],[\"2005-03-19T04:25:16\"],[\"2005-03-19T06:01:16\"],[\"2005-03-19T07:37:16\"],[\"2005-03-19T09:13:16\"],[\"2005-03-19T18:49:16\"],[\"2005-03-19T20:25:16\"],[\"2005-03-19T22:02:16\"],[\"2005-03-19T23:38:16\"],[\"2005-03-20T01:14:16\"],[\"2005-03-22T01:18:16\"],[\"2005-03-22T02:50:16\"],[\"2005-03-22T04:26:16\"],[\"2005-03-22T06:02:16\"],[\"2005-03-22T07:38:16\"],[\"2005-03-22T20:29:16\"],[\"2005-03-22T22:01:16\"],[\"2005-03-22T23:37:16\"],[\"2005-03-23T01:13:16\"],[\"2005-03-23T02:49:16\"],[\"2005-03-23T20:27:16\"],[\"2005-03-23T22:01:16\"],[\"2005-03-23T23:37:16\"],[\"2005-03-24T01:13:16\"],[\"2005-03-24T02:49:16\"],[\"2005-03-25T20:24:16\"],[\"2005-03-25T21:59:16\"],[\"2005-03-25T23:35:16\"],[\"2005-03-26T01:11:16\"],[\"2005-03-26T02:47:16\"],[\"2005-04-04T16:58:16\"],[\"2005-04-04T18:35:16\"],[\"2005-04-04T20:11:16\"],[\"2005-04-04T21:47:16\"],[\"2005-04-04T23:23:16\"],[\"2005-03-30T18:42:16\"],[\"2005-03-30T20:17:16\"],[\"2005-03-30T21:53:16\"],[\"2005-03-30T23:29:16\"],[\"2005-03-31T01:05:16\"],[\"2005-04-08T15:16:16\"],[\"2005-04-08T16:53:16\"],[\"2005-04-08T18:29:16\"],[\"2005-04-08T20:05:16\"],[\"2005-04-08T21:41:16\"],[\"2005-04-05T18:34:16\"],[\"2005-04-05T20:09:16\"],[\"2005-04-05T21:45:16\"],[\"2005-04-07T23:19:16\"],[\"2005-04-08T00:54:16\"],[\"2005-03-17T07:42:16\"],[\"2005-03-17T08:56:16\"],[\"2005-03-17T10:32:16\"],[\"2005-03-20T02:54:16\"],[\"2005-03-20T04:26:16\"],[\"2005-03-20T06:02:16\"],[\"2005-03-21T20:29:16\"],[\"2005-03-21T22:02:16\"],[\"2005-03-21T23:38:16\"],[\"2005-03-23T04:27:16\"],[\"2005-03-23T06:01:16\"],[\"2005-03-23T07:37:16\"],[\"2005-03-26T20:23:16\"],[\"2005-03-26T21:58:16\"],[\"2005-03-26T23:34:16\"],[\"2005-03-27T01:11:16\"],[\"2005-03-27T02:46:16\"],[\"2005-03-27T04:22:16\"],[\"2005-04-02T23:27:16\"],[\"2005-04-03T01:01:16\"],[\"2005-04-03T02:37:16\"],[\"2005-04-02T18:39:16\"],[\"2005-04-02T20:13:16\"],[\"2005-04-02T21:49:16\"],[\"2005-04-03T17:01:16\"],[\"2005-04-03T18:36:16\"],[\"2005-04-03T20:12:16\"]],\"time\":{\"__ndarray__\":\"AABqgqAwcEIAAFAPpjBwQgAAkI2rMHBCAADonZ4vcEIAACgcpC9wQgAAaJqpL3BCAACkXX8tcEIAAJi+hC1wQgAAqBivL3BCAADolrQvcEIAACgVui9wQgAAwoS/L3BCAAAOvmcvcEIAAE48bS9wQgAAsGwaLHBCAACkzR8scEIAALI4aS1wQgAAmMVuLXBCAADYQ3QtcEIAABjCeS1wQgAAzIjRLXBCAACyFdctcEIAAGbOWi5wQgAApkxgLnBCAACQxLcpcEIAAJL5vClwQgAA0nfCKXBCAAAS9scpcEIAAFJ0zSlwQgAA8ojbKnBCAAACkuAqcEIAAKrV5SpwQgAA+CfrKnBCAAA4pvAqcEIAAMDJFytwQgAAAEgdK3BCAABAxiIrcEIAACZTKCtwQgAAZtEtK3BCAAB80zMrcEIAAIzcOCtwQgAAzFo+K3BCAAAM2UMrcEIAAExXSStwQgAA/vZvK3BCAACYZnUrcEIAANjkeitwQgAAGGOAK3BCAABY4YUrcEIAANaoiytwQgAAfuyQK3BCAAC+apYrcEIAAP7omytwQgAAPmehK3BCAAC+XMIrcEIAAP7axytwQgAA5GfNK3BCAAAk5tIrcEIAAGRk2CtwQgAAfGp9LHBCAAAkroIscEIAAGQsiCxwQgAApKqNLHBCAADkKJMscEIAANZGvyxwQgAAforELHBCAAC+CMoscEIAAP6GzyxwQgAAPgXVLHBCAABKjxEtcEIAAD7wFi1wQgAAfm4cLXBCAAC+7CEtcEIAAP5qJy1wQgAA2C62LXBCAABynrstcEIAALIcwS1wQgAA8prGLXBCAAAyGcwtcEIAAMRe4jBwQgAAquvnMHBCAADqae0wcEIAACro8jBwQgAAamb4MHBCAAB0VUwvcEIAAA7FUS9wQgAATkNXL3BCAACOwVwvcEIAAM4/Yi9wQgAAoB8mMnBCAACGrCsycEIAAMYqMTJwQgAABqk2MnBCAABGJzwycEIAAMRCOjFwQgAAXrI/MXBCAACeMEUxcEIAABJd7zFwQgAArMz0MXBCAAC8ZvcqcEIAALii+ypwQgAA+CABK3BCAAA8Hd4rcEIAAORg4ytwQgAAJN/oK3BCAAAW4WwscEIAAGQzcixwQgAApLF3LHBCAADKoNoscEIAAL4B4CxwQgAA/n/lLHBCAADyhQgucEIAAIz1DS5wQgAAzHMTLnBCAACyABkucEIAAExwHi5wQgAAjO4jLnBCAACC1VMwcEIAAHY2WTBwQgAAtrReMHBCAADCWkMwcEIAALa7SDBwQgAA9jlOMHBCAAD2JJAwcEIAAJCUlTBwQgAA0BKbMHBC\",\"dtype\":\"float64\",\"shape\":[126,1]},\"upper\":{\"__ndarray__\":\"4XoUrkehMUDP91PjpZsxQOF6FK5HoTFAI9v5fmqcMUCF61G4HoUxQAisHFpkezFAJQaBlUOrMUBEi2zn+6kxQEA1XrpJjDFAQWDl0CJ7MUAK16NwPYoxQPhT46WbhDFAL90kBoGVMUAaL90kBqExQIcW2c73kzFANDMzMzOzMUAcWmQ7368xQPyp8dJNojFAQDVeukmsMUB7FK5H4ZoxQCcxCKwcmjFAObTIdr5/MUDrUbgehYsxQBbZzvdTgzFAOIlBYOWwMUBcj8L1KLwxQCGwcmiRrTFAVg4tsp2vMUAZBFYOLbIxQAwCK4cWmTFAg8DKoUWWMUBg5dAi25kxQPp+arx0szFAGy/dJAahMUD8qfHSTcIxQLgehetRmDFAO99PjZeOMUCTGARWDo0xQN0kBoGVgzFAhetRuB6FMUAW2c73U4MxQPyp8dJNgjFAAAAAAACgMUBDi2zn+4kxQKJFtvP9tDFAcD0K16OQMUDrUbgehYsxQB6F61G4fjFAf2q8dJOYMUB3vp8aL50xQOkmMQisnDFAUI2XbhKjMUA3iUFg5bAxQClcj8L1yDFA+n5qvHSzMUA/NV66SYwxQC2yne+nhjFAR+F6FK6HMUBuEoPAyoExQGq8dJMYhDFAQWDl0CJ7MUDpJjEIrHwxQPP91HjphjFAXI/C9SicMUAhsHJoka0xQGQ730+NlzFAMzMzMzOTMUAIrBxaZJsxQJHtfD81njFArkfhehSOMUD2KFyPwnUxQDEIrBxahDFAtvP91HiJMUC+nxov3YQxQL+fGi/dpDFAppvEILByMUA9CtejcH0xQGZmZmZmhjFAYOXQItt5MUD6fmq8dJMxQPhT46WbhDFAObTIdr5/MUASg8DKoYUxQAAAAAAAgDFAnMQgsHKoMUBg5dAi25kxQH9qvHSTmDFAne+nxkuXMUBU46WbxKAxQB1aZDvfjzFAbxKDwMqhMUB3vp8aL30xQNV46SYxiDFA4XoUrkeBMUDeJAaBlaMxQEFg5dAimzFANDMzMzOzMUA6tMh2vp8xQJ8aL90kpjFAku18PzWeMUBWDi2yna8xQEA1XrpJrDFAd76fGi99MUA5tMh2vn8xQLByaJHtfDFA5KWbxCCQMUCuR+F6FI4xQJ8aL90khjFAku18PzWeMUD0/dR46aYxQPT91HjppjFAnu+nxkuXMUC6SQwCK6cxQM/3U+OlmzFAd76fGi+dMUDhehSuR6ExQBfZzvdTozFA8KfGSzeJMUAK16NwPYoxQAAAAAAAgDFA0SLb+X6KMUBuEoPAyoExQML1KFyPgjFAv58aL92kMUCNl24Sg6AxQO18PzVemjFA\",\"dtype\":\"float64\",\"shape\":[126]}},\"selected\":{\"id\":\"1121\",\"type\":\"Selection\"},\"selection_policy\":{\"id\":\"1122\",\"type\":\"UnionRenderers\"}},\"id\":\"1003\",\"type\":\"ColumnDataSource\"},{\"attributes\":{},\"id\":\"1122\",\"type\":\"UnionRenderers\"},{\"attributes\":{\"callback\":null,\"data\":{\"VEGAMAG\":{\"__ndarray__\":\"hetRuB6FMEApXI/C9YgwQH0/NV66iTBAN4lBYOWQMEDD9Shcj4IwQK5H4XoUjjBAUI2XbhKDMEBeukkMAoswQJhuEoPAijBAMQisHFqEMEASg8DKoYUwQPCnxks3iTBARIts5/uJMECJQWDl0IIwQMP1KFyPgjBAukkMAiuHMEAK16NwPYowQIlBYOXQgjBAqMZLN4mBMEBEi2zn+4kwQL6fGi/dhDBAF9nO91ODMECJQWDl0IIwQOf7qfHSjTBAgZVDi2yHMEACK4cW2Y4wQN9PjZdukjBA+n5qvHSTMEApXI/C9YgwQDEIrBxahDBAzczMzMyMMED0/dR46YYwQKAaL90khjBAXI/C9Sh8MEB56SYxCIwwQN0kBoGVgzBAYhBYObSIMECoxks3iYEwQFYOLbKdjzBApHA9CteDMEA/NV66SYwwQF66SQwCizBAYhBYObSIMEDLoUW2830wQGIQWDm0iDBAhetRuB6FMECyne+nxoswQGZmZmZmhjBAO99PjZeOMEDLoUW2830wQCUGgZVDizBAYhBYObSIMEAxCKwcWoQwQLpJDAIrhzBAZmZmZmaGMED0/dR46YYwQBsv3SQGgTBAj8L1KFyPMECkcD0K14MwQMP1KFyPgjBAzczMzMyMMEC6SQwCK4cwQN0kBoGVgzBAgZVDi2yHMEAtsp3vp4YwQIXrUbgehTBA7FG4HoWLMEAK16NwPYowQKRwPQrXgzBAw/UoXI+CMEDRItv5foowQA4tsp3vhzBAYhBYObSIMEAj2/l+anwwQArXo3A9ijBAEoPAyqGFMEDJdr6fGo8wQCGwcmiRjTBADAIrhxaZMECkcD0K14MwQJhuEoPAijBAtvP91HiJMEDn+6nx0o0wQKwcWmQ7fzBAAiuHFtmOMEDdJAaBlYMwQK5H4XoUbjBAyXa+nxqPMECPwvUoXI8wQKRwPQrXgzBATmIQWDmUMEB1kxgEVm4wQPp+arx0kzBAy6FFtvN9MEA730+Nl44wQDm0yHa+fzBAIbByaJGNMEBWDi2ynY8wQLx0kxgEljBAgZVDi2yHMEC+nxov3YQwQBBYObTIdjBAyXa+nxqPMEB1kxgEVo4wQG3n+6nxkjBACtejcD2KMEBiEFg5tIgwQKjGSzeJgTBAyXa+nxqPMEA/NV66SYwwQGiR7Xw/lTBAIbByaJGNMECkcD0K14MwQMP1KFyPgjBAPzVeukmMMEDn+6nx0o0wQE5iEFg5lDBACtejcD2KMEBEi2zn+4kwQHNoke18fzBAarx0kxiEMEDjpZvEIJAwQBSuR+F6lDBA8KfGSzeJMEDVeOkmMYgwQIlBYOXQgjBA\",\"dtype\":\"float64\",\"shape\":[126]},\"errorsmag\":{\"__ndarray__\":\"exSuR+F6dD97FK5H4Xp0P3sUrkfhenQ/exSuR+F6dD97FK5H4Xp0P3sUrkfhenQ/exSuR+F6dD97FK5H4Xp0P3sUrkfhenQ/exSuR+F6dD97FK5H4Xp0P3sUrkfhenQ/exSuR+F6dD97FK5H4Xp0P3sUrkfhenQ/exSuR+F6dD97FK5H4Xp0P3sUrkfhenQ/exSuR+F6dD97FK5H4Xp0P3sUrkfhenQ/exSuR+F6dD97FK5H4Xp0P3sUrkfhenQ/exSuR+F6dD97FK5H4Xp0P3sUrkfhenQ/exSuR+F6dD97FK5H4Xp0P3sUrkfhenQ/exSuR+F6dD97FK5H4Xp0P3sUrkfhenQ/exSuR+F6dD97FK5H4Xp0P3sUrkfhenQ/exSuR+F6dD97FK5H4Xp0P3sUrkfhenQ/exSuR+F6dD97FK5H4Xp0P3sUrkfhenQ/exSuR+F6dD97FK5H4Xp0P3sUrkfhenQ/exSuR+F6dD97FK5H4Xp0P3sUrkfhenQ/exSuR+F6dD97FK5H4Xp0P3sUrkfhenQ/exSuR+F6dD97FK5H4Xp0P3sUrkfhenQ/exSuR+F6dD97FK5H4Xp0P3sUrkfhenQ/exSuR+F6dD97FK5H4Xp0P3sUrkfhenQ/exSuR+F6dD97FK5H4Xp0P3sUrkfhenQ/exSuR+F6dD97FK5H4Xp0P3sUrkfhenQ/exSuR+F6dD97FK5H4Xp0P3sUrkfhenQ/exSuR+F6dD97FK5H4Xp0P3sUrkfhenQ/exSuR+F6dD97FK5H4Xp0P3sUrkfhenQ/exSuR+F6dD97FK5H4Xp0P3sUrkfhenQ/exSuR+F6dD97FK5H4Xp0P3sUrkfhenQ/exSuR+F6dD97FK5H4Xp0P3sUrkfhenQ/exSuR+F6dD97FK5H4Xp0P3sUrkfhenQ/exSuR+F6dD97FK5H4Xp0P3sUrkfhenQ/exSuR+F6dD97FK5H4Xp0P3sUrkfhenQ/exSuR+F6dD/6fmq8dJN4P3sUrkfhenQ/exSuR+F6dD/6fmq8dJN4P3sUrkfhenQ/+n5qvHSTeD97FK5H4Xp0P3sUrkfhenQ/+n5qvHSTeD97FK5H4Xp0P3sUrkfhenQ/+n5qvHSTeD97FK5H4Xp0P3sUrkfhenQ/+n5qvHSTeD97FK5H4Xp0P3sUrkfhenQ/+n5qvHSTeD97FK5H4Xp0P3sUrkfhenQ/+n5qvHSTeD97FK5H4Xp0P3sUrkfhenQ/+n5qvHSTeD97FK5H4Xp0P3sUrkfhenQ/+n5qvHSTeD97FK5H4Xp0P3sUrkfhenQ/+n5qvHSTeD97FK5H4Xp0P3sUrkfhenQ/\",\"dtype\":\"float64\",\"shape\":[126]},\"lower\":{\"__ndarray__\":\"pHA9CteDMEBI4XoUrocwQJzEILByiDBAVg4tsp2PMEDiehSuR4EwQM3MzMzMjDBAbxKDwMqBMEB9PzVeuokwQLfz/dR4iTBAUI2XbhKDMEAxCKwcWoQwQA8tsp3vhzBAYxBYObSIMECoxks3iYEwQOJ6FK5HgTBA2c73U+OFMEApXI/C9YgwQKjGSzeJgTBAx0s3iUGAMEBjEFg5tIgwQN0kBoGVgzBANl66SQyCMECoxks3iYEwQAaBlUOLjDBAoBov3SSGMEAhsHJokY0wQP7UeOkmkTBAGQRWDi2SMEBI4XoUrocwQFCNl24SgzBA7FG4HoWLMEATg8DKoYUwQL+fGi/dhDBAexSuR+F6MECYbhKDwIowQPyp8dJNgjBAgZVDi2yHMEDHSzeJQYAwQHWTGARWjjBAw/UoXI+CMEBeukkMAoswQH0/NV66iTBAgZVDi2yHMEDqJjEIrHwwQIGVQ4tshzBApHA9CteDMEDRItv5foowQIXrUbgehTBAWmQ730+NMEDqJjEIrHwwQESLbOf7iTBAgZVDi2yHMEBQjZduEoMwQNnO91PjhTBAhetRuB6FMEATg8DKoYUwQDq0yHa+fzBArkfhehSOMEDD9Shcj4IwQOJ6FK5HgTBA7FG4HoWLMEDZzvdT44UwQPyp8dJNgjBAoBov3SSGMEBMN4lBYIUwQKRwPQrXgzBAC9ejcD2KMEApXI/C9YgwQMP1KFyPgjBA4noUrkeBMEDwp8ZLN4kwQC2yne+nhjBAgZVDi2yHMEBCYOXQInswQClcj8L1iDBAMQisHFqEMEDo+6nx0o0wQEA1XrpJjDBAK4cW2c6XMEDD9Shcj4IwQLfz/dR4iTBA1XjpJjGIMEAGgZVDi4wwQMuhRbbzfTBAIbByaJGNMED8qfHSTYIwQM3MzMzMbDBA6Pup8dKNMECuR+F6FI4wQMP1KFyPgjBAbef7qfGSMECUGARWDm0wQBkEVg4tkjBA6iYxCKx8MECTGARWDo0wQFg5tMh2fjBAQDVeukmMMECuR+F6FI4wQNv5fmq8lDBA2c73U+OFMEDdJAaBlYMwQC/dJAaBdTBAIbByaJGNMECUGARWDo0wQIxs5/upkTBAYhBYObSIMECBlUOLbIcwQMdLN4lBgDBAIbByaJGNMEBeukkMAoswQIcW2c73kzBAeekmMQiMMEDD9Shcj4IwQOJ6FK5HgTBAl24Sg8CKMEAGgZVDi4wwQG3n+6nxkjBAYhBYObSIMEBjEFg5tIgwQJLtfD81fjBAwvUoXI+CMEACK4cW2Y4wQDMzMzMzkzBASOF6FK6HMED0/dR46YYwQKjGSzeJgTBA\",\"dtype\":\"float64\",\"shape\":[126]},\"name\":[\"230\",\"230\",\"230\",\"230\",\"230\",\"230\",\"230\",\"230\",\"230\",\"230\",\"230\",\"230\",\"230\",\"230\",\"230\",\"230\",\"230\",\"230\",\"230\",\"230\",\"230\",\"230\",\"230\",\"230\",\"230\",\"230\",\"230\",\"230\",\"230\",\"230\",\"230\",\"230\",\"230\",\"230\",\"230\",\"230\",\"230\",\"230\",\"230\",\"230\",\"230\",\"230\",\"230\",\"230\",\"230\",\"230\",\"230\",\"230\",\"230\",\"230\",\"230\",\"230\",\"230\",\"230\",\"230\",\"230\",\"230\",\"230\",\"230\",\"230\",\"230\",\"230\",\"230\",\"230\",\"230\",\"230\",\"230\",\"230\",\"230\",\"230\",\"230\",\"230\",\"230\",\"230\",\"230\",\"230\",\"230\",\"230\",\"230\",\"230\",\"230\",\"230\",\"230\",\"230\",\"230\",\"230\",\"230\",\"230\",\"230\",\"230\",\"230\",\"230\",\"230\",\"230\",\"230\",\"230\",\"230\",\"230\",\"230\",\"230\",\"230\",\"230\",\"230\",\"230\",\"230\",\"230\",\"230\",\"230\",\"230\",\"230\",\"230\",\"230\",\"230\",\"230\",\"230\",\"230\",\"230\",\"230\",\"230\",\"230\",\"230\",\"230\",\"230\",\"230\",\"230\",\"230\"],\"obnames\":[[\"2005-04-03T21:47:16\"],[\"2005-04-03T23:24:16\"],[\"2005-04-04T01:00:16\"],[\"2005-03-31T18:40:16\"],[\"2005-03-31T20:16:16\"],[\"2005-03-31T21:52:16\"],[\"2005-03-25T04:26:16\"],[\"2005-03-25T06:00:16\"],[\"2005-03-31T23:28:16\"],[\"2005-04-01T01:04:16\"],[\"2005-04-01T02:40:16\"],[\"2005-04-01T04:15:16\"],[\"2005-03-31T02:41:16\"],[\"2005-03-31T04:17:16\"],[\"2005-03-20T20:28:16\"],[\"2005-03-20T22:02:16\"],[\"2005-03-24T21:59:16\"],[\"2005-03-24T23:36:16\"],[\"2005-03-25T01:12:16\"],[\"2005-03-25T02:48:16\"],[\"2005-03-26T04:22:16\"],[\"2005-03-26T05:59:16\"],[\"2005-03-27T20:21:16\"],[\"2005-03-27T21:57:16\"],[\"2005-03-13T10:36:16\"],[\"2005-03-13T12:07:16\"],[\"2005-03-13T13:43:16\"],[\"2005-03-13T15:19:16\"],[\"2005-03-13T16:55:16\"],[\"2005-03-16T23:35:16\"],[\"2005-03-17T01:03:16\"],[\"2005-03-17T02:35:16\"],[\"2005-03-17T04:08:16\"],[\"2005-03-17T05:44:16\"],[\"2005-03-17T17:08:16\"],[\"2005-03-17T18:44:16\"],[\"2005-03-17T20:20:16\"],[\"2005-03-17T21:57:16\"],[\"2005-03-17T23:33:16\"],[\"2005-03-18T01:18:16\"],[\"2005-03-18T02:46:16\"],[\"2005-03-18T04:22:16\"],[\"2005-03-18T05:58:16\"],[\"2005-03-18T07:34:16\"],[\"2005-03-18T18:49:16\"],[\"2005-03-18T20:24:16\"],[\"2005-03-18T22:00:16\"],[\"2005-03-18T23:36:16\"],[\"2005-03-19T01:12:16\"],[\"2005-03-19T02:53:16\"],[\"2005-03-19T04:25:16\"],[\"2005-03-19T06:01:16\"],[\"2005-03-19T07:37:16\"],[\"2005-03-19T09:13:16\"],[\"2005-03-19T18:49:16\"],[\"2005-03-19T20:25:16\"],[\"2005-03-19T22:02:16\"],[\"2005-03-19T23:38:16\"],[\"2005-03-20T01:14:16\"],[\"2005-03-22T01:18:16\"],[\"2005-03-22T02:50:16\"],[\"2005-03-22T04:26:16\"],[\"2005-03-22T06:02:16\"],[\"2005-03-22T07:38:16\"],[\"2005-03-22T20:29:16\"],[\"2005-03-22T22:01:16\"],[\"2005-03-22T23:37:16\"],[\"2005-03-23T01:13:16\"],[\"2005-03-23T02:49:16\"],[\"2005-03-23T20:27:16\"],[\"2005-03-23T22:01:16\"],[\"2005-03-23T23:37:16\"],[\"2005-03-24T01:13:16\"],[\"2005-03-24T02:49:16\"],[\"2005-03-25T20:24:16\"],[\"2005-03-25T21:59:16\"],[\"2005-03-25T23:35:16\"],[\"2005-03-26T01:11:16\"],[\"2005-03-26T02:47:16\"],[\"2005-04-04T16:58:16\"],[\"2005-04-04T18:35:16\"],[\"2005-04-04T20:11:16\"],[\"2005-04-04T21:47:16\"],[\"2005-04-04T23:23:16\"],[\"2005-03-30T18:42:16\"],[\"2005-03-30T20:17:16\"],[\"2005-03-30T21:53:16\"],[\"2005-03-30T23:29:16\"],[\"2005-03-31T01:05:16\"],[\"2005-04-08T15:16:16\"],[\"2005-04-08T16:53:16\"],[\"2005-04-08T18:29:16\"],[\"2005-04-08T20:05:16\"],[\"2005-04-08T21:41:16\"],[\"2005-04-05T18:34:16\"],[\"2005-04-05T20:09:16\"],[\"2005-04-05T21:45:16\"],[\"2005-04-07T23:19:16\"],[\"2005-04-08T00:54:16\"],[\"2005-03-17T07:42:16\"],[\"2005-03-17T08:56:16\"],[\"2005-03-17T10:32:16\"],[\"2005-03-20T02:54:16\"],[\"2005-03-20T04:26:16\"],[\"2005-03-20T06:02:16\"],[\"2005-03-21T20:29:16\"],[\"2005-03-21T22:02:16\"],[\"2005-03-21T23:38:16\"],[\"2005-03-23T04:27:16\"],[\"2005-03-23T06:01:16\"],[\"2005-03-23T07:37:16\"],[\"2005-03-26T20:23:16\"],[\"2005-03-26T21:58:16\"],[\"2005-03-26T23:34:16\"],[\"2005-03-27T01:11:16\"],[\"2005-03-27T02:46:16\"],[\"2005-03-27T04:22:16\"],[\"2005-04-02T23:27:16\"],[\"2005-04-03T01:01:16\"],[\"2005-04-03T02:37:16\"],[\"2005-04-02T18:39:16\"],[\"2005-04-02T20:13:16\"],[\"2005-04-02T21:49:16\"],[\"2005-04-03T17:01:16\"],[\"2005-04-03T18:36:16\"],[\"2005-04-03T20:12:16\"]],\"time\":{\"__ndarray__\":\"AABqgqAwcEIAAFAPpjBwQgAAkI2rMHBCAADonZ4vcEIAACgcpC9wQgAAaJqpL3BCAACkXX8tcEIAAJi+hC1wQgAAqBivL3BCAADolrQvcEIAACgVui9wQgAAwoS/L3BCAAAOvmcvcEIAAE48bS9wQgAAsGwaLHBCAACkzR8scEIAALI4aS1wQgAAmMVuLXBCAADYQ3QtcEIAABjCeS1wQgAAzIjRLXBCAACyFdctcEIAAGbOWi5wQgAApkxgLnBCAACQxLcpcEIAAJL5vClwQgAA0nfCKXBCAAAS9scpcEIAAFJ0zSlwQgAA8ojbKnBCAAACkuAqcEIAAKrV5SpwQgAA+CfrKnBCAAA4pvAqcEIAAMDJFytwQgAAAEgdK3BCAABAxiIrcEIAACZTKCtwQgAAZtEtK3BCAAB80zMrcEIAAIzcOCtwQgAAzFo+K3BCAAAM2UMrcEIAAExXSStwQgAA/vZvK3BCAACYZnUrcEIAANjkeitwQgAAGGOAK3BCAABY4YUrcEIAANaoiytwQgAAfuyQK3BCAAC+apYrcEIAAP7omytwQgAAPmehK3BCAAC+XMIrcEIAAP7axytwQgAA5GfNK3BCAAAk5tIrcEIAAGRk2CtwQgAAfGp9LHBCAAAkroIscEIAAGQsiCxwQgAApKqNLHBCAADkKJMscEIAANZGvyxwQgAAforELHBCAAC+CMoscEIAAP6GzyxwQgAAPgXVLHBCAABKjxEtcEIAAD7wFi1wQgAAfm4cLXBCAAC+7CEtcEIAAP5qJy1wQgAA2C62LXBCAABynrstcEIAALIcwS1wQgAA8prGLXBCAAAyGcwtcEIAAMRe4jBwQgAAquvnMHBCAADqae0wcEIAACro8jBwQgAAamb4MHBCAAB0VUwvcEIAAA7FUS9wQgAATkNXL3BCAACOwVwvcEIAAM4/Yi9wQgAAoB8mMnBCAACGrCsycEIAAMYqMTJwQgAABqk2MnBCAABGJzwycEIAAMRCOjFwQgAAXrI/MXBCAACeMEUxcEIAABJd7zFwQgAArMz0MXBCAAC8ZvcqcEIAALii+ypwQgAA+CABK3BCAAA8Hd4rcEIAAORg4ytwQgAAJN/oK3BCAAAW4WwscEIAAGQzcixwQgAApLF3LHBCAADKoNoscEIAAL4B4CxwQgAA/n/lLHBCAADyhQgucEIAAIz1DS5wQgAAzHMTLnBCAACyABkucEIAAExwHi5wQgAAjO4jLnBCAACC1VMwcEIAAHY2WTBwQgAAtrReMHBCAADCWkMwcEIAALa7SDBwQgAA9jlOMHBCAAD2JJAwcEIAAJCUlTBwQgAA0BKbMHBC\",\"dtype\":\"float64\",\"shape\":[126,1]},\"upper\":{\"__ndarray__\":\"ZmZmZmaGMEAK16NwPYowQF66SQwCizBAGARWDi2SMECkcD0K14MwQI/C9ShcjzBAMQisHFqEMEA/NV66SYwwQHnpJjEIjDBAEoPAyqGFMEDz/dR46YYwQNEi2/l+ijBAJQaBlUOLMEBqvHSTGIQwQKRwPQrXgzBAm8QgsHKIMEDrUbgehYswQGq8dJMYhDBAiUFg5dCCMEAlBoGVQ4swQJ8aL90khjBA+FPjpZuEMEBqvHSTGIQwQMh2vp8ajzBAYhBYObSIMEDjpZvEIJAwQMDKoUW2kzBA2/l+aryUMEAK16NwPYowQBKDwMqhhTBArkfhehSOMEDVeOkmMYgwQIGVQ4tshzBAPQrXo3B9MEBaZDvfT40wQL6fGi/dhDBAQ4ts5/uJMECJQWDl0IIwQDeJQWDlkDBAhetRuB6FMEAgsHJokY0wQD81XrpJjDBAQ4ts5/uJMECsHFpkO38wQEOLbOf7iTBAZmZmZmaGMECTGARWDo0wQEfhehSuhzBAHFpkO9+PMECsHFpkO38wQAaBlUOLjDBAQ4ts5/uJMEASg8DKoYUwQJvEILByiDBAR+F6FK6HMEDVeOkmMYgwQPyp8dJNgjBAcD0K16OQMECF61G4HoUwQKRwPQrXgzBArkfhehSOMECbxCCwcogwQL6fGi/dhDBAYhBYObSIMEAOLbKd74cwQGZmZmZmhjBAzczMzMyMMEDrUbgehYswQIXrUbgehTBApHA9CteDMECyne+nxoswQO+nxks3iTBAQ4ts5/uJMEAEVg4tsn0wQOtRuB6FizBA8/3UeOmGMECq8dJNYpAwQAIrhxbZjjBA7Xw/NV6aMECF61G4HoUwQHnpJjEIjDBAl24Sg8CKMEDIdr6fGo8wQI2XbhKDgDBA46WbxCCQMEC+nxov3YQwQI/C9ShcbzBAqvHSTWKQMEBwPQrXo5AwQIXrUbgehTBAL90kBoGVMEBWDi2ynW8wQNv5fmq8lDBArBxaZDt/MEDjpZvEIJAwQBov3SQGgTBAAiuHFtmOMED+1HjpJpEwQJ3vp8ZLlzBAKVyPwvWIMECfGi/dJIYwQPHSTWIQeDBAcT0K16OQMEBWDi2ynY8wQE5iEFg5lDBAsp3vp8aLMEBDi2zn+4kwQIlBYOXQgjBAcT0K16OQMEAgsHJokY0wQEkMAiuHljBAyXa+nxqPMECF61G4HoUwQKRwPQrXgzBA5/up8dKNMEDIdr6fGo8wQC/dJAaBlTBAsp3vp8aLMEAlBoGVQ4swQFTjpZvEgDBAEoPAyqGFMEDEILByaJEwQPUoXI/ClTBAmG4Sg8CKMEC28/3UeIkwQGq8dJMYhDBA\",\"dtype\":\"float64\",\"shape\":[126]}},\"selected\":{\"id\":\"1092\",\"type\":\"Selection\"},\"selection_policy\":{\"id\":\"1093\",\"type\":\"UnionRenderers\"}},\"id\":\"1002\",\"type\":\"ColumnDataSource\"},{\"attributes\":{},\"id\":\"1046\",\"type\":\"BasicTickFormatter\"},{\"attributes\":{\"label\":{\"field\":\"name\"},\"renderers\":[{\"id\":\"1070\",\"type\":\"GlyphRenderer\"}]},\"id\":\"1094\",\"type\":\"LegendItem\"},{\"attributes\":{},\"id\":\"1092\",\"type\":\"Selection\"},{\"attributes\":{},\"id\":\"1093\",\"type\":\"UnionRenderers\"},{\"attributes\":{\"items\":[{\"id\":\"1064\",\"type\":\"LegendItem\"},{\"id\":\"1094\",\"type\":\"LegendItem\"}]},\"id\":\"1063\",\"type\":\"Legend\"},{\"attributes\":{},\"id\":\"1011\",\"type\":\"LinearScale\"},{\"attributes\":{\"num_minor_ticks\":5,\"tickers\":[{\"id\":\"1051\",\"type\":\"AdaptiveTicker\"},{\"id\":\"1052\",\"type\":\"AdaptiveTicker\"},{\"id\":\"1053\",\"type\":\"AdaptiveTicker\"},{\"id\":\"1054\",\"type\":\"DaysTicker\"},{\"id\":\"1055\",\"type\":\"DaysTicker\"},{\"id\":\"1056\",\"type\":\"DaysTicker\"},{\"id\":\"1057\",\"type\":\"DaysTicker\"},{\"id\":\"1058\",\"type\":\"MonthsTicker\"},{\"id\":\"1059\",\"type\":\"MonthsTicker\"},{\"id\":\"1060\",\"type\":\"MonthsTicker\"},{\"id\":\"1061\",\"type\":\"MonthsTicker\"},{\"id\":\"1062\",\"type\":\"YearsTicker\"}]},\"id\":\"1016\",\"type\":\"DatetimeTicker\"},{\"attributes\":{},\"id\":\"1062\",\"type\":\"YearsTicker\"}],\"root_ids\":[\"1004\"]},\"title\":\"Bokeh Application\",\"version\":\"1.1.0\"}};\n",
       "  var render_items = [{\"docid\":\"26cc4a08-4481-4156-8041-0855fc04948b\",\"roots\":{\"1004\":\"bf25a24c-bd11-4630-8970-cc80e85b45fb\"}}];\n",
       "  root.Bokeh.embed.embed_items_notebook(docs_json, render_items);\n",
       "\n",
       "  }\n",
       "  if (root.Bokeh !== undefined) {\n",
       "    embed_document(root);\n",
       "  } else {\n",
       "    var attempts = 0;\n",
       "    var timer = setInterval(function(root) {\n",
       "      if (root.Bokeh !== undefined) {\n",
       "        embed_document(root);\n",
       "        clearInterval(timer);\n",
       "      }\n",
       "      attempts++;\n",
       "      if (attempts > 100) {\n",
       "        console.log(\"Bokeh: ERROR: Unable to run BokehJS code because BokehJS library is missing\");\n",
       "        clearInterval(timer);\n",
       "      }\n",
       "    }, 10, root)\n",
       "  }\n",
       "})(window);"
      ],
      "application/vnd.bokehjs_exec.v0+json": ""
     },
     "metadata": {
      "application/vnd.bokehjs_exec.v0+json": {
       "id": "1004"
      }
     },
     "output_type": "display_data"
    }
   ],
   "source": [
    "\n",
    "source = ColumnDataSource(data=datagood230)\n",
    "source2 = ColumnDataSource(data=datagood737)\n",
    "\n",
    "\n",
    "p = figure(plot_width=900, plot_height=500, title='',active_drag='pan', active_scroll='wheel_zoom',\n",
    "          x_axis_type='datetime',y_axis_label='VEGAMAG',x_axis_label='Date_Obs')\n",
    "\n",
    "\n",
    "#Tool to get wavelength\n",
    "hover2 = HoverTool(\n",
    "        tooltips=[\n",
    "            ('Date', '(@obnames)')\n",
    "        ]\n",
    "    )\n",
    "\n",
    "        \n",
    "p.add_tools(hover2)\n",
    "\n",
    "\n",
    "\n",
    "# add a circle renderer with a size, color, and alpha\n",
    "p.circle('time','VEGAMAG', source=source, color='red', name='name',legend='name')\n",
    "p.add_layout(\n",
    "    Whisker(source=source, base=\"time\", upper=\"upper\", lower=\"lower\")\n",
    ")\n",
    "\n",
    "\n",
    "#Add another\n",
    "p.circle('time','VEGAMAG', source=source2, color='blue',legend='name')\n",
    "p.add_layout(\n",
    "    Whisker(source=source2, base=\"time\", upper=\"upper\", lower=\"lower\")\n",
    ")\n",
    "\n",
    "\n",
    "\n",
    "\n",
    "\n",
    "\n",
    "show(p)"
   ]
  },
  {
   "cell_type": "code",
   "execution_count": 6,
   "metadata": {},
   "outputs": [
    {
     "name": "stdout",
     "output_type": "stream",
     "text": [
      "sed '738q;d'  outdir/out.photo\n",
      "['515.39', '125.65']\n"
     ]
    }
   ],
   "source": [
    "datagood737mjd =  createdatadicclean(outputfile,737,columnfile,name='737',timeformat='mjd')"
   ]
  },
  {
   "cell_type": "code",
   "execution_count": 129,
   "metadata": {},
   "outputs": [
    {
     "data": {
      "image/png": "[encoded data removed]",
      "text/plain": [
       "<Figure size 432x288 with 1 Axes>"
      ]
     },
     "metadata": {
      "needs_background": "light"
     },
     "output_type": "display_data"
    }
   ],
   "source": [
    "fig, ax = plt.subplots()\n",
    "\n",
    "t737, mag737, dmag737 = datagood737mjd['time'], datagood737mjd['VEGAMAG'],datagood737mjd['errorsmag']\n",
    "\n",
    "ax.errorbar(t737, mag737, dmag737,  fmt='.k', ecolor='gray')\n",
    "ax.set(xlabel='Time (days)', ylabel='magitude',\n",
    "       title=datagood737mjd['name'][0])\n",
    "#ax.invert_yaxis();\n",
    "plt.show()"
   ]
  },
  {
   "cell_type": "markdown",
   "metadata": {},
   "source": [
    "# Scipy"
   ]
  },
  {
   "cell_type": "code",
   "execution_count": 146,
   "metadata": {},
   "outputs": [
    {
     "name": "stdout",
     "output_type": "stream",
     "text": [
      "[0.99579895]\n"
     ]
    },
    {
     "data": {
      "image/png": "[encoded data removed]",
      "text/plain": [
       "<Figure size 432x288 with 1 Axes>"
      ]
     },
     "metadata": {
      "needs_background": "light"
     },
     "output_type": "display_data"
    }
   ],
   "source": [
    "\n",
    "\n",
    "from scipy.signal import lombscargle\n",
    "\n",
    "# Choose a period grid\n",
    "periods = np.linspace(0.2, 1.4, 4000)\n",
    "ang_freqs = 2 * np.pi / periods\n",
    "\n",
    "# compute the (unnormalized) periodogram\n",
    "# note pre-centering of y values!\n",
    "power = lombscargle(t737.flatten(), mag737 - mag737.mean(), ang_freqs)\n",
    "\n",
    "# normalize the power\n",
    "N = len(t)\n",
    "power *= 2 / (N * mag.std() ** 2)\n",
    "\n",
    "# plot the results\n",
    "fig, ax = plt.subplots()\n",
    "ax.plot(periods, power)\n",
    "ax.set(ylim=(0, 0.8), xlabel='period (days)',\n",
    "       ylabel='Lomb-Scargle Power');\n",
    "\n",
    "\n"
   ]
  },
  {
   "cell_type": "code",
   "execution_count": 147,
   "metadata": {},
   "outputs": [],
   "source": [
    "\n",
    "indexmax = np.where(power == power.max())\n",
    "periodmax = periods[indexmax]\n",
    "#print(periodmax)\n",
    "\n",
    "# Compute phases of the obsevations\n",
    "phase = (t737.flatten() / period) % 1"
   ]
  },
  {
   "cell_type": "code",
   "execution_count": 149,
   "metadata": {},
   "outputs": [
    {
     "data": {
      "image/png": "[encoded data removed]",
      "text/plain": [
       "<Figure size 432x288 with 1 Axes>"
      ]
     },
     "metadata": {
      "needs_background": "light"
     },
     "output_type": "display_data"
    }
   ],
   "source": [
    "# Plot the phased data & model\n",
    "fig, ax = plt.subplots()\n",
    "\n",
    "\n",
    "ax.errorbar(phase, mag, dmag, fmt='.k', ecolor='gray', alpha=0.5)\n",
    "plt.show()"
   ]
  },
  {
   "cell_type": "markdown",
   "metadata": {},
   "source": [
    "# Gatspy"
   ]
  },
  {
   "cell_type": "code",
   "execution_count": 130,
   "metadata": {},
   "outputs": [
    {
     "data": {
      "image/png": "[encoded data removed]",
      "text/plain": [
       "<Figure size 432x288 with 1 Axes>"
      ]
     },
     "metadata": {
      "needs_background": "light"
     },
     "output_type": "display_data"
    }
   ],
   "source": [
    "model = LombScargleFast().fit(t737, mag737, dmag737)\n",
    "periods, power = model.periodogram_auto(nyquist_factor=200)\n",
    "\n",
    "fig, ax = plt.subplots()\n",
    "ax.plot(periods, power)\n",
    "ax.set(\n",
    "       xlabel='period (days)',\n",
    "       ylabel='Lomb-Scargle Power');\n",
    "plt.show()"
   ]
  },
  {
   "cell_type": "code",
   "execution_count": 131,
   "metadata": {},
   "outputs": [
    {
     "name": "stdout",
     "output_type": "stream",
     "text": [
      "Finding optimal frequency:\n",
      " - Estimated peak width = 0.237\n",
      " - Using 5 steps per peak; omega_step = 0.0475\n",
      " - User-specified period range:  0.2 to 1.4\n",
      " - Computing periods at 569 steps\n",
      "Zooming-in on 5 candidate peaks:\n",
      " - Computing periods at 1000 steps\n",
      "period = 0.9863764050968513\n"
     ]
    }
   ],
   "source": [
    "# set range and find period\n",
    "model.optimizer.period_range=(0.2, 1.4)\n",
    "period = model.best_period\n",
    "print(\"period = {0}\".format(period))\n",
    "\n"
   ]
  },
  {
   "cell_type": "code",
   "execution_count": 150,
   "metadata": {},
   "outputs": [
    {
     "data": {
      "image/png": "[encoded data removed]",
      "text/plain": [
       "<Figure size 432x288 with 1 Axes>"
      ]
     },
     "metadata": {
      "needs_background": "light"
     },
     "output_type": "display_data"
    }
   ],
   "source": [
    "# Compute phases of the obsevations\n",
    "phase = (t / period) % 1\n",
    "\n",
    "\n",
    "# Plot the phased data & model\n",
    "fig, ax = plt.subplots()\n",
    "ax.errorbar(phase, mag, dmag, fmt='.k', ecolor='gray', alpha=0.5)\n",
    "ax.set(xlabel='Phase', ylabel='magitude')\n",
    "ax.invert_yaxis();"
   ]
  },
  {
   "cell_type": "code",
   "execution_count": null,
   "metadata": {},
   "outputs": [],
   "source": []
  }
 ],
 "metadata": {
  "kernelspec": {
   "display_name": "Python 3",
   "language": "python",
   "name": "python3"
  },
  "language_info": {
   "codemirror_mode": {
    "name": "ipython",
    "version": 3
   },
   "file_extension": ".py",
   "mimetype": "text/x-python",
   "name": "python",
   "nbconvert_exporter": "python",
   "pygments_lexer": "ipython3",
   "version": "3.7.3"
  }
 },
 "nbformat": 4,
 "nbformat_minor": 2
}
