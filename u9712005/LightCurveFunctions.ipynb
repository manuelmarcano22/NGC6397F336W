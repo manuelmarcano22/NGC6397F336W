{
 "cells": [
  {
   "cell_type": "code",
   "execution_count": 18,
   "metadata": {},
   "outputs": [
    {
     "data": {
      "text/html": [
       "\n",
       "    <div class=\"bk-root\">\n",
       "        <a href=\"https://bokeh.pydata.org\" target=\"_blank\" class=\"bk-logo bk-logo-small bk-logo-notebook\"></a>\n",
       "        <span id=\"1722\">Loading BokehJS ...</span>\n",
       "    </div>"
      ]
     },
     "metadata": {},
     "output_type": "display_data"
    },
    {
     "data": {
      "application/javascript": [
       "\n",
       "(function(root) {\n",
       "  function now() {\n",
       "    return new Date();\n",
       "  }\n",
       "\n",
       "  var force = true;\n",
       "\n",
       "  if (typeof root._bokeh_onload_callbacks === \"undefined\" || force === true) {\n",
       "    root._bokeh_onload_callbacks = [];\n",
       "    root._bokeh_is_loading = undefined;\n",
       "  }\n",
       "\n",
       "  var JS_MIME_TYPE = 'application/javascript';\n",
       "  var HTML_MIME_TYPE = 'text/html';\n",
       "  var EXEC_MIME_TYPE = 'application/vnd.bokehjs_exec.v0+json';\n",
       "  var CLASS_NAME = 'output_bokeh rendered_html';\n",
       "\n",
       "  /**\n",
       "   * Render data to the DOM node\n",
       "   */\n",
       "  function render(props, node) {\n",
       "    var script = document.createElement(\"script\");\n",
       "    node.appendChild(script);\n",
       "  }\n",
       "\n",
       "  /**\n",
       "   * Handle when an output is cleared or removed\n",
       "   */\n",
       "  function handleClearOutput(event, handle) {\n",
       "    var cell = handle.cell;\n",
       "\n",
       "    var id = cell.output_area._bokeh_element_id;\n",
       "    var server_id = cell.output_area._bokeh_server_id;\n",
       "    // Clean up Bokeh references\n",
       "    if (id != null && id in Bokeh.index) {\n",
       "      Bokeh.index[id].model.document.clear();\n",
       "      delete Bokeh.index[id];\n",
       "    }\n",
       "\n",
       "    if (server_id !== undefined) {\n",
       "      // Clean up Bokeh references\n",
       "      var cmd = \"from bokeh.io.state import curstate; print(curstate().uuid_to_server['\" + server_id + \"'].get_sessions()[0].document.roots[0]._id)\";\n",
       "      cell.notebook.kernel.execute(cmd, {\n",
       "        iopub: {\n",
       "          output: function(msg) {\n",
       "            var id = msg.content.text.trim();\n",
       "            if (id in Bokeh.index) {\n",
       "              Bokeh.index[id].model.document.clear();\n",
       "              delete Bokeh.index[id];\n",
       "            }\n",
       "          }\n",
       "        }\n",
       "      });\n",
       "      // Destroy server and session\n",
       "      var cmd = \"import bokeh.io.notebook as ion; ion.destroy_server('\" + server_id + \"')\";\n",
       "      cell.notebook.kernel.execute(cmd);\n",
       "    }\n",
       "  }\n",
       "\n",
       "  /**\n",
       "   * Handle when a new output is added\n",
       "   */\n",
       "  function handleAddOutput(event, handle) {\n",
       "    var output_area = handle.output_area;\n",
       "    var output = handle.output;\n",
       "\n",
       "    // limit handleAddOutput to display_data with EXEC_MIME_TYPE content only\n",
       "    if ((output.output_type != \"display_data\") || (!output.data.hasOwnProperty(EXEC_MIME_TYPE))) {\n",
       "      return\n",
       "    }\n",
       "\n",
       "    var toinsert = output_area.element.find(\".\" + CLASS_NAME.split(' ')[0]);\n",
       "\n",
       "    if (output.metadata[EXEC_MIME_TYPE][\"id\"] !== undefined) {\n",
       "      toinsert[toinsert.length - 1].firstChild.textContent = output.data[JS_MIME_TYPE];\n",
       "      // store reference to embed id on output_area\n",
       "      output_area._bokeh_element_id = output.metadata[EXEC_MIME_TYPE][\"id\"];\n",
       "    }\n",
       "    if (output.metadata[EXEC_MIME_TYPE][\"server_id\"] !== undefined) {\n",
       "      var bk_div = document.createElement(\"div\");\n",
       "      bk_div.innerHTML = output.data[HTML_MIME_TYPE];\n",
       "      var script_attrs = bk_div.children[0].attributes;\n",
       "      for (var i = 0; i < script_attrs.length; i++) {\n",
       "        toinsert[toinsert.length - 1].firstChild.setAttribute(script_attrs[i].name, script_attrs[i].value);\n",
       "      }\n",
       "      // store reference to server id on output_area\n",
       "      output_area._bokeh_server_id = output.metadata[EXEC_MIME_TYPE][\"server_id\"];\n",
       "    }\n",
       "  }\n",
       "\n",
       "  function register_renderer(events, OutputArea) {\n",
       "\n",
       "    function append_mime(data, metadata, element) {\n",
       "      // create a DOM node to render to\n",
       "      var toinsert = this.create_output_subarea(\n",
       "        metadata,\n",
       "        CLASS_NAME,\n",
       "        EXEC_MIME_TYPE\n",
       "      );\n",
       "      this.keyboard_manager.register_events(toinsert);\n",
       "      // Render to node\n",
       "      var props = {data: data, metadata: metadata[EXEC_MIME_TYPE]};\n",
       "      render(props, toinsert[toinsert.length - 1]);\n",
       "      element.append(toinsert);\n",
       "      return toinsert\n",
       "    }\n",
       "\n",
       "    /* Handle when an output is cleared or removed */\n",
       "    events.on('clear_output.CodeCell', handleClearOutput);\n",
       "    events.on('delete.Cell', handleClearOutput);\n",
       "\n",
       "    /* Handle when a new output is added */\n",
       "    events.on('output_added.OutputArea', handleAddOutput);\n",
       "\n",
       "    /**\n",
       "     * Register the mime type and append_mime function with output_area\n",
       "     */\n",
       "    OutputArea.prototype.register_mime_type(EXEC_MIME_TYPE, append_mime, {\n",
       "      /* Is output safe? */\n",
       "      safe: true,\n",
       "      /* Index of renderer in `output_area.display_order` */\n",
       "      index: 0\n",
       "    });\n",
       "  }\n",
       "\n",
       "  // register the mime type if in Jupyter Notebook environment and previously unregistered\n",
       "  if (root.Jupyter !== undefined) {\n",
       "    var events = require('base/js/events');\n",
       "    var OutputArea = require('notebook/js/outputarea').OutputArea;\n",
       "\n",
       "    if (OutputArea.prototype.mime_types().indexOf(EXEC_MIME_TYPE) == -1) {\n",
       "      register_renderer(events, OutputArea);\n",
       "    }\n",
       "  }\n",
       "\n",
       "  \n",
       "  if (typeof (root._bokeh_timeout) === \"undefined\" || force === true) {\n",
       "    root._bokeh_timeout = Date.now() + 5000;\n",
       "    root._bokeh_failed_load = false;\n",
       "  }\n",
       "\n",
       "  var NB_LOAD_WARNING = {'data': {'text/html':\n",
       "     \"<div style='background-color: #fdd'>\\n\"+\n",
       "     \"<p>\\n\"+\n",
       "     \"BokehJS does not appear to have successfully loaded. If loading BokehJS from CDN, this \\n\"+\n",
       "     \"may be due to a slow or bad network connection. Possible fixes:\\n\"+\n",
       "     \"</p>\\n\"+\n",
       "     \"<ul>\\n\"+\n",
       "     \"<li>re-rerun `output_notebook()` to attempt to load from CDN again, or</li>\\n\"+\n",
       "     \"<li>use INLINE resources instead, as so:</li>\\n\"+\n",
       "     \"</ul>\\n\"+\n",
       "     \"<code>\\n\"+\n",
       "     \"from bokeh.resources import INLINE\\n\"+\n",
       "     \"output_notebook(resources=INLINE)\\n\"+\n",
       "     \"</code>\\n\"+\n",
       "     \"</div>\"}};\n",
       "\n",
       "  function display_loaded() {\n",
       "    var el = document.getElementById(\"1722\");\n",
       "    if (el != null) {\n",
       "      el.textContent = \"BokehJS is loading...\";\n",
       "    }\n",
       "    if (root.Bokeh !== undefined) {\n",
       "      if (el != null) {\n",
       "        el.textContent = \"BokehJS \" + root.Bokeh.version + \" successfully loaded.\";\n",
       "      }\n",
       "    } else if (Date.now() < root._bokeh_timeout) {\n",
       "      setTimeout(display_loaded, 100)\n",
       "    }\n",
       "  }\n",
       "\n",
       "\n",
       "  function run_callbacks() {\n",
       "    try {\n",
       "      root._bokeh_onload_callbacks.forEach(function(callback) {\n",
       "        if (callback != null)\n",
       "          callback();\n",
       "      });\n",
       "    } finally {\n",
       "      delete root._bokeh_onload_callbacks\n",
       "    }\n",
       "    console.debug(\"Bokeh: all callbacks have finished\");\n",
       "  }\n",
       "\n",
       "  function load_libs(css_urls, js_urls, callback) {\n",
       "    if (css_urls == null) css_urls = [];\n",
       "    if (js_urls == null) js_urls = [];\n",
       "\n",
       "    root._bokeh_onload_callbacks.push(callback);\n",
       "    if (root._bokeh_is_loading > 0) {\n",
       "      console.debug(\"Bokeh: BokehJS is being loaded, scheduling callback at\", now());\n",
       "      return null;\n",
       "    }\n",
       "    if (js_urls == null || js_urls.length === 0) {\n",
       "      run_callbacks();\n",
       "      return null;\n",
       "    }\n",
       "    console.debug(\"Bokeh: BokehJS not loaded, scheduling load and callback at\", now());\n",
       "    root._bokeh_is_loading = css_urls.length + js_urls.length;\n",
       "\n",
       "    function on_load() {\n",
       "      root._bokeh_is_loading--;\n",
       "      if (root._bokeh_is_loading === 0) {\n",
       "        console.debug(\"Bokeh: all BokehJS libraries/stylesheets loaded\");\n",
       "        run_callbacks()\n",
       "      }\n",
       "    }\n",
       "\n",
       "    function on_error() {\n",
       "      console.error(\"failed to load \" + url);\n",
       "    }\n",
       "\n",
       "    for (var i = 0; i < css_urls.length; i++) {\n",
       "      var url = css_urls[i];\n",
       "      const element = document.createElement(\"link\");\n",
       "      element.onload = on_load;\n",
       "      element.onerror = on_error;\n",
       "      element.rel = \"stylesheet\";\n",
       "      element.type = \"text/css\";\n",
       "      element.href = url;\n",
       "      console.debug(\"Bokeh: injecting link tag for BokehJS stylesheet: \", url);\n",
       "      document.body.appendChild(element);\n",
       "    }\n",
       "\n",
       "    for (var i = 0; i < js_urls.length; i++) {\n",
       "      var url = js_urls[i];\n",
       "      var element = document.createElement('script');\n",
       "      element.onload = on_load;\n",
       "      element.onerror = on_error;\n",
       "      element.async = false;\n",
       "      element.src = url;\n",
       "      console.debug(\"Bokeh: injecting script tag for BokehJS library: \", url);\n",
       "      document.head.appendChild(element);\n",
       "    }\n",
       "  };var element = document.getElementById(\"1722\");\n",
       "  if (element == null) {\n",
       "    console.error(\"Bokeh: ERROR: autoload.js configured with elementid '1722' but no matching script tag was found. \")\n",
       "    return false;\n",
       "  }\n",
       "\n",
       "  function inject_raw_css(css) {\n",
       "    const element = document.createElement(\"style\");\n",
       "    element.appendChild(document.createTextNode(css));\n",
       "    document.body.appendChild(element);\n",
       "  }\n",
       "\n",
       "  var js_urls = [\"https://cdn.pydata.org/bokeh/release/bokeh-1.1.0.min.js\", \"https://cdn.pydata.org/bokeh/release/bokeh-widgets-1.1.0.min.js\", \"https://cdn.pydata.org/bokeh/release/bokeh-tables-1.1.0.min.js\", \"https://cdn.pydata.org/bokeh/release/bokeh-gl-1.1.0.min.js\"];\n",
       "  var css_urls = [\"https://cdn.pydata.org/bokeh/release/bokeh-1.1.0.min.css\", \"https://cdn.pydata.org/bokeh/release/bokeh-widgets-1.1.0.min.css\", \"https://cdn.pydata.org/bokeh/release/bokeh-tables-1.1.0.min.css\"];\n",
       "\n",
       "  var inline_js = [\n",
       "    function(Bokeh) {\n",
       "      Bokeh.set_log_level(\"info\");\n",
       "    },\n",
       "    \n",
       "    function(Bokeh) {\n",
       "      \n",
       "    },\n",
       "    function(Bokeh) {} // ensure no trailing comma for IE\n",
       "  ];\n",
       "\n",
       "  function run_inline_js() {\n",
       "    \n",
       "    if ((root.Bokeh !== undefined) || (force === true)) {\n",
       "      for (var i = 0; i < inline_js.length; i++) {\n",
       "        inline_js[i].call(root, root.Bokeh);\n",
       "      }if (force === true) {\n",
       "        display_loaded();\n",
       "      }} else if (Date.now() < root._bokeh_timeout) {\n",
       "      setTimeout(run_inline_js, 100);\n",
       "    } else if (!root._bokeh_failed_load) {\n",
       "      console.log(\"Bokeh: BokehJS failed to load within specified timeout.\");\n",
       "      root._bokeh_failed_load = true;\n",
       "    } else if (force !== true) {\n",
       "      var cell = $(document.getElementById(\"1722\")).parents('.cell').data().cell;\n",
       "      cell.output_area.append_execute_result(NB_LOAD_WARNING)\n",
       "    }\n",
       "\n",
       "  }\n",
       "\n",
       "  if (root._bokeh_is_loading === 0) {\n",
       "    console.debug(\"Bokeh: BokehJS loaded, going straight to plotting\");\n",
       "    run_inline_js();\n",
       "  } else {\n",
       "    load_libs(css_urls, js_urls, function() {\n",
       "      console.debug(\"Bokeh: BokehJS plotting callback run at\", now());\n",
       "      run_inline_js();\n",
       "    });\n",
       "  }\n",
       "}(window));"
      ],
      "application/vnd.bokehjs_load.v0+json": "\n(function(root) {\n  function now() {\n    return new Date();\n  }\n\n  var force = true;\n\n  if (typeof root._bokeh_onload_callbacks === \"undefined\" || force === true) {\n    root._bokeh_onload_callbacks = [];\n    root._bokeh_is_loading = undefined;\n  }\n\n  \n\n  \n  if (typeof (root._bokeh_timeout) === \"undefined\" || force === true) {\n    root._bokeh_timeout = Date.now() + 5000;\n    root._bokeh_failed_load = false;\n  }\n\n  var NB_LOAD_WARNING = {'data': {'text/html':\n     \"<div style='background-color: #fdd'>\\n\"+\n     \"<p>\\n\"+\n     \"BokehJS does not appear to have successfully loaded. If loading BokehJS from CDN, this \\n\"+\n     \"may be due to a slow or bad network connection. Possible fixes:\\n\"+\n     \"</p>\\n\"+\n     \"<ul>\\n\"+\n     \"<li>re-rerun `output_notebook()` to attempt to load from CDN again, or</li>\\n\"+\n     \"<li>use INLINE resources instead, as so:</li>\\n\"+\n     \"</ul>\\n\"+\n     \"<code>\\n\"+\n     \"from bokeh.resources import INLINE\\n\"+\n     \"output_notebook(resources=INLINE)\\n\"+\n     \"</code>\\n\"+\n     \"</div>\"}};\n\n  function display_loaded() {\n    var el = document.getElementById(\"1722\");\n    if (el != null) {\n      el.textContent = \"BokehJS is loading...\";\n    }\n    if (root.Bokeh !== undefined) {\n      if (el != null) {\n        el.textContent = \"BokehJS \" + root.Bokeh.version + \" successfully loaded.\";\n      }\n    } else if (Date.now() < root._bokeh_timeout) {\n      setTimeout(display_loaded, 100)\n    }\n  }\n\n\n  function run_callbacks() {\n    try {\n      root._bokeh_onload_callbacks.forEach(function(callback) {\n        if (callback != null)\n          callback();\n      });\n    } finally {\n      delete root._bokeh_onload_callbacks\n    }\n    console.debug(\"Bokeh: all callbacks have finished\");\n  }\n\n  function load_libs(css_urls, js_urls, callback) {\n    if (css_urls == null) css_urls = [];\n    if (js_urls == null) js_urls = [];\n\n    root._bokeh_onload_callbacks.push(callback);\n    if (root._bokeh_is_loading > 0) {\n      console.debug(\"Bokeh: BokehJS is being loaded, scheduling callback at\", now());\n      return null;\n    }\n    if (js_urls == null || js_urls.length === 0) {\n      run_callbacks();\n      return null;\n    }\n    console.debug(\"Bokeh: BokehJS not loaded, scheduling load and callback at\", now());\n    root._bokeh_is_loading = css_urls.length + js_urls.length;\n\n    function on_load() {\n      root._bokeh_is_loading--;\n      if (root._bokeh_is_loading === 0) {\n        console.debug(\"Bokeh: all BokehJS libraries/stylesheets loaded\");\n        run_callbacks()\n      }\n    }\n\n    function on_error() {\n      console.error(\"failed to load \" + url);\n    }\n\n    for (var i = 0; i < css_urls.length; i++) {\n      var url = css_urls[i];\n      const element = document.createElement(\"link\");\n      element.onload = on_load;\n      element.onerror = on_error;\n      element.rel = \"stylesheet\";\n      element.type = \"text/css\";\n      element.href = url;\n      console.debug(\"Bokeh: injecting link tag for BokehJS stylesheet: \", url);\n      document.body.appendChild(element);\n    }\n\n    for (var i = 0; i < js_urls.length; i++) {\n      var url = js_urls[i];\n      var element = document.createElement('script');\n      element.onload = on_load;\n      element.onerror = on_error;\n      element.async = false;\n      element.src = url;\n      console.debug(\"Bokeh: injecting script tag for BokehJS library: \", url);\n      document.head.appendChild(element);\n    }\n  };var element = document.getElementById(\"1722\");\n  if (element == null) {\n    console.error(\"Bokeh: ERROR: autoload.js configured with elementid '1722' but no matching script tag was found. \")\n    return false;\n  }\n\n  function inject_raw_css(css) {\n    const element = document.createElement(\"style\");\n    element.appendChild(document.createTextNode(css));\n    document.body.appendChild(element);\n  }\n\n  var js_urls = [\"https://cdn.pydata.org/bokeh/release/bokeh-1.1.0.min.js\", \"https://cdn.pydata.org/bokeh/release/bokeh-widgets-1.1.0.min.js\", \"https://cdn.pydata.org/bokeh/release/bokeh-tables-1.1.0.min.js\", \"https://cdn.pydata.org/bokeh/release/bokeh-gl-1.1.0.min.js\"];\n  var css_urls = [\"https://cdn.pydata.org/bokeh/release/bokeh-1.1.0.min.css\", \"https://cdn.pydata.org/bokeh/release/bokeh-widgets-1.1.0.min.css\", \"https://cdn.pydata.org/bokeh/release/bokeh-tables-1.1.0.min.css\"];\n\n  var inline_js = [\n    function(Bokeh) {\n      Bokeh.set_log_level(\"info\");\n    },\n    \n    function(Bokeh) {\n      \n    },\n    function(Bokeh) {} // ensure no trailing comma for IE\n  ];\n\n  function run_inline_js() {\n    \n    if ((root.Bokeh !== undefined) || (force === true)) {\n      for (var i = 0; i < inline_js.length; i++) {\n        inline_js[i].call(root, root.Bokeh);\n      }if (force === true) {\n        display_loaded();\n      }} else if (Date.now() < root._bokeh_timeout) {\n      setTimeout(run_inline_js, 100);\n    } else if (!root._bokeh_failed_load) {\n      console.log(\"Bokeh: BokehJS failed to load within specified timeout.\");\n      root._bokeh_failed_load = true;\n    } else if (force !== true) {\n      var cell = $(document.getElementById(\"1722\")).parents('.cell').data().cell;\n      cell.output_area.append_execute_result(NB_LOAD_WARNING)\n    }\n\n  }\n\n  if (root._bokeh_is_loading === 0) {\n    console.debug(\"Bokeh: BokehJS loaded, going straight to plotting\");\n    run_inline_js();\n  } else {\n    load_libs(css_urls, js_urls, function() {\n      console.debug(\"Bokeh: BokehJS plotting callback run at\", now());\n      run_inline_js();\n    });\n  }\n}(window));"
     },
     "metadata": {},
     "output_type": "display_data"
    }
   ],
   "source": [
    "from astropy.io import fits\n",
    "from astropy.wcs import WCS\n",
    "import numpy as np\n",
    "from astropy.time import Time\n",
    "import os\n",
    "from scipy.signal import lombscargle\n",
    "\n",
    "\n",
    "from bokeh.plotting import output_notebook, figure, show\n",
    "from bokeh.models import HoverTool, tools,ColumnDataSource, Whisker\n",
    "output_notebook()\n",
    "\n",
    "\n",
    "from gatspy.periodic import LombScargleFast, LombScargle\n",
    "\n",
    "\n",
    "import matplotlib.pyplot as plt\n",
    "%matplotlib widget\n",
    "# use seaborn for plot styles\n",
    "import seaborn; seaborn.set()"
   ]
  },
  {
   "cell_type": "code",
   "execution_count": 28,
   "metadata": {},
   "outputs": [],
   "source": [
    "def getobjectdata(datafile,index,name='name'):\n",
    "    command = \"sed '{}q;d'  {}\".format(index+1,datafile)\n",
    "    print(command)\n",
    "    datastring = ! {command}\n",
    "    datalist = datastring[0].split()\n",
    "    print(datalist[2:4])\n",
    "    return datalist\n",
    "\n",
    "\n",
    "\n",
    "def getvegamaganddates(data,columnfile,name):\n",
    "    vegamagindex = np.arange(28,6568,13)\n",
    "    \n",
    "    \n",
    "    vegamaglist = np.array([float(data[i]) for i in vegamagindex])\n",
    "    vegamaglisterrors = np.array([float(data[i+2]) for i in vegamagindex])\n",
    "    \n",
    "    columns = []\n",
    "    with open(columnfile) as filecol:\n",
    "        for line in filecol:\n",
    "            columns.append(line)\n",
    "    listanames = []\n",
    "    dates = []\n",
    "    times =[]\n",
    "    nameobject = []\n",
    "    namel=[]\n",
    "\n",
    "    for i in vegamagindex:\n",
    "        initname = columns[i].find('Try/u')\n",
    "        namefits = columns[i][initname:initname+23]\n",
    "        listanames.append(namefits)\n",
    "        fit = fits.open(namefits+'.fits')\n",
    "        dates.append(fit[0].header['DATE-OBS'])\n",
    "        times.append(fit[0].header['TIME-OBS'])\n",
    "        namel.append(name)\n",
    "    datesobs = [['{}T{}'.format(i,j)] for i,j in zip(dates,times)]\n",
    "\n",
    "    d = np.array(datesobs)\n",
    "    t = Time(d)\n",
    "    namel = np.array(namel)\n",
    "       \n",
    "    return vegamaglist, vegamaglisterrors,t, d, namel\n",
    "\n",
    "\n",
    "def createdatadiccomplete(data,columnfile):\n",
    "    vegamag,vegamagerrros, timelist, observationname = getvegamaganddates(data,columnfile)\n",
    "    datadic = {'time':timelist.datetime64,\n",
    "               'VEGAMAG':vegamag,\n",
    "               'obnames':observationname,\n",
    "                'errorsmag':vegamagerrros}\n",
    "    return datadic\n",
    "            \n",
    "def createdatadicclean(datafile,index,columnfile,name='name'):\n",
    "    dataobject = getobjectdata(datafile,index)\n",
    "    vegamag,vegamagerrros, timelist, observationname, namelist = getvegamaganddates(dataobject,columnfile,name)\n",
    "    goodvegamagindex = np.where(vegamag < 99)\n",
    "\n",
    "    datadic = {'time':timelist.datetime64[goodvegamagindex],\n",
    "               'VEGAMAG':vegamag[goodvegamagindex],\n",
    "               'obnames':observationname[goodvegamagindex],\n",
    "                'errorsmag':vegamagerrros[goodvegamagindex],\n",
    "               'upper':vegamag[goodvegamagindex] + vegamagerrros[goodvegamagindex] ,\n",
    "              'lower':vegamag[goodvegamagindex] - vegamagerrros[goodvegamagindex],\n",
    "              'name':namelist[goodvegamagindex]}\n",
    "    return datadic\n",
    "\n",
    "\n",
    "def createdatadicclean(datafile,index,columnfile,name='name',timeformat='datetime64'):\n",
    "    dataobject = getobjectdata(datafile,index)\n",
    "    vegamag,vegamagerrros, timelist, observationname, namelist = getvegamaganddates(dataobject,columnfile,name)\n",
    "    goodvegamagindex = np.where(vegamag < 99)\n",
    "    if timeformat == 'datetime64':\n",
    "        timelist2 = timelist.datetime64[goodvegamagindex]\n",
    "    elif timeformat == 'mjd':\n",
    "        timelist2 = timelist.mjd[goodvegamagindex]\n",
    "\n",
    "    datadic = {'time':timelist2,\n",
    "               'VEGAMAG':vegamag[goodvegamagindex],\n",
    "               'obnames':observationname[goodvegamagindex],\n",
    "                'errorsmag':vegamagerrros[goodvegamagindex],\n",
    "               'upper':vegamag[goodvegamagindex] + vegamagerrros[goodvegamagindex] ,\n",
    "              'lower':vegamag[goodvegamagindex] - vegamagerrros[goodvegamagindex],\n",
    "              'name':namelist[goodvegamagindex]}\n",
    "    return datadic\n",
    "\n",
    "\n",
    "def plotlb(outputfile,index,columnfile,name='',plot=True,getarg=False,periods=np.linspace(0.2, 1.4, 4000)):\n",
    "    datagoodmjd=  createdatadicclean(outputfile,index,columnfile,name=name,timeformat='mjd')\n",
    "    \n",
    "    \n",
    "    t, mag, dmag = datagoodmjd['time'], datagoodmjd['VEGAMAG'],datagoodmjd['errorsmag']\n",
    "\n",
    "        # Choose a period grid\n",
    "    periods = periods\n",
    "    #periods = np.linspace(0.2, 1.4, 4000)\n",
    "    ang_freqs = 2 * np.pi / periods\n",
    "\n",
    "    # compute the (unnormalized) periodogram\n",
    "    # note pre-centering of y values!\n",
    "    power = lombscargle(t.flatten(), mag - mag.mean(), ang_freqs,normalize=False)\n",
    "\n",
    "    # normalize the power\n",
    "    N = len(t.flatten())\n",
    "    #power *= 2 / (N * mag.std() ** 2)\n",
    "    if plot == True:\n",
    "        # plot the results\n",
    "        fig, ax = plt.subplots()\n",
    "        ax.plot(periods, power)\n",
    "        ax.set(ylim=(0, 0.8), xlabel='period (days)',\n",
    "               ylabel='Lomb-Scargle Power');\n",
    "    if getarg == True:\n",
    "        return periods, power,t,mag,dmag\n",
    "\n",
    "def plotlc(outputfile,indexlist,columnfile,namelist=''):\n",
    "    colorlist = ['red','blue','green','yellow']\n",
    "    p = figure(plot_width=900, plot_height=500, title='',active_drag='pan', active_scroll='wheel_zoom',\n",
    "                  x_axis_type='datetime',y_axis_label='VEGAMAG',x_axis_label='Date_Obs')\n",
    "    \n",
    "    \n",
    "    for i,indexnumber in enumerate(indexlist):\n",
    "        color = colorlist[i]\n",
    "        \n",
    "        datagood = createdatadicclean(outputfile,indexnumber,columnfile,name=namelist[i])\n",
    "\n",
    "        source = ColumnDataSource(data=datagood)\n",
    "   \n",
    "\n",
    "\n",
    "        \n",
    "\n",
    "\n",
    "        #Tool to get wavelength\n",
    "        hover2 = HoverTool(\n",
    "                tooltips=[\n",
    "                    ('Date', '(@obnames)')\n",
    "                ]\n",
    "            )\n",
    "\n",
    "\n",
    "        p.add_tools(hover2)\n",
    "\n",
    "\n",
    "\n",
    "        # add a circle renderer with a size, color, and alpha\n",
    "        p.circle('time','VEGAMAG', source=source, color=color, name='name',legend='name')\n",
    "        p.add_layout(\n",
    "            Whisker(source=source, base=\"time\", upper=\"upper\", lower=\"lower\")\n",
    "        )\n",
    "\n",
    "\n",
    "\n",
    "\n",
    "\n",
    "\n",
    "    show(p)\n",
    "\n",
    "def plotphase(outputfile,index,columnfile,name='',plot=False,periodmax=99.99):\n",
    "    nameob= name\n",
    "    periods,power,t,mag,dmag = plotlb(outputfile,index,columnfile,name=nameob,plot=plot,getarg=True)\n",
    "    #datagoodmjd=  createdatadicclean(outputfile,index,columnfile,name=name,timeformat='mjd')\n",
    "    \n",
    "    \n",
    "    #t, mag, dmag = datagoodmjd['time'], datagoodmjd['VEGAMAG'],datagoodmjd['errorsmag']\n",
    "    indexmax = np.where(power == power.max())\n",
    "    if periodmax == 99.99:\n",
    "        periodmax = periods[indexmax]\n",
    "    print(periodmax)\n",
    "\n",
    "    # Compute phases of the obsevations\n",
    "    phase = (t.flatten() / periodmax) % 1\n",
    "\n",
    "    # Plot the phased data & model\n",
    "    fig, ax = plt.subplots()\n",
    "\n",
    "    \n",
    "    ax.errorbar(phase, mag, dmag, fmt='.k', ecolor='gray', alpha=0.5)\n",
    "    ax.invert_yaxis();\n",
    "    plt.show()\n",
    "    \n",
    "    \n",
    "def plotlcseaborn(outputfile,index,columnfile,name='',invertaxis = False):\n",
    "    datagoodmjd=  createdatadicclean(outputfile,index,columnfile,name=name,timeformat='mjd')\n",
    "    \n",
    "    \n",
    "    t, mag, dmag = datagoodmjd['time'], datagoodmjd['VEGAMAG'],datagoodmjd['errorsmag']\n",
    "\n",
    "    \n",
    "    \n",
    "    fig, ax = plt.subplots()\n",
    "\n",
    "\n",
    "    ax.errorbar(t, mag, dmag,  fmt='.k', ecolor='gray')\n",
    "    ax.set(xlabel='Time (days)', ylabel='magitude',\n",
    "           title=datagoodmjd['name'][0])\n",
    "    if invertaxis == True:\n",
    "        ax.invert_yaxis();\n",
    "    plt.show()"
   ]
  },
  {
   "cell_type": "code",
   "execution_count": 29,
   "metadata": {},
   "outputs": [],
   "source": [
    "outputfile = 'outdir/out.photo'\n",
    "columnfile = 'outdir/out.columns'"
   ]
  },
  {
   "cell_type": "markdown",
   "metadata": {},
   "source": [
    "# 1179 U23"
   ]
  },
  {
   "cell_type": "code",
   "execution_count": 30,
   "metadata": {},
   "outputs": [
    {
     "name": "stdout",
     "output_type": "stream",
     "text": [
      "sed '1180q;d'  outdir/out.photo\n",
      "['520.61', '248.53']\n"
     ]
    },
    {
     "data": {
      "text/html": [
       "\n",
       "\n",
       "\n",
       "\n",
       "\n",
       "\n",
       "  <div class=\"bk-root\" id=\"39d01dc8-4a58-4d8c-850c-d826f140951e\" data-root-id=\"2313\"></div>\n"
      ]
     },
     "metadata": {},
     "output_type": "display_data"
    },
    {
     "data": {
      "application/javascript": [
       "(function(root) {\n",
       "  function embed_document(root) {\n",
       "    \n",
       "  var docs_json = {\"ad03913e-a160-4f1c-a3a8-4fc7ba96f53d\":{\"roots\":{\"references\":[{\"attributes\":{\"below\":[{\"id\":\"2324\",\"type\":\"DatetimeAxis\"}],\"center\":[{\"id\":\"2328\",\"type\":\"Grid\"},{\"id\":\"2333\",\"type\":\"Grid\"},{\"id\":\"2373\",\"type\":\"Legend\"},{\"id\":\"2375\",\"type\":\"Whisker\"}],\"left\":[{\"id\":\"2329\",\"type\":\"LinearAxis\"}],\"plot_height\":500,\"plot_width\":900,\"renderers\":[{\"id\":\"2353\",\"type\":\"GlyphRenderer\"}],\"title\":{\"id\":\"2314\",\"type\":\"Title\"},\"toolbar\":{\"id\":\"2340\",\"type\":\"Toolbar\"},\"x_range\":{\"id\":\"2316\",\"type\":\"DataRange1d\"},\"x_scale\":{\"id\":\"2320\",\"type\":\"LinearScale\"},\"y_range\":{\"id\":\"2318\",\"type\":\"DataRange1d\"},\"y_scale\":{\"id\":\"2322\",\"type\":\"LinearScale\"}},\"id\":\"2313\",\"subtype\":\"Figure\",\"type\":\"Plot\"},{\"attributes\":{\"callback\":null,\"data\":{\"VEGAMAG\":{\"__ndarray__\":\"UrgehesxMkApXI/C9SgyQGq8dJMYBDJA7nw/NV5aMkAX2c73U2MyQDm0yHa+fzJAsp3vp8ZLMkAAAAAAAGAyQEjhehSuRzJAokW28/1UMkC6SQwCK4cyQIGVQ4tsRzJA001iEFg5MkAdWmQ7348yQHe+nxovXTJAoBov3SRGMkDZzvdT42UyQN0kBoGVgzJAjZduEoOgMkD+1HjpJlEyQFK4HoXrcTJAnu+nxkuXMkCJQWDl0IIyQBBYObTIdjJAXrpJDAJrMkBmZmZmZgYzQB1aZDvfTzJARIts5/tJMkDNzMzMzGwyQD81XrpJLDJA1XjpJjFIMkCkcD0K10MyQHE9CtejEDJAkxgEVg5NMkCkcD0K10MyQClcj8L1aDJAL90kBoFVMkAfhetRuB4yQH9qvHSTODJAJzEIrBw6MkCkcD0K1yMyQKRwPQrXQzJAYhBYObRoMkAOLbKd7wcyQLbz/dR4STJAlkOLbOc7MkB3vp8aL30yQDVeukkMYjJAXI/C9Sg8MkBSuB6F63EyQKAaL90kZjJAgZVDi2wnMkA9CtejcD0yQFyPwvUofDJAhetRuB5FMkBvEoPAyqEyQBkEVg4tcjJAF9nO91NDMkBOYhBYOXQyQNnO91PjZTJABFYOLbJdMkDXo3A9CpcyQJ7vp8ZLdzJArkfhehRuMkD+1HjpJlEyQPyp8dJNAjNAc2iR7XyfMkCWQ4ts51syQHe+nxovfTJABFYOLbK9MkAK16NwPYoyQIGVQ4tsZzJAy6FFtvN9MkAxCKwcWqQyQEw3iUFgZTJA/Knx0k1iMkAv3SQGgVUyQHE9CtejcDJASgwCK4dWMkCoxks3iUEyQK5H4XoULjJAmG4Sg8BKMkCF61G4HiUyQEJg5dAi+zFAaJHtfD9VMkDhehSuR0EyQOF6FK5HgTJAGy/dJAZhMkDHSzeJQUAyQB1aZDvfTzJAlkOLbOdbMkASg8DKoSUyQKRwPQrXIzJAAAAAAABAMkDNzMzMzCwyQM/3U+OlWzJAxSCwcmgRMkDn+6nx0g0yQJqZmZmZGTJASgwCK4dWMkD2KFyPwvUxQHNoke18PzJAz/dT46W7MkBSuB6F61EyQAwCK4cWeTJArkfhehROMkAUrkfhenQyQDVeukkMAjNAVOOlm8SgMkDfT42XbnIyQMl2vp8abzJAN4lBYOVwMkDdJAaBlYMyQKjGSzeJgTJAyXa+nxpvMkA3iUFg5XAyQM/3U+OlmzJAWmQ7309tMkC+nxov3WQyQFpkO99PLTJADi2yne9nMkBQjZduEkMyQNejcD0KNzJAnMQgsHLIMkCBlUOLbCcyQFK4HoXrETJA\",\"dtype\":\"float64\",\"shape\":[126]},\"errorsmag\":{\"__ndarray__\":\"ukkMAiuHhj+6SQwCK4eGP3sUrkfheoQ/ObTIdr6fij/6fmq8dJOIPzm0yHa+n4o/+n5qvHSTiD/6fmq8dJOIP/p+arx0k4g/+n5qvHSTiD85tMh2vp+KP7pJDAIrh4Y/+n5qvHSTiD85tMh2vp+KP/p+arx0k4g/ukkMAiuHhj85tMh2vp+KPzm0yHa+n4o/eekmMQisjD/6fmq8dJOIP3npJjEIrIw/ObTIdr6fij85tMh2vp+KPzm0yHa+n4o/eekmMQisjD+cxCCwcmiRP/p+arx0k4g/ukkMAiuHhj/6fmq8dJOIP7pJDAIrh4Y/ukkMAiuHhj+6SQwCK4eGP3sUrkfheoQ/+n5qvHSTiD/6fmq8dJOIP/p+arx0k4g/+n5qvHSTiD+6SQwCK4eGP7pJDAIrh4Y/ukkMAiuHhj+6SQwCK4eGP7pJDAIrh4Y/+n5qvHSTiD97FK5H4XqEP/p+arx0k4g/ukkMAiuHhj85tMh2vp+KP/p+arx0k4g/ukkMAiuHhj/6fmq8dJOIP/p+arx0k4g/ukkMAiuHhj+6SQwCK4eGPzm0yHa+n4o/+n5qvHSTiD956SYxCKyMP/p+arx0k4g/ukkMAiuHhj85tMh2vp+KP/p+arx0k4g/+n5qvHSTiD956SYxCKyMPzm0yHa+n4o/+n5qvHSTiD85tMh2vp+KP5zEILByaJE/eekmMQisjD/6fmq8dJOIPzm0yHa+n4o/eekmMQisjD85tMh2vp+KP/p+arx0k4g/ObTIdr6fij956SYxCKyMPzm0yHa+n4o/+n5qvHSTiD/6fmq8dJOIP/p+arx0k4g/+n5qvHSTiD+6SQwCK4eGP7pJDAIrh4Y/ukkMAiuHhj+6SQwCK4eGP3sUrkfheoQ/ObTIdr6fij+6SQwCK4eGPzm0yHa+n4o/+n5qvHSTiD+6SQwCK4eGPzm0yHa+n4o/+n5qvHSTiD+6SQwCK4eGP7pJDAIrh4Y/ukkMAiuHhj85tMh2vp+KP/p+arx0k4g/exSuR+F6hD/6fmq8dJOIP3sUrkfheoQ/eekmMQisjD97FK5H4XqEP7pJDAIrh4Y/nMQgsHJokT/6fmq8dJOIPzm0yHa+n4o/eekmMQisjD85tMh2vp+KP5zEILByaJE//Knx0k1ikD/6fmq8dJOIP/p+arx0k4g/uB6F61G4jj85tMh2vp+KPzm0yHa+n4o/uB6F61G4jj/6fmq8dJOIP3npJjEIrIw/uB6F61G4jj/6fmq8dJOIP7pJDAIrh4Y/uB6F61G4jj+6SQwCK4eGP7pJDAIrh4Y/O99PjZdukj+6SQwCK4eGP3sUrkfheoQ/\",\"dtype\":\"float64\",\"shape\":[126]},\"lower\":{\"__ndarray__\":\"yXa+nxovMkCgGi/dJCYyQKfGSzeJATJA16NwPQpXMkDHSzeJQWAyQCLb+X5qfDJAYhBYObRIMkCwcmiR7VwyQPhT46WbRDJAUrgehetRMkCjcD0K14MyQPhT46WbRDJAg8DKoUU2MkAGgZVDi4wyQCcxCKwcWjJAF9nO91NDMkDC9Shcj2IyQMZLN4lBgDJAsHJoke2cMkCuR+F6FE4yQHWTGARWbjJAhxbZzveTMkByaJHtfH8yQPl+arx0czJAgZVDi2xnMkA1XrpJDAIzQM3MzMzMTDJAu0kMAitHMkB9PzVeumkyQLbz/dR4KTJATDeJQWBFMkAbL90kBkEyQK5H4XoUDjJAQ4ts5/tJMkBU46WbxEAyQNnO91PjZTJA30+Nl25SMkCWQ4ts5xsyQPYoXI/CNTJAnu+nxks3MkAbL90kBiEyQBsv3SQGQTJAEoPAyqFlMkBLN4lBYAUyQGZmZmZmRjJADQIrhxY5MkBg5dAi23kyQOXQItv5XjJA001iEFg5MkACK4cW2W4yQFCNl24SYzJA+FPjpZskMkC0yHa+nzoyQEW28/3UeDJANV66SQxCMkCS7Xw/NZ4yQMl2vp8abzJAjpduEoNAMkA3iUFg5XAyQIlBYOXQYjJAtMh2vp9aMkD6fmq8dJMyQIcW2c73czJAXrpJDAJrMkDn+6nx0k0yQMuhRbbz/TJAlkOLbOebMkBGtvP91FgyQGDl0CLbeTJAJzEIrBy6MkDz/dR46YYyQDEIrBxaZDJAtMh2vp96MkBU46WbxKAyQDVeukkMYjJArBxaZDtfMkDfT42XblIyQCGwcmiRbTJA+n5qvHRTMkAfhetRuD4yQCUGgZVDKzJADy2yne9HMkD8qfHSTSIyQH9qvHST+DFAUbgehetRMkBYObTIdj4yQMqhRbbzfTJAy6FFtvNdMkA+CtejcD0yQAaBlUOLTDJARrbz/dRYMkCJQWDl0CIyQBsv3SQGITJAd76fGi89MkC28/3UeCkyQH9qvHSTWDJAAiuHFtkOMkCXbhKDwAoyQNejcD0KFzJAbef7qfFSMkAzMzMzM/MxQOomMQisPDJAnu+nxku3MkACK4cW2U4yQPUoXI/CdTJA0SLb+X5KMkD91HjpJnEyQARWDi2y/TJA6iYxCKycMkCPwvUoXG8yQHnpJjEIbDJAkxgEVg5tMkDGSzeJQYAyQJHtfD81fjJAJQaBlUNrMkDn+6nx0m0yQPLSTWIQmDJAtvP91HhpMkBuEoPAymEyQNEi2/l+KjJAarx0kxhkMkDHSzeJQUAyQE5iEFg5NDJApHA9CtfDMkD4U+OlmyQyQI/C9ShcDzJA\",\"dtype\":\"float64\",\"shape\":[126]},\"name\":[\"1179\",\"1179\",\"1179\",\"1179\",\"1179\",\"1179\",\"1179\",\"1179\",\"1179\",\"1179\",\"1179\",\"1179\",\"1179\",\"1179\",\"1179\",\"1179\",\"1179\",\"1179\",\"1179\",\"1179\",\"1179\",\"1179\",\"1179\",\"1179\",\"1179\",\"1179\",\"1179\",\"1179\",\"1179\",\"1179\",\"1179\",\"1179\",\"1179\",\"1179\",\"1179\",\"1179\",\"1179\",\"1179\",\"1179\",\"1179\",\"1179\",\"1179\",\"1179\",\"1179\",\"1179\",\"1179\",\"1179\",\"1179\",\"1179\",\"1179\",\"1179\",\"1179\",\"1179\",\"1179\",\"1179\",\"1179\",\"1179\",\"1179\",\"1179\",\"1179\",\"1179\",\"1179\",\"1179\",\"1179\",\"1179\",\"1179\",\"1179\",\"1179\",\"1179\",\"1179\",\"1179\",\"1179\",\"1179\",\"1179\",\"1179\",\"1179\",\"1179\",\"1179\",\"1179\",\"1179\",\"1179\",\"1179\",\"1179\",\"1179\",\"1179\",\"1179\",\"1179\",\"1179\",\"1179\",\"1179\",\"1179\",\"1179\",\"1179\",\"1179\",\"1179\",\"1179\",\"1179\",\"1179\",\"1179\",\"1179\",\"1179\",\"1179\",\"1179\",\"1179\",\"1179\",\"1179\",\"1179\",\"1179\",\"1179\",\"1179\",\"1179\",\"1179\",\"1179\",\"1179\",\"1179\",\"1179\",\"1179\",\"1179\",\"1179\",\"1179\",\"1179\",\"1179\",\"1179\",\"1179\",\"1179\",\"1179\"],\"obnames\":[[\"2005-04-03T21:47:16\"],[\"2005-04-03T23:24:16\"],[\"2005-04-04T01:00:16\"],[\"2005-03-31T18:40:16\"],[\"2005-03-31T20:16:16\"],[\"2005-03-31T21:52:16\"],[\"2005-03-25T04:26:16\"],[\"2005-03-25T06:00:16\"],[\"2005-03-31T23:28:16\"],[\"2005-04-01T01:04:16\"],[\"2005-04-01T02:40:16\"],[\"2005-04-01T04:15:16\"],[\"2005-03-31T02:41:16\"],[\"2005-03-31T04:17:16\"],[\"2005-03-20T20:28:16\"],[\"2005-03-20T22:02:16\"],[\"2005-03-24T21:59:16\"],[\"2005-03-24T23:36:16\"],[\"2005-03-25T01:12:16\"],[\"2005-03-25T02:48:16\"],[\"2005-03-26T04:22:16\"],[\"2005-03-26T05:59:16\"],[\"2005-03-27T20:21:16\"],[\"2005-03-27T21:57:16\"],[\"2005-03-13T10:36:16\"],[\"2005-03-13T12:07:16\"],[\"2005-03-13T13:43:16\"],[\"2005-03-13T15:19:16\"],[\"2005-03-13T16:55:16\"],[\"2005-03-16T23:35:16\"],[\"2005-03-17T01:03:16\"],[\"2005-03-17T02:35:16\"],[\"2005-03-17T04:08:16\"],[\"2005-03-17T05:44:16\"],[\"2005-03-17T17:08:16\"],[\"2005-03-17T18:44:16\"],[\"2005-03-17T20:20:16\"],[\"2005-03-17T21:57:16\"],[\"2005-03-17T23:33:16\"],[\"2005-03-18T01:18:16\"],[\"2005-03-18T02:46:16\"],[\"2005-03-18T04:22:16\"],[\"2005-03-18T05:58:16\"],[\"2005-03-18T07:34:16\"],[\"2005-03-18T18:49:16\"],[\"2005-03-18T20:24:16\"],[\"2005-03-18T22:00:16\"],[\"2005-03-18T23:36:16\"],[\"2005-03-19T01:12:16\"],[\"2005-03-19T02:53:16\"],[\"2005-03-19T04:25:16\"],[\"2005-03-19T06:01:16\"],[\"2005-03-19T07:37:16\"],[\"2005-03-19T09:13:16\"],[\"2005-03-19T18:49:16\"],[\"2005-03-19T20:25:16\"],[\"2005-03-19T22:02:16\"],[\"2005-03-19T23:38:16\"],[\"2005-03-20T01:14:16\"],[\"2005-03-22T01:18:16\"],[\"2005-03-22T02:50:16\"],[\"2005-03-22T04:26:16\"],[\"2005-03-22T06:02:16\"],[\"2005-03-22T07:38:16\"],[\"2005-03-22T20:29:16\"],[\"2005-03-22T22:01:16\"],[\"2005-03-22T23:37:16\"],[\"2005-03-23T01:13:16\"],[\"2005-03-23T02:49:16\"],[\"2005-03-23T20:27:16\"],[\"2005-03-23T22:01:16\"],[\"2005-03-23T23:37:16\"],[\"2005-03-24T01:13:16\"],[\"2005-03-24T02:49:16\"],[\"2005-03-25T20:24:16\"],[\"2005-03-25T21:59:16\"],[\"2005-03-25T23:35:16\"],[\"2005-03-26T01:11:16\"],[\"2005-03-26T02:47:16\"],[\"2005-04-04T16:58:16\"],[\"2005-04-04T18:35:16\"],[\"2005-04-04T20:11:16\"],[\"2005-04-04T21:47:16\"],[\"2005-04-04T23:23:16\"],[\"2005-03-30T18:42:16\"],[\"2005-03-30T20:17:16\"],[\"2005-03-30T21:53:16\"],[\"2005-03-30T23:29:16\"],[\"2005-03-31T01:05:16\"],[\"2005-04-08T15:16:16\"],[\"2005-04-08T16:53:16\"],[\"2005-04-08T18:29:16\"],[\"2005-04-08T20:05:16\"],[\"2005-04-08T21:41:16\"],[\"2005-04-05T18:34:16\"],[\"2005-04-05T20:09:16\"],[\"2005-04-05T21:45:16\"],[\"2005-04-07T23:19:16\"],[\"2005-04-08T00:54:16\"],[\"2005-03-17T07:42:16\"],[\"2005-03-17T08:56:16\"],[\"2005-03-17T10:32:16\"],[\"2005-03-20T02:54:16\"],[\"2005-03-20T04:26:16\"],[\"2005-03-20T06:02:16\"],[\"2005-03-21T20:29:16\"],[\"2005-03-21T22:02:16\"],[\"2005-03-21T23:38:16\"],[\"2005-03-23T04:27:16\"],[\"2005-03-23T06:01:16\"],[\"2005-03-23T07:37:16\"],[\"2005-03-26T20:23:16\"],[\"2005-03-26T21:58:16\"],[\"2005-03-26T23:34:16\"],[\"2005-03-27T01:11:16\"],[\"2005-03-27T02:46:16\"],[\"2005-03-27T04:22:16\"],[\"2005-04-02T23:27:16\"],[\"2005-04-03T01:01:16\"],[\"2005-04-03T02:37:16\"],[\"2005-04-02T18:39:16\"],[\"2005-04-02T20:13:16\"],[\"2005-04-02T21:49:16\"],[\"2005-04-03T17:01:16\"],[\"2005-04-03T18:36:16\"],[\"2005-04-03T20:12:16\"]],\"time\":{\"__ndarray__\":\"AABqgqAwcEIAAFAPpjBwQgAAkI2rMHBCAADonZ4vcEIAACgcpC9wQgAAaJqpL3BCAACkXX8tcEIAAJi+hC1wQgAAqBivL3BCAADolrQvcEIAACgVui9wQgAAwoS/L3BCAAAOvmcvcEIAAE48bS9wQgAAsGwaLHBCAACkzR8scEIAALI4aS1wQgAAmMVuLXBCAADYQ3QtcEIAABjCeS1wQgAAzIjRLXBCAACyFdctcEIAAGbOWi5wQgAApkxgLnBCAACQxLcpcEIAAJL5vClwQgAA0nfCKXBCAAAS9scpcEIAAFJ0zSlwQgAA8ojbKnBCAAACkuAqcEIAAKrV5SpwQgAA+CfrKnBCAAA4pvAqcEIAAMDJFytwQgAAAEgdK3BCAABAxiIrcEIAACZTKCtwQgAAZtEtK3BCAAB80zMrcEIAAIzcOCtwQgAAzFo+K3BCAAAM2UMrcEIAAExXSStwQgAA/vZvK3BCAACYZnUrcEIAANjkeitwQgAAGGOAK3BCAABY4YUrcEIAANaoiytwQgAAfuyQK3BCAAC+apYrcEIAAP7omytwQgAAPmehK3BCAAC+XMIrcEIAAP7axytwQgAA5GfNK3BCAAAk5tIrcEIAAGRk2CtwQgAAfGp9LHBCAAAkroIscEIAAGQsiCxwQgAApKqNLHBCAADkKJMscEIAANZGvyxwQgAAforELHBCAAC+CMoscEIAAP6GzyxwQgAAPgXVLHBCAABKjxEtcEIAAD7wFi1wQgAAfm4cLXBCAAC+7CEtcEIAAP5qJy1wQgAA2C62LXBCAABynrstcEIAALIcwS1wQgAA8prGLXBCAAAyGcwtcEIAAMRe4jBwQgAAquvnMHBCAADqae0wcEIAACro8jBwQgAAamb4MHBCAAB0VUwvcEIAAA7FUS9wQgAATkNXL3BCAACOwVwvcEIAAM4/Yi9wQgAAoB8mMnBCAACGrCsycEIAAMYqMTJwQgAABqk2MnBCAABGJzwycEIAAMRCOjFwQgAAXrI/MXBCAACeMEUxcEIAABJd7zFwQgAArMz0MXBCAAC8ZvcqcEIAALii+ypwQgAA+CABK3BCAAA8Hd4rcEIAAORg4ytwQgAAJN/oK3BCAAAW4WwscEIAAGQzcixwQgAApLF3LHBCAADKoNoscEIAAL4B4CxwQgAA/n/lLHBCAADyhQgucEIAAIz1DS5wQgAAzHMTLnBCAACyABkucEIAAExwHi5wQgAAjO4jLnBCAACC1VMwcEIAAHY2WTBwQgAAtrReMHBCAADCWkMwcEIAALa7SDBwQgAA9jlOMHBCAAD2JJAwcEIAAJCUlTBwQgAA0BKbMHBC\",\"dtype\":\"float64\",\"shape\":[126,1]},\"upper\":{\"__ndarray__\":\"2/l+arw0MkCyne+nxisyQC2yne+nBjJABVYOLbJdMkBnZmZmZmYyQFCNl24SgzJAAiuHFtlOMkBQjZduEmMyQJhuEoPASjJA8tJNYhBYMkDRItv5fooyQArXo3A9SjJAI9v5fmo8MkA0MzMzM5MyQMdLN4lBYDJAKVyPwvVIMkDwp8ZLN2kyQPT91HjphjJAarx0kxikMkBOYhBYOVQyQC/dJAaBdTJAtch2vp+aMkCgGi/dJIYyQCcxCKwcejJAO99PjZduMkCXbhKDwAozQG3n+6nxUjJAzczMzMxMMkAdWmQ7328yQMh2vp8aLzJAXrpJDAJLMkAtsp3vp0YyQDQzMzMzEzJA46WbxCBQMkD0/dR46UYyQHnpJjEIbDJAf2q8dJNYMkCoxks3iSEyQAisHFpkOzJAsHJoke08MkAtsp3vpyYyQC2yne+nRjJAsp3vp8ZrMkDRItv5fgoyQAaBlUOLTDJAH4XrUbg+MkCOl24Sg4AyQIXrUbgeZTJA5dAi2/k+MkCiRbbz/XQyQPCnxks3aTJACtejcD0qMkDGSzeJQUAyQHNoke18fzJA1XjpJjFIMkBMN4lBYKUyQGmR7Xw/dTJAoBov3SRGMkBlO99PjXcyQClcj8L1aDJAVOOlm8RgMkC0yHa+n5oyQLXIdr6fejJA/tR46SZxMkAVrkfhelQyQC2yne+nBjNAUI2XbhKjMkDm0CLb+V4yQI6XbhKDgDJA4XoUrkfBMkAhsHJokY0yQNEi2/l+ajJA4noUrkeBMkAOLbKd76cyQGMQWDm0aDJATDeJQWBlMkB/arx0k1gyQMHKoUW2czJAmpmZmZlZMkAxCKwcWkQyQDeJQWDlMDJAIbByaJFNMkAOLbKd7ycyQAVWDi2y/TFAf2q8dJNYMkBqvHSTGEQyQPhT46WbhDJAa7x0kxhkMkBQjZduEkMyQDQzMzMzUzJA5tAi2/leMkCbxCCwcigyQC2yne+nJjJAiUFg5dBCMkDkpZvEIDAyQB+F61G4XjJAiBbZzvcTMkA3iUFg5RAyQF2PwvUoHDJAJzEIrBxaMkC5HoXrUfgxQPyp8dJNQjJAAAAAAADAMkCiRbbz/VQyQCPb+X5qfDJAi2zn+6lRMkArhxbZzncyQGZmZmZmBjNAvp8aL92kMkAv3SQGgXUyQBkEVg4tcjJA2/l+arx0MkD0/dR46YYyQL+fGi/dhDJAbef7qfFyMkCHFtnO93MyQKwcWmQ7nzJA/tR46SZxMkAOLbKd72cyQOOlm8QgMDJAsp3vp8ZrMkDZzvdT40UyQGDl0CLbOTJAlBgEVg7NMkAK16NwPSoyQBWuR+F6FDJA\",\"dtype\":\"float64\",\"shape\":[126]}},\"selected\":{\"id\":\"2507\",\"type\":\"Selection\"},\"selection_policy\":{\"id\":\"2508\",\"type\":\"UnionRenderers\"}},\"id\":\"2347\",\"type\":\"ColumnDataSource\"},{\"attributes\":{},\"id\":\"2372\",\"type\":\"YearsTicker\"},{\"attributes\":{\"active_drag\":{\"id\":\"2334\",\"type\":\"PanTool\"},\"active_inspect\":\"auto\",\"active_multi\":null,\"active_scroll\":{\"id\":\"2335\",\"type\":\"WheelZoomTool\"},\"active_tap\":\"auto\",\"tools\":[{\"id\":\"2334\",\"type\":\"PanTool\"},{\"id\":\"2335\",\"type\":\"WheelZoomTool\"},{\"id\":\"2336\",\"type\":\"BoxZoomTool\"},{\"id\":\"2337\",\"type\":\"SaveTool\"},{\"id\":\"2338\",\"type\":\"ResetTool\"},{\"id\":\"2339\",\"type\":\"HelpTool\"},{\"id\":\"2348\",\"type\":\"HoverTool\"}]},\"id\":\"2340\",\"type\":\"Toolbar\"},{\"attributes\":{\"source\":{\"id\":\"2347\",\"type\":\"ColumnDataSource\"}},\"id\":\"2354\",\"type\":\"CDSView\"},{\"attributes\":{\"items\":[{\"id\":\"2374\",\"type\":\"LegendItem\"}]},\"id\":\"2373\",\"type\":\"Legend\"},{\"attributes\":{\"data_source\":{\"id\":\"2347\",\"type\":\"ColumnDataSource\"},\"glyph\":{\"id\":\"2351\",\"type\":\"Circle\"},\"hover_glyph\":null,\"muted_glyph\":null,\"name\":\"name\",\"nonselection_glyph\":{\"id\":\"2352\",\"type\":\"Circle\"},\"selection_glyph\":null,\"view\":{\"id\":\"2354\",\"type\":\"CDSView\"}},\"id\":\"2353\",\"type\":\"GlyphRenderer\"},{\"attributes\":{\"axis_label\":\"VEGAMAG\",\"formatter\":{\"id\":\"2359\",\"type\":\"BasicTickFormatter\"},\"ticker\":{\"id\":\"2330\",\"type\":\"BasicTicker\"}},\"id\":\"2329\",\"type\":\"LinearAxis\"},{\"attributes\":{\"base\":{\"field\":\"time\",\"units\":\"data\"},\"lower\":{\"field\":\"lower\",\"units\":\"data\"},\"lower_head\":{\"id\":\"2488\",\"type\":\"TeeHead\"},\"source\":{\"id\":\"2347\",\"type\":\"ColumnDataSource\"},\"upper\":{\"field\":\"upper\",\"units\":\"data\"},\"upper_head\":{\"id\":\"2489\",\"type\":\"TeeHead\"}},\"id\":\"2375\",\"type\":\"Whisker\"},{\"attributes\":{\"axis_label\":\"Date_Obs\",\"formatter\":{\"id\":\"2357\",\"type\":\"DatetimeTickFormatter\"},\"ticker\":{\"id\":\"2325\",\"type\":\"DatetimeTicker\"}},\"id\":\"2324\",\"type\":\"DatetimeAxis\"},{\"attributes\":{},\"id\":\"2359\",\"type\":\"BasicTickFormatter\"},{\"attributes\":{},\"id\":\"2357\",\"type\":\"DatetimeTickFormatter\"},{\"attributes\":{\"label\":{\"field\":\"name\"},\"renderers\":[{\"id\":\"2353\",\"type\":\"GlyphRenderer\"}]},\"id\":\"2374\",\"type\":\"LegendItem\"},{\"attributes\":{\"mantissas\":[1,2,5],\"max_interval\":500.0,\"num_minor_ticks\":0},\"id\":\"2361\",\"type\":\"AdaptiveTicker\"},{\"attributes\":{\"bottom_units\":\"screen\",\"fill_alpha\":{\"value\":0.5},\"fill_color\":{\"value\":\"lightgrey\"},\"left_units\":\"screen\",\"level\":\"overlay\",\"line_alpha\":{\"value\":1.0},\"line_color\":{\"value\":\"black\"},\"line_dash\":[4,4],\"line_width\":{\"value\":2},\"render_mode\":\"css\",\"right_units\":\"screen\",\"top_units\":\"screen\"},\"id\":\"2360\",\"type\":\"BoxAnnotation\"},{\"attributes\":{},\"id\":\"2339\",\"type\":\"HelpTool\"},{\"attributes\":{},\"id\":\"2338\",\"type\":\"ResetTool\"},{\"attributes\":{},\"id\":\"2508\",\"type\":\"UnionRenderers\"},{\"attributes\":{},\"id\":\"2337\",\"type\":\"SaveTool\"},{\"attributes\":{\"base\":24,\"mantissas\":[1,2,4,6,8,12],\"max_interval\":43200000.0,\"min_interval\":3600000.0,\"num_minor_ticks\":0},\"id\":\"2363\",\"type\":\"AdaptiveTicker\"},{\"attributes\":{\"level\":\"underlay\",\"size\":10},\"id\":\"2489\",\"type\":\"TeeHead\"},{\"attributes\":{\"days\":[1,2,3,4,5,6,7,8,9,10,11,12,13,14,15,16,17,18,19,20,21,22,23,24,25,26,27,28,29,30,31]},\"id\":\"2364\",\"type\":\"DaysTicker\"},{\"attributes\":{},\"id\":\"2335\",\"type\":\"WheelZoomTool\"},{\"attributes\":{},\"id\":\"2507\",\"type\":\"Selection\"},{\"attributes\":{\"base\":60,\"mantissas\":[1,2,5,10,15,20,30],\"max_interval\":1800000.0,\"min_interval\":1000.0,\"num_minor_ticks\":0},\"id\":\"2362\",\"type\":\"AdaptiveTicker\"},{\"attributes\":{\"days\":[1,4,7,10,13,16,19,22,25,28]},\"id\":\"2365\",\"type\":\"DaysTicker\"},{\"attributes\":{\"level\":\"underlay\",\"size\":10},\"id\":\"2488\",\"type\":\"TeeHead\"},{\"attributes\":{\"months\":[0,2,4,6,8,10]},\"id\":\"2369\",\"type\":\"MonthsTicker\"},{\"attributes\":{},\"id\":\"2320\",\"type\":\"LinearScale\"},{\"attributes\":{\"text\":\"\"},\"id\":\"2314\",\"type\":\"Title\"},{\"attributes\":{\"overlay\":{\"id\":\"2360\",\"type\":\"BoxAnnotation\"}},\"id\":\"2336\",\"type\":\"BoxZoomTool\"},{\"attributes\":{\"fill_alpha\":{\"value\":0.1},\"fill_color\":{\"value\":\"#1f77b4\"},\"line_alpha\":{\"value\":0.1},\"line_color\":{\"value\":\"#1f77b4\"},\"x\":{\"field\":\"time\"},\"y\":{\"field\":\"VEGAMAG\"}},\"id\":\"2352\",\"type\":\"Circle\"},{\"attributes\":{\"months\":[0,1,2,3,4,5,6,7,8,9,10,11]},\"id\":\"2368\",\"type\":\"MonthsTicker\"},{\"attributes\":{\"num_minor_ticks\":5,\"tickers\":[{\"id\":\"2361\",\"type\":\"AdaptiveTicker\"},{\"id\":\"2362\",\"type\":\"AdaptiveTicker\"},{\"id\":\"2363\",\"type\":\"AdaptiveTicker\"},{\"id\":\"2364\",\"type\":\"DaysTicker\"},{\"id\":\"2365\",\"type\":\"DaysTicker\"},{\"id\":\"2366\",\"type\":\"DaysTicker\"},{\"id\":\"2367\",\"type\":\"DaysTicker\"},{\"id\":\"2368\",\"type\":\"MonthsTicker\"},{\"id\":\"2369\",\"type\":\"MonthsTicker\"},{\"id\":\"2370\",\"type\":\"MonthsTicker\"},{\"id\":\"2371\",\"type\":\"MonthsTicker\"},{\"id\":\"2372\",\"type\":\"YearsTicker\"}]},\"id\":\"2325\",\"type\":\"DatetimeTicker\"},{\"attributes\":{},\"id\":\"2322\",\"type\":\"LinearScale\"},{\"attributes\":{\"ticker\":{\"id\":\"2325\",\"type\":\"DatetimeTicker\"}},\"id\":\"2328\",\"type\":\"Grid\"},{\"attributes\":{},\"id\":\"2334\",\"type\":\"PanTool\"},{\"attributes\":{},\"id\":\"2330\",\"type\":\"BasicTicker\"},{\"attributes\":{\"days\":[1,8,15,22]},\"id\":\"2366\",\"type\":\"DaysTicker\"},{\"attributes\":{\"callback\":null},\"id\":\"2316\",\"type\":\"DataRange1d\"},{\"attributes\":{\"days\":[1,15]},\"id\":\"2367\",\"type\":\"DaysTicker\"},{\"attributes\":{\"dimension\":1,\"ticker\":{\"id\":\"2330\",\"type\":\"BasicTicker\"}},\"id\":\"2333\",\"type\":\"Grid\"},{\"attributes\":{\"fill_color\":{\"value\":\"red\"},\"line_color\":{\"value\":\"red\"},\"x\":{\"field\":\"time\"},\"y\":{\"field\":\"VEGAMAG\"}},\"id\":\"2351\",\"type\":\"Circle\"},{\"attributes\":{\"months\":[0,4,8]},\"id\":\"2370\",\"type\":\"MonthsTicker\"},{\"attributes\":{\"callback\":null},\"id\":\"2318\",\"type\":\"DataRange1d\"},{\"attributes\":{\"months\":[0,6]},\"id\":\"2371\",\"type\":\"MonthsTicker\"},{\"attributes\":{\"callback\":null,\"tooltips\":[[\"Date\",\"(@obnames)\"]]},\"id\":\"2348\",\"type\":\"HoverTool\"}],\"root_ids\":[\"2313\"]},\"title\":\"Bokeh Application\",\"version\":\"1.1.0\"}};\n",
       "  var render_items = [{\"docid\":\"ad03913e-a160-4f1c-a3a8-4fc7ba96f53d\",\"roots\":{\"2313\":\"39d01dc8-4a58-4d8c-850c-d826f140951e\"}}];\n",
       "  root.Bokeh.embed.embed_items_notebook(docs_json, render_items);\n",
       "\n",
       "  }\n",
       "  if (root.Bokeh !== undefined) {\n",
       "    embed_document(root);\n",
       "  } else {\n",
       "    var attempts = 0;\n",
       "    var timer = setInterval(function(root) {\n",
       "      if (root.Bokeh !== undefined) {\n",
       "        embed_document(root);\n",
       "        clearInterval(timer);\n",
       "      }\n",
       "      attempts++;\n",
       "      if (attempts > 100) {\n",
       "        console.log(\"Bokeh: ERROR: Unable to run BokehJS code because BokehJS library is missing\");\n",
       "        clearInterval(timer);\n",
       "      }\n",
       "    }, 10, root)\n",
       "  }\n",
       "})(window);"
      ],
      "application/vnd.bokehjs_exec.v0+json": ""
     },
     "metadata": {
      "application/vnd.bokehjs_exec.v0+json": {
       "id": "2313"
      }
     },
     "output_type": "display_data"
    },
    {
     "name": "stdout",
     "output_type": "stream",
     "text": [
      "sed '1180q;d'  outdir/out.photo\n",
      "['520.61', '248.53']\n"
     ]
    },
    {
     "data": {
      "application/vnd.jupyter.widget-view+json": {
       "model_id": "24601acc245049ccbd173f09293d5718",
       "version_major": 2,
       "version_minor": 0
      },
      "text/plain": [
       "FigureCanvasNbAgg()"
      ]
     },
     "metadata": {},
     "output_type": "display_data"
    },
    {
     "name": "stdout",
     "output_type": "stream",
     "text": [
      "sed '1180q;d'  outdir/out.photo\n",
      "['520.61', '248.53']\n"
     ]
    }
   ],
   "source": [
    "plotlc(outputfile,[1179],columnfile,namelist=['1179'])\n",
    "plotlcseaborn(outputfile,1179,columnfile,name='1179')\n",
    "datagoodmjd=  createdatadicclean(outputfile,1179,columnfile,name='1179',timeformat='mjd')\n",
    "t, mag, dmag = datagoodmjd['time'], datagoodmjd['VEGAMAG'],datagoodmjd['errorsmag']\n"
   ]
  },
  {
   "cell_type": "code",
   "execution_count": 31,
   "metadata": {},
   "outputs": [
    {
     "name": "stdout",
     "output_type": "stream",
     "text": [
      "sed '1180q;d'  outdir/out.photo\n",
      "['520.61', '248.53']\n"
     ]
    },
    {
     "data": {
      "application/vnd.jupyter.widget-view+json": {
       "model_id": "a3a0b7b605ac4b948d5720f76db1b950",
       "version_major": 2,
       "version_minor": 0
      },
      "text/plain": [
       "FigureCanvasNbAgg()"
      ]
     },
     "metadata": {},
     "output_type": "display_data"
    },
    {
     "name": "stdout",
     "output_type": "stream",
     "text": [
      "sed '1180q;d'  outdir/out.photo\n",
      "['520.61', '248.53']\n",
      "[0.23540885]\n"
     ]
    },
    {
     "data": {
      "application/vnd.jupyter.widget-view+json": {
       "model_id": "0af293bf37434fd597c57f5280a32cec",
       "version_major": 2,
       "version_minor": 0
      },
      "text/plain": [
       "FigureCanvasNbAgg()"
      ]
     },
     "metadata": {},
     "output_type": "display_data"
    }
   ],
   "source": [
    "plotlb(outputfile,1179,columnfile,name='1179',periods=np.linspace(0.2, 0.5, 40000))\n",
    "plotphase(outputfile,1179,columnfile,name='1179')"
   ]
  },
  {
   "cell_type": "markdown",
   "metadata": {},
   "source": [
    "# With gatspy"
   ]
  },
  {
   "cell_type": "code",
   "execution_count": 19,
   "metadata": {},
   "outputs": [
    {
     "data": {
      "application/vnd.jupyter.widget-view+json": {
       "model_id": "9c4731f9347a4c3992a6f3762fd71056",
       "version_major": 2,
       "version_minor": 0
      },
      "text/plain": [
       "FigureCanvasNbAgg()"
      ]
     },
     "metadata": {},
     "output_type": "display_data"
    }
   ],
   "source": [
    "%matplotlib widget\n",
    "\n",
    "# Choose a period grid\n",
    "periods = np.linspace(0.01, 1.4, 40000)\n",
    "ang_freqs = 2 * np.pi / periods\n",
    "\n",
    "\n",
    "fmin = 1. / periods.max()\n",
    "fmax = 1. / periods.min()\n",
    "N = 10000\n",
    "df = (fmax - fmin) / N\n",
    "\n",
    "model = LombScargle().fit(t.flatten(), mag, dmag)\n",
    "power = model.score_frequency_grid(fmin, df, N)\n",
    "freqs = fmin + df * np.arange(N)\n",
    "\n",
    "# plot the results\n",
    "fig, ax = plt.subplots()\n",
    "ax.plot(1. / freqs, power)\n",
    "ax.set(ylim=(0, 0.8),xlim=(0,1), xlabel='period (days)',\n",
    "       ylabel='Lomb-Scargle Power');"
   ]
  },
  {
   "cell_type": "code",
   "execution_count": 17,
   "metadata": {},
   "outputs": [
    {
     "name": "stdout",
     "output_type": "stream",
     "text": [
      "Finding optimal frequency:\n",
      " - Estimated peak width = 0.237\n",
      " - Using 5 steps per peak; omega_step = 0.0475\n",
      " - User-specified period range:  0.05 to 1\n",
      " - Computing periods at 2515 steps\n",
      "Zooming-in on 5 candidate peaks:\n",
      " - Computing periods at 1000 steps\n",
      "period = 0.06446146485003532\n"
     ]
    },
    {
     "data": {
      "text/plain": [
       "[]"
      ]
     },
     "execution_count": 17,
     "metadata": {},
     "output_type": "execute_result"
    },
    {
     "data": {
      "image/png": "[encoded data removed]",
      "text/plain": [
       "<Figure size 432x288 with 1 Axes>"
      ]
     },
     "metadata": {
      "needs_background": "light"
     },
     "output_type": "display_data"
    },
    {
     "data": {
      "image/png": "[encoded data removed]",
      "text/plain": [
       "<Figure size 432x288 with 1 Axes>"
      ]
     },
     "metadata": {
      "needs_background": "light"
     },
     "output_type": "display_data"
    }
   ],
   "source": [
    "model = LombScargle().fit(t.flatten(), mag, dmag)\n",
    "periods, power = model.periodogram_auto()\n",
    "#periods, power = model.periodogram_auto()\n",
    "\n",
    "fig, ax = plt.subplots()\n",
    "ax.plot(periods, power)\n",
    "ax.set(xlim=(0, 1.4),\n",
    "       xlabel='period (days)',\n",
    "       ylabel='Lomb-Scargle Power');\n",
    "\n",
    "\n",
    "\n",
    "# set range and find period\n",
    "model.optimizer.period_range=(0.05, 1)\n",
    "\n",
    "\n",
    "\n",
    "\n",
    "period = model.best_period\n",
    "print(\"period = {0}\".format(period))\n",
    "\n",
    "# Compute phases of the obsevations\n",
    "phase = (t.flatten() / period) % 1\n",
    "\n",
    "# Plot the phased data & model\n",
    "fig, ax = plt.subplots()\n",
    "ax.errorbar(phase, mag, dmag, fmt='.k', ecolor='gray', alpha=0.5)\n",
    "ax.set(xlabel='Phase', ylabel='magitude')\n",
    "#ax.invert_yaxis();\n",
    "plt.plot()"
   ]
  },
  {
   "cell_type": "markdown",
   "metadata": {},
   "source": [
    "# U18"
   ]
  },
  {
   "cell_type": "code",
   "execution_count": 34,
   "metadata": {},
   "outputs": [
    {
     "name": "stdout",
     "output_type": "stream",
     "text": [
      "sed '738q;d'  outdir/out.photo\n",
      "['515.39', '125.65']\n"
     ]
    },
    {
     "data": {
      "text/html": [
       "\n",
       "\n",
       "\n",
       "\n",
       "\n",
       "\n",
       "  <div class=\"bk-root\" id=\"327a92b7-6f0d-4609-97ab-4024e29ef36a\" data-root-id=\"3363\"></div>\n"
      ]
     },
     "metadata": {},
     "output_type": "display_data"
    },
    {
     "data": {
      "application/javascript": [
       "(function(root) {\n",
       "  function embed_document(root) {\n",
       "    \n",
       "  var docs_json = {\"0d6b56c2-16fe-4952-a772-02419b41b1c0\":{\"roots\":{\"references\":[{\"attributes\":{\"below\":[{\"id\":\"3374\",\"type\":\"DatetimeAxis\"}],\"center\":[{\"id\":\"3378\",\"type\":\"Grid\"},{\"id\":\"3383\",\"type\":\"Grid\"},{\"id\":\"3423\",\"type\":\"Legend\"},{\"id\":\"3425\",\"type\":\"Whisker\"}],\"left\":[{\"id\":\"3379\",\"type\":\"LinearAxis\"}],\"plot_height\":500,\"plot_width\":900,\"renderers\":[{\"id\":\"3403\",\"type\":\"GlyphRenderer\"}],\"title\":{\"id\":\"3364\",\"type\":\"Title\"},\"toolbar\":{\"id\":\"3390\",\"type\":\"Toolbar\"},\"x_range\":{\"id\":\"3366\",\"type\":\"DataRange1d\"},\"x_scale\":{\"id\":\"3370\",\"type\":\"LinearScale\"},\"y_range\":{\"id\":\"3368\",\"type\":\"DataRange1d\"},\"y_scale\":{\"id\":\"3372\",\"type\":\"LinearScale\"}},\"id\":\"3363\",\"subtype\":\"Figure\",\"type\":\"Plot\"},{\"attributes\":{\"level\":\"underlay\",\"size\":10},\"id\":\"3605\",\"type\":\"TeeHead\"},{\"attributes\":{},\"id\":\"3623\",\"type\":\"Selection\"},{\"attributes\":{\"days\":[1,15]},\"id\":\"3417\",\"type\":\"DaysTicker\"},{\"attributes\":{\"days\":[1,4,7,10,13,16,19,22,25,28]},\"id\":\"3415\",\"type\":\"DaysTicker\"},{\"attributes\":{},\"id\":\"3384\",\"type\":\"PanTool\"},{\"attributes\":{},\"id\":\"3389\",\"type\":\"HelpTool\"},{\"attributes\":{\"data_source\":{\"id\":\"3397\",\"type\":\"ColumnDataSource\"},\"glyph\":{\"id\":\"3401\",\"type\":\"Circle\"},\"hover_glyph\":null,\"muted_glyph\":null,\"name\":\"name\",\"nonselection_glyph\":{\"id\":\"3402\",\"type\":\"Circle\"},\"selection_glyph\":null,\"view\":{\"id\":\"3404\",\"type\":\"CDSView\"}},\"id\":\"3403\",\"type\":\"GlyphRenderer\"},{\"attributes\":{\"callback\":null},\"id\":\"3368\",\"type\":\"DataRange1d\"},{\"attributes\":{\"fill_color\":{\"value\":\"red\"},\"line_color\":{\"value\":\"red\"},\"x\":{\"field\":\"time\"},\"y\":{\"field\":\"VEGAMAG\"}},\"id\":\"3401\",\"type\":\"Circle\"},{\"attributes\":{\"axis_label\":\"Date_Obs\",\"formatter\":{\"id\":\"3407\",\"type\":\"DatetimeTickFormatter\"},\"ticker\":{\"id\":\"3375\",\"type\":\"DatetimeTicker\"}},\"id\":\"3374\",\"type\":\"DatetimeAxis\"},{\"attributes\":{\"days\":[1,2,3,4,5,6,7,8,9,10,11,12,13,14,15,16,17,18,19,20,21,22,23,24,25,26,27,28,29,30,31]},\"id\":\"3414\",\"type\":\"DaysTicker\"},{\"attributes\":{\"months\":[0,4,8]},\"id\":\"3420\",\"type\":\"MonthsTicker\"},{\"attributes\":{\"overlay\":{\"id\":\"3410\",\"type\":\"BoxAnnotation\"}},\"id\":\"3386\",\"type\":\"BoxZoomTool\"},{\"attributes\":{\"months\":[0,6]},\"id\":\"3421\",\"type\":\"MonthsTicker\"},{\"attributes\":{},\"id\":\"3409\",\"type\":\"BasicTickFormatter\"},{\"attributes\":{},\"id\":\"3407\",\"type\":\"DatetimeTickFormatter\"},{\"attributes\":{},\"id\":\"3387\",\"type\":\"SaveTool\"},{\"attributes\":{},\"id\":\"3370\",\"type\":\"LinearScale\"},{\"attributes\":{\"callback\":null,\"tooltips\":[[\"Date\",\"(@obnames)\"]]},\"id\":\"3398\",\"type\":\"HoverTool\"},{\"attributes\":{},\"id\":\"3388\",\"type\":\"ResetTool\"},{\"attributes\":{\"bottom_units\":\"screen\",\"fill_alpha\":{\"value\":0.5},\"fill_color\":{\"value\":\"lightgrey\"},\"left_units\":\"screen\",\"level\":\"overlay\",\"line_alpha\":{\"value\":1.0},\"line_color\":{\"value\":\"black\"},\"line_dash\":[4,4],\"line_width\":{\"value\":2},\"render_mode\":\"css\",\"right_units\":\"screen\",\"top_units\":\"screen\"},\"id\":\"3410\",\"type\":\"BoxAnnotation\"},{\"attributes\":{},\"id\":\"3624\",\"type\":\"UnionRenderers\"},{\"attributes\":{\"callback\":null,\"data\":{\"VEGAMAG\":{\"__ndarray__\":\"rBxaZDufMUCamZmZmZkxQOXQItv5njFAJzEIrByaMUBQjZduEoMxQNNNYhBYeTFAKVyPwvWoMUBI4XoUrqcxQESLbOf7iTFADAIrhxZ5MUDVeOkmMYgxQMP1KFyPgjFAMzMzMzOTMUDl0CLb+Z4xQFK4HoXrkTFAcT0K16OwMUCTGARWDq0xQMdLN4lBoDFARIts5/upMUB/arx0k5gxQGQ730+NlzFABFYOLbJ9MUC28/3UeIkxQOF6FK5HgTFAdZMYBFauMUBg5dAi27kxQCUGgZVDqzFAWmQ730+tMUAdWmQ7368xQNejcD0KlzFATmIQWDmUMUArhxbZzpcxQDeJQWDlsDFAH4XrUbieMUBzaJHtfL8xQIPAyqFFljFABoGVQ4uMMUBeukkMAosxQKjGSzeJgTFAUI2XbhKDMUDhehSuR4ExQMdLN4lBgDFAPQrXo3CdMUAOLbKd74cxQBkEVg4tsjFAO99PjZeOMUC28/3UeIkxQOkmMQisfDFASgwCK4eWMUBCYOXQIpsxQLTIdr6fmjFAVOOlm8SgMUA730+Nl64xQGZmZmZmxjFAcT0K16OwMUAK16NwPYoxQPhT46WbhDFAEoPAyqGFMUA5tMh2vn8xQDVeukkMgjFADAIrhxZ5MUC0yHa+n3oxQL6fGi/dhDFAYOXQItuZMUCYbhKDwKoxQC/dJAaBlTFA/tR46SaRMUDTTWIQWJkxQFyPwvUonDFAeekmMQiMMUDByqFFtnMxQPyp8dJNgjFAgZVDi2yHMUCJQWDl0IIxQPyp8dJNojFAcT0K16NwMUAIrBxaZHsxQDEIrBxahDFAK4cW2c53MUDFILByaJExQMP1KFyPgjFABFYOLbJ9MUDdJAaBlYMxQMuhRbbzfTFAoBov3SSmMUArhxbZzpcxQEoMAiuHljFAaJHtfD+VMUAfhetRuJ4xQCGwcmiRjTFArBxaZDufMUBCYOXQInsxQKAaL90khjFArBxaZDt/MUAbL90kBqExQAwCK4cWmTFAcT0K16OwMUB3vp8aL50xQGq8dJMYpDFAz/dT46WbMUBaZDvfT60xQESLbOf7qTFAtMh2vp96MUAEVg4tsn0xQHsUrkfhejFAIbByaJGNMUB56SYxCIwxQGq8dJMYhDFAz/dT46WbMUD4U+Olm6QxQPhT46WbpDFA2/l+aryUMUC+nxov3aQxQJqZmZmZmTFAtMh2vp+aMUDl0CLb+Z4xQBsv3SQGoTFALbKd76eGMUDVeOkmMYgxQMuhRbbzfTFADi2yne+HMUA5tMh2vn8xQI2XbhKDgDFA/Knx0k2iMUBYObTIdp4xQLgehetRmDFA\",\"dtype\":\"float64\",\"shape\":[126]},\"errorsmag\":{\"__ndarray__\":\"/Knx0k1igD/8qfHSTWKAPzvfT42XboI/O99PjZdugj/8qfHSTWKAP/yp8dJNYoA/O99PjZdugj8730+Nl26CPzvfT42XboI//Knx0k1igD/8qfHSTWKAP/yp8dJNYoA/O99PjZdugj/8qfHSTWKAP/yp8dJNYoA/exSuR+F6hD+6SQwCK4eGP/yp8dJNYoA/O99PjZdugj8730+Nl26CP3sUrkfheoQ//Knx0k1igD/8qfHSTWKAP/yp8dJNYoA/exSuR+F6hD8730+Nl26CPzvfT42XboI/O99PjZdugj8730+Nl26CP/yp8dJNYoA//Knx0k1igD/8qfHSTWKAP3sUrkfheoQ/O99PjZdugj+6SQwCK4eGP/yp8dJNYoA//Knx0k1igD/8qfHSTWKAP/yp8dJNYoA//Knx0k1igD/8qfHSTWKAP/yp8dJNYoA/exSuR+F6hD/8qfHSTWKAP7pJDAIrh4Y//Knx0k1igD/8qfHSTWKAP/yp8dJNYoA//Knx0k1igD/8qfHSTWKAP/yp8dJNYoA/O99PjZdugj8730+Nl26CP3sUrkfheoQ/ukkMAiuHhj/8qfHSTWKAP/yp8dJNYoA//Knx0k1igD/8qfHSTWKAP/yp8dJNYoA//Knx0k1igD/8qfHSTWKAP/yp8dJNYoA/O99PjZdugj+6SQwCK4eGP/yp8dJNYoA//Knx0k1igD/8qfHSTWKAP/yp8dJNYoA//Knx0k1igD/8qfHSTWKAP/yp8dJNYoA//Knx0k1igD/8qfHSTWKAP3sUrkfheoQ//Knx0k1igD/8qfHSTWKAP/yp8dJNYoA//Knx0k1igD/8qfHSTWKAP/yp8dJNYoA//Knx0k1igD/8qfHSTWKAP/yp8dJNYoA/O99PjZdugj/8qfHSTWKAP/yp8dJNYoA//Knx0k1igD/8qfHSTWKAPzvfT42XboI/exSuR+F6hD/8qfHSTWKAP/yp8dJNYoA//Knx0k1igD97FK5H4XqEP/yp8dJNYoA/exSuR+F6hD97FK5H4XqEP/yp8dJNYoA/exSuR+F6hD8730+Nl26CPzvfT42XboI/exSuR+F6hD/8qfHSTWKAP/yp8dJNYoA/exSuR+F6hD/8qfHSTWKAP/yp8dJNYoA/exSuR+F6hD8730+Nl26CPzvfT42XboI/exSuR+F6hD8730+Nl26CP/yp8dJNYoA/exSuR+F6hD8730+Nl26CPzvfT42XboI/exSuR+F6hD/8qfHSTWKAP/yp8dJNYoA/exSuR+F6hD/8qfHSTWKAP/yp8dJNYoA/exSuR+F6hD/8qfHSTWKAP/yp8dJNYoA/\",\"dtype\":\"float64\",\"shape\":[126]},\"lower\":{\"__ndarray__\":\"d76fGi+dMUBlO99PjZcxQOkmMQisnDFAK4cW2c6XMUAbL90kBoExQJ7vp8ZLdzFALbKd76emMUBMN4lBYKUxQEjhehSuhzFA16NwPQp3MUCgGi/dJIYxQI6XbhKDgDFAN4lBYOWQMUCwcmiR7ZwxQB1aZDvfjzFArkfhehSuMUAK16NwPaoxQJLtfD81njFASOF6FK6nMUCDwMqhRZYxQKFFtvP9lDFAz/dT46V7MUCBlUOLbIcxQKwcWmQ7fzFAsp3vp8arMUBkO99PjbcxQClcj8L1qDFAXrpJDAKrMUAhsHJoka0xQKJFtvP9lDFAGQRWDi2SMUD2KFyPwpUxQHSTGARWrjFAI9v5fmqcMUDqJjEIrLwxQE5iEFg5lDFA0SLb+X6KMUApXI/C9YgxQHNoke18fzFAGy/dJAaBMUCsHFpkO38xQJLtfD81fjFAehSuR+GaMUDZzvdT44UxQJDC9ShcrzFABoGVQ4uMMUCBlUOLbIcxQLTIdr6fejFAFa5H4XqUMUANAiuHFpkxQH9qvHSTmDFAWDm0yHaeMUA/NV66SawxQKNwPQrXwzFA6Pup8dKtMUDVeOkmMYgxQMP1KFyPgjFA3SQGgZWDMUAEVg4tsn0xQAAAAAAAgDFA16NwPQp3MUB/arx0k3gxQIlBYOXQgjFAZDvfT42XMUAPLbKd76cxQPp+arx0kzFAyXa+nxqPMUCe76fGS5cxQCcxCKwcmjFARIts5/uJMUCMbOf7qXExQMdLN4lBgDFATDeJQWCFMUBU46WbxIAxQDm0yHa+nzFAPN9PjZduMUDTTWIQWHkxQPyp8dJNgjFA9ihcj8J1MUCQwvUoXI8xQI6XbhKDgDFAz/dT46V7MUCoxks3iYExQJZDi2znezFApHA9CtejMUD2KFyPwpUxQBWuR+F6lDFAMzMzMzOTMUDqJjEIrJwxQCUGgZVDizFA6SYxCKycMUANAiuHFnkxQGu8dJMYhDFAd76fGi99MUBYObTIdp4xQNejcD0KlzFArkfhehSuMUC0yHa+n5oxQDVeukkMojFADAIrhxaZMUBeukkMAqsxQEjhehSupzFA8dJNYhB4MUDP91PjpXsxQEa28/3UeDFAXrpJDAKLMUBEi2zn+4kxQDVeukkMgjFADAIrhxaZMUD8qfHSTaIxQPyp8dJNojFAGARWDi2SMUDC9Shcj6IxQGU730+NlzFA8dJNYhCYMUDpJjEIrJwxQB+F61G4njFAarx0kxiEMUCgGi/dJIYxQJZDi2znezFASzeJQWCFMUAEVg4tsn0xQFg5tMh2fjFAObTIdr6fMUAj2/l+apwxQIPAyqFFljFA\",\"dtype\":\"float64\",\"shape\":[126]},\"name\":[\"737\",\"737\",\"737\",\"737\",\"737\",\"737\",\"737\",\"737\",\"737\",\"737\",\"737\",\"737\",\"737\",\"737\",\"737\",\"737\",\"737\",\"737\",\"737\",\"737\",\"737\",\"737\",\"737\",\"737\",\"737\",\"737\",\"737\",\"737\",\"737\",\"737\",\"737\",\"737\",\"737\",\"737\",\"737\",\"737\",\"737\",\"737\",\"737\",\"737\",\"737\",\"737\",\"737\",\"737\",\"737\",\"737\",\"737\",\"737\",\"737\",\"737\",\"737\",\"737\",\"737\",\"737\",\"737\",\"737\",\"737\",\"737\",\"737\",\"737\",\"737\",\"737\",\"737\",\"737\",\"737\",\"737\",\"737\",\"737\",\"737\",\"737\",\"737\",\"737\",\"737\",\"737\",\"737\",\"737\",\"737\",\"737\",\"737\",\"737\",\"737\",\"737\",\"737\",\"737\",\"737\",\"737\",\"737\",\"737\",\"737\",\"737\",\"737\",\"737\",\"737\",\"737\",\"737\",\"737\",\"737\",\"737\",\"737\",\"737\",\"737\",\"737\",\"737\",\"737\",\"737\",\"737\",\"737\",\"737\",\"737\",\"737\",\"737\",\"737\",\"737\",\"737\",\"737\",\"737\",\"737\",\"737\",\"737\",\"737\",\"737\",\"737\",\"737\",\"737\",\"737\",\"737\"],\"obnames\":[[\"2005-04-03T21:47:16\"],[\"2005-04-03T23:24:16\"],[\"2005-04-04T01:00:16\"],[\"2005-03-31T18:40:16\"],[\"2005-03-31T20:16:16\"],[\"2005-03-31T21:52:16\"],[\"2005-03-25T04:26:16\"],[\"2005-03-25T06:00:16\"],[\"2005-03-31T23:28:16\"],[\"2005-04-01T01:04:16\"],[\"2005-04-01T02:40:16\"],[\"2005-04-01T04:15:16\"],[\"2005-03-31T02:41:16\"],[\"2005-03-31T04:17:16\"],[\"2005-03-20T20:28:16\"],[\"2005-03-20T22:02:16\"],[\"2005-03-24T21:59:16\"],[\"2005-03-24T23:36:16\"],[\"2005-03-25T01:12:16\"],[\"2005-03-25T02:48:16\"],[\"2005-03-26T04:22:16\"],[\"2005-03-26T05:59:16\"],[\"2005-03-27T20:21:16\"],[\"2005-03-27T21:57:16\"],[\"2005-03-13T10:36:16\"],[\"2005-03-13T12:07:16\"],[\"2005-03-13T13:43:16\"],[\"2005-03-13T15:19:16\"],[\"2005-03-13T16:55:16\"],[\"2005-03-16T23:35:16\"],[\"2005-03-17T01:03:16\"],[\"2005-03-17T02:35:16\"],[\"2005-03-17T04:08:16\"],[\"2005-03-17T05:44:16\"],[\"2005-03-17T17:08:16\"],[\"2005-03-17T18:44:16\"],[\"2005-03-17T20:20:16\"],[\"2005-03-17T21:57:16\"],[\"2005-03-17T23:33:16\"],[\"2005-03-18T01:18:16\"],[\"2005-03-18T02:46:16\"],[\"2005-03-18T04:22:16\"],[\"2005-03-18T05:58:16\"],[\"2005-03-18T07:34:16\"],[\"2005-03-18T18:49:16\"],[\"2005-03-18T20:24:16\"],[\"2005-03-18T22:00:16\"],[\"2005-03-18T23:36:16\"],[\"2005-03-19T01:12:16\"],[\"2005-03-19T02:53:16\"],[\"2005-03-19T04:25:16\"],[\"2005-03-19T06:01:16\"],[\"2005-03-19T07:37:16\"],[\"2005-03-19T09:13:16\"],[\"2005-03-19T18:49:16\"],[\"2005-03-19T20:25:16\"],[\"2005-03-19T22:02:16\"],[\"2005-03-19T23:38:16\"],[\"2005-03-20T01:14:16\"],[\"2005-03-22T01:18:16\"],[\"2005-03-22T02:50:16\"],[\"2005-03-22T04:26:16\"],[\"2005-03-22T06:02:16\"],[\"2005-03-22T07:38:16\"],[\"2005-03-22T20:29:16\"],[\"2005-03-22T22:01:16\"],[\"2005-03-22T23:37:16\"],[\"2005-03-23T01:13:16\"],[\"2005-03-23T02:49:16\"],[\"2005-03-23T20:27:16\"],[\"2005-03-23T22:01:16\"],[\"2005-03-23T23:37:16\"],[\"2005-03-24T01:13:16\"],[\"2005-03-24T02:49:16\"],[\"2005-03-25T20:24:16\"],[\"2005-03-25T21:59:16\"],[\"2005-03-25T23:35:16\"],[\"2005-03-26T01:11:16\"],[\"2005-03-26T02:47:16\"],[\"2005-04-04T16:58:16\"],[\"2005-04-04T18:35:16\"],[\"2005-04-04T20:11:16\"],[\"2005-04-04T21:47:16\"],[\"2005-04-04T23:23:16\"],[\"2005-03-30T18:42:16\"],[\"2005-03-30T20:17:16\"],[\"2005-03-30T21:53:16\"],[\"2005-03-30T23:29:16\"],[\"2005-03-31T01:05:16\"],[\"2005-04-08T15:16:16\"],[\"2005-04-08T16:53:16\"],[\"2005-04-08T18:29:16\"],[\"2005-04-08T20:05:16\"],[\"2005-04-08T21:41:16\"],[\"2005-04-05T18:34:16\"],[\"2005-04-05T20:09:16\"],[\"2005-04-05T21:45:16\"],[\"2005-04-07T23:19:16\"],[\"2005-04-08T00:54:16\"],[\"2005-03-17T07:42:16\"],[\"2005-03-17T08:56:16\"],[\"2005-03-17T10:32:16\"],[\"2005-03-20T02:54:16\"],[\"2005-03-20T04:26:16\"],[\"2005-03-20T06:02:16\"],[\"2005-03-21T20:29:16\"],[\"2005-03-21T22:02:16\"],[\"2005-03-21T23:38:16\"],[\"2005-03-23T04:27:16\"],[\"2005-03-23T06:01:16\"],[\"2005-03-23T07:37:16\"],[\"2005-03-26T20:23:16\"],[\"2005-03-26T21:58:16\"],[\"2005-03-26T23:34:16\"],[\"2005-03-27T01:11:16\"],[\"2005-03-27T02:46:16\"],[\"2005-03-27T04:22:16\"],[\"2005-04-02T23:27:16\"],[\"2005-04-03T01:01:16\"],[\"2005-04-03T02:37:16\"],[\"2005-04-02T18:39:16\"],[\"2005-04-02T20:13:16\"],[\"2005-04-02T21:49:16\"],[\"2005-04-03T17:01:16\"],[\"2005-04-03T18:36:16\"],[\"2005-04-03T20:12:16\"]],\"time\":{\"__ndarray__\":\"AABqgqAwcEIAAFAPpjBwQgAAkI2rMHBCAADonZ4vcEIAACgcpC9wQgAAaJqpL3BCAACkXX8tcEIAAJi+hC1wQgAAqBivL3BCAADolrQvcEIAACgVui9wQgAAwoS/L3BCAAAOvmcvcEIAAE48bS9wQgAAsGwaLHBCAACkzR8scEIAALI4aS1wQgAAmMVuLXBCAADYQ3QtcEIAABjCeS1wQgAAzIjRLXBCAACyFdctcEIAAGbOWi5wQgAApkxgLnBCAACQxLcpcEIAAJL5vClwQgAA0nfCKXBCAAAS9scpcEIAAFJ0zSlwQgAA8ojbKnBCAAACkuAqcEIAAKrV5SpwQgAA+CfrKnBCAAA4pvAqcEIAAMDJFytwQgAAAEgdK3BCAABAxiIrcEIAACZTKCtwQgAAZtEtK3BCAAB80zMrcEIAAIzcOCtwQgAAzFo+K3BCAAAM2UMrcEIAAExXSStwQgAA/vZvK3BCAACYZnUrcEIAANjkeitwQgAAGGOAK3BCAABY4YUrcEIAANaoiytwQgAAfuyQK3BCAAC+apYrcEIAAP7omytwQgAAPmehK3BCAAC+XMIrcEIAAP7axytwQgAA5GfNK3BCAAAk5tIrcEIAAGRk2CtwQgAAfGp9LHBCAAAkroIscEIAAGQsiCxwQgAApKqNLHBCAADkKJMscEIAANZGvyxwQgAAforELHBCAAC+CMoscEIAAP6GzyxwQgAAPgXVLHBCAABKjxEtcEIAAD7wFi1wQgAAfm4cLXBCAAC+7CEtcEIAAP5qJy1wQgAA2C62LXBCAABynrstcEIAALIcwS1wQgAA8prGLXBCAAAyGcwtcEIAAMRe4jBwQgAAquvnMHBCAADqae0wcEIAACro8jBwQgAAamb4MHBCAAB0VUwvcEIAAA7FUS9wQgAATkNXL3BCAACOwVwvcEIAAM4/Yi9wQgAAoB8mMnBCAACGrCsycEIAAMYqMTJwQgAABqk2MnBCAABGJzwycEIAAMRCOjFwQgAAXrI/MXBCAACeMEUxcEIAABJd7zFwQgAArMz0MXBCAAC8ZvcqcEIAALii+ypwQgAA+CABK3BCAAA8Hd4rcEIAAORg4ytwQgAAJN/oK3BCAAAW4WwscEIAAGQzcixwQgAApLF3LHBCAADKoNoscEIAAL4B4CxwQgAA/n/lLHBCAADyhQgucEIAAIz1DS5wQgAAzHMTLnBCAACyABkucEIAAExwHi5wQgAAjO4jLnBCAACC1VMwcEIAAHY2WTBwQgAAtrReMHBCAADCWkMwcEIAALa7SDBwQgAA9jlOMHBCAAD2JJAwcEIAAJCUlTBwQgAA0BKbMHBC\",\"dtype\":\"float64\",\"shape\":[126,1]},\"upper\":{\"__ndarray__\":\"4XoUrkehMUDP91PjpZsxQOF6FK5HoTFAI9v5fmqcMUCF61G4HoUxQAisHFpkezFAJQaBlUOrMUBEi2zn+6kxQEA1XrpJjDFAQWDl0CJ7MUAK16NwPYoxQPhT46WbhDFAL90kBoGVMUAaL90kBqExQIcW2c73kzFANDMzMzOzMUAcWmQ7368xQPyp8dJNojFAQDVeukmsMUB7FK5H4ZoxQCcxCKwcmjFAObTIdr5/MUDrUbgehYsxQBbZzvdTgzFAOIlBYOWwMUBcj8L1KLwxQCGwcmiRrTFAVg4tsp2vMUAZBFYOLbIxQAwCK4cWmTFAg8DKoUWWMUBg5dAi25kxQPp+arx0szFAGy/dJAahMUD8qfHSTcIxQLgehetRmDFAO99PjZeOMUCTGARWDo0xQN0kBoGVgzFAhetRuB6FMUAW2c73U4MxQPyp8dJNgjFAAAAAAACgMUBDi2zn+4kxQKJFtvP9tDFAcD0K16OQMUDrUbgehYsxQB6F61G4fjFAf2q8dJOYMUB3vp8aL50xQOkmMQisnDFAUI2XbhKjMUA3iUFg5bAxQClcj8L1yDFA+n5qvHSzMUA/NV66SYwxQC2yne+nhjFAR+F6FK6HMUBuEoPAyoExQGq8dJMYhDFAQWDl0CJ7MUDpJjEIrHwxQPP91HjphjFAXI/C9SicMUAhsHJoka0xQGQ730+NlzFAMzMzMzOTMUAIrBxaZJsxQJHtfD81njFArkfhehSOMUD2KFyPwnUxQDEIrBxahDFAtvP91HiJMUC+nxov3YQxQL+fGi/dpDFAppvEILByMUA9CtejcH0xQGZmZmZmhjFAYOXQItt5MUD6fmq8dJMxQPhT46WbhDFAObTIdr5/MUASg8DKoYUxQAAAAAAAgDFAnMQgsHKoMUBg5dAi25kxQH9qvHSTmDFAne+nxkuXMUBU46WbxKAxQB1aZDvfjzFAbxKDwMqhMUB3vp8aL30xQNV46SYxiDFA4XoUrkeBMUDeJAaBlaMxQEFg5dAimzFANDMzMzOzMUA6tMh2vp8xQJ8aL90kpjFAku18PzWeMUBWDi2yna8xQEA1XrpJrDFAd76fGi99MUA5tMh2vn8xQLByaJHtfDFA5KWbxCCQMUCuR+F6FI4xQJ8aL90khjFAku18PzWeMUD0/dR46aYxQPT91HjppjFAnu+nxkuXMUC6SQwCK6cxQM/3U+OlmzFAd76fGi+dMUDhehSuR6ExQBfZzvdTozFA8KfGSzeJMUAK16NwPYoxQAAAAAAAgDFA0SLb+X6KMUBuEoPAyoExQML1KFyPgjFAv58aL92kMUCNl24Sg6AxQO18PzVemjFA\",\"dtype\":\"float64\",\"shape\":[126]}},\"selected\":{\"id\":\"3623\",\"type\":\"Selection\"},\"selection_policy\":{\"id\":\"3624\",\"type\":\"UnionRenderers\"}},\"id\":\"3397\",\"type\":\"ColumnDataSource\"},{\"attributes\":{\"days\":[1,8,15,22]},\"id\":\"3416\",\"type\":\"DaysTicker\"},{\"attributes\":{},\"id\":\"3385\",\"type\":\"WheelZoomTool\"},{\"attributes\":{\"num_minor_ticks\":5,\"tickers\":[{\"id\":\"3411\",\"type\":\"AdaptiveTicker\"},{\"id\":\"3412\",\"type\":\"AdaptiveTicker\"},{\"id\":\"3413\",\"type\":\"AdaptiveTicker\"},{\"id\":\"3414\",\"type\":\"DaysTicker\"},{\"id\":\"3415\",\"type\":\"DaysTicker\"},{\"id\":\"3416\",\"type\":\"DaysTicker\"},{\"id\":\"3417\",\"type\":\"DaysTicker\"},{\"id\":\"3418\",\"type\":\"MonthsTicker\"},{\"id\":\"3419\",\"type\":\"MonthsTicker\"},{\"id\":\"3420\",\"type\":\"MonthsTicker\"},{\"id\":\"3421\",\"type\":\"MonthsTicker\"},{\"id\":\"3422\",\"type\":\"YearsTicker\"}]},\"id\":\"3375\",\"type\":\"DatetimeTicker\"},{\"attributes\":{\"base\":60,\"mantissas\":[1,2,5,10,15,20,30],\"max_interval\":1800000.0,\"min_interval\":1000.0,\"num_minor_ticks\":0},\"id\":\"3412\",\"type\":\"AdaptiveTicker\"},{\"attributes\":{\"label\":{\"field\":\"name\"},\"renderers\":[{\"id\":\"3403\",\"type\":\"GlyphRenderer\"}]},\"id\":\"3424\",\"type\":\"LegendItem\"},{\"attributes\":{},\"id\":\"3372\",\"type\":\"LinearScale\"},{\"attributes\":{\"months\":[0,2,4,6,8,10]},\"id\":\"3419\",\"type\":\"MonthsTicker\"},{\"attributes\":{\"axis_label\":\"VEGAMAG\",\"formatter\":{\"id\":\"3409\",\"type\":\"BasicTickFormatter\"},\"ticker\":{\"id\":\"3380\",\"type\":\"BasicTicker\"}},\"id\":\"3379\",\"type\":\"LinearAxis\"},{\"attributes\":{\"text\":\"\"},\"id\":\"3364\",\"type\":\"Title\"},{\"attributes\":{\"fill_alpha\":{\"value\":0.1},\"fill_color\":{\"value\":\"#1f77b4\"},\"line_alpha\":{\"value\":0.1},\"line_color\":{\"value\":\"#1f77b4\"},\"x\":{\"field\":\"time\"},\"y\":{\"field\":\"VEGAMAG\"}},\"id\":\"3402\",\"type\":\"Circle\"},{\"attributes\":{},\"id\":\"3380\",\"type\":\"BasicTicker\"},{\"attributes\":{},\"id\":\"3422\",\"type\":\"YearsTicker\"},{\"attributes\":{\"level\":\"underlay\",\"size\":10},\"id\":\"3604\",\"type\":\"TeeHead\"},{\"attributes\":{\"base\":{\"field\":\"time\",\"units\":\"data\"},\"lower\":{\"field\":\"lower\",\"units\":\"data\"},\"lower_head\":{\"id\":\"3604\",\"type\":\"TeeHead\"},\"source\":{\"id\":\"3397\",\"type\":\"ColumnDataSource\"},\"upper\":{\"field\":\"upper\",\"units\":\"data\"},\"upper_head\":{\"id\":\"3605\",\"type\":\"TeeHead\"}},\"id\":\"3425\",\"type\":\"Whisker\"},{\"attributes\":{\"active_drag\":{\"id\":\"3384\",\"type\":\"PanTool\"},\"active_inspect\":\"auto\",\"active_multi\":null,\"active_scroll\":{\"id\":\"3385\",\"type\":\"WheelZoomTool\"},\"active_tap\":\"auto\",\"tools\":[{\"id\":\"3384\",\"type\":\"PanTool\"},{\"id\":\"3385\",\"type\":\"WheelZoomTool\"},{\"id\":\"3386\",\"type\":\"BoxZoomTool\"},{\"id\":\"3387\",\"type\":\"SaveTool\"},{\"id\":\"3388\",\"type\":\"ResetTool\"},{\"id\":\"3389\",\"type\":\"HelpTool\"},{\"id\":\"3398\",\"type\":\"HoverTool\"}]},\"id\":\"3390\",\"type\":\"Toolbar\"},{\"attributes\":{\"source\":{\"id\":\"3397\",\"type\":\"ColumnDataSource\"}},\"id\":\"3404\",\"type\":\"CDSView\"},{\"attributes\":{\"months\":[0,1,2,3,4,5,6,7,8,9,10,11]},\"id\":\"3418\",\"type\":\"MonthsTicker\"},{\"attributes\":{\"base\":24,\"mantissas\":[1,2,4,6,8,12],\"max_interval\":43200000.0,\"min_interval\":3600000.0,\"num_minor_ticks\":0},\"id\":\"3413\",\"type\":\"AdaptiveTicker\"},{\"attributes\":{\"ticker\":{\"id\":\"3375\",\"type\":\"DatetimeTicker\"}},\"id\":\"3378\",\"type\":\"Grid\"},{\"attributes\":{\"dimension\":1,\"ticker\":{\"id\":\"3380\",\"type\":\"BasicTicker\"}},\"id\":\"3383\",\"type\":\"Grid\"},{\"attributes\":{\"mantissas\":[1,2,5],\"max_interval\":500.0,\"num_minor_ticks\":0},\"id\":\"3411\",\"type\":\"AdaptiveTicker\"},{\"attributes\":{\"items\":[{\"id\":\"3424\",\"type\":\"LegendItem\"}]},\"id\":\"3423\",\"type\":\"Legend\"},{\"attributes\":{\"callback\":null},\"id\":\"3366\",\"type\":\"DataRange1d\"}],\"root_ids\":[\"3363\"]},\"title\":\"Bokeh Application\",\"version\":\"1.1.0\"}};\n",
       "  var render_items = [{\"docid\":\"0d6b56c2-16fe-4952-a772-02419b41b1c0\",\"roots\":{\"3363\":\"327a92b7-6f0d-4609-97ab-4024e29ef36a\"}}];\n",
       "  root.Bokeh.embed.embed_items_notebook(docs_json, render_items);\n",
       "\n",
       "  }\n",
       "  if (root.Bokeh !== undefined) {\n",
       "    embed_document(root);\n",
       "  } else {\n",
       "    var attempts = 0;\n",
       "    var timer = setInterval(function(root) {\n",
       "      if (root.Bokeh !== undefined) {\n",
       "        embed_document(root);\n",
       "        clearInterval(timer);\n",
       "      }\n",
       "      attempts++;\n",
       "      if (attempts > 100) {\n",
       "        console.log(\"Bokeh: ERROR: Unable to run BokehJS code because BokehJS library is missing\");\n",
       "        clearInterval(timer);\n",
       "      }\n",
       "    }, 10, root)\n",
       "  }\n",
       "})(window);"
      ],
      "application/vnd.bokehjs_exec.v0+json": ""
     },
     "metadata": {
      "application/vnd.bokehjs_exec.v0+json": {
       "id": "3363"
      }
     },
     "output_type": "display_data"
    },
    {
     "name": "stdout",
     "output_type": "stream",
     "text": [
      "sed '738q;d'  outdir/out.photo\n",
      "['515.39', '125.65']\n"
     ]
    },
    {
     "data": {
      "application/vnd.jupyter.widget-view+json": {
       "model_id": "3e9894c70d6c4c0bb843678ff443cd22",
       "version_major": 2,
       "version_minor": 0
      },
      "text/plain": [
       "FigureCanvasNbAgg()"
      ]
     },
     "metadata": {},
     "output_type": "display_data"
    },
    {
     "name": "stdout",
     "output_type": "stream",
     "text": [
      "sed '738q;d'  outdir/out.photo\n",
      "['515.39', '125.65']\n",
      "sed '738q;d'  outdir/out.photo\n",
      "['515.39', '125.65']\n"
     ]
    },
    {
     "data": {
      "application/vnd.jupyter.widget-view+json": {
       "model_id": "305c9edccd3f462789588776f01f41c6",
       "version_major": 2,
       "version_minor": 0
      },
      "text/plain": [
       "FigureCanvasNbAgg()"
      ]
     },
     "metadata": {},
     "output_type": "display_data"
    },
    {
     "name": "stdout",
     "output_type": "stream",
     "text": [
      "sed '738q;d'  outdir/out.photo\n",
      "['515.39', '125.65']\n",
      "[0.99579895]\n"
     ]
    },
    {
     "data": {
      "application/vnd.jupyter.widget-view+json": {
       "model_id": "fbf9ef6383f547dcb3766fa615eeb90a",
       "version_major": 2,
       "version_minor": 0
      },
      "text/plain": [
       "FigureCanvasNbAgg()"
      ]
     },
     "metadata": {},
     "output_type": "display_data"
    }
   ],
   "source": [
    "plotlc(outputfile,[737],columnfile,namelist=['737'])\n",
    "plotlcseaborn(outputfile,737,columnfile,name='737')\n",
    "datagoodmjd=  createdatadicclean(outputfile,737,columnfile,name='737',timeformat='mjd')\n",
    "t, mag, dmag = datagoodmjd['time'], datagoodmjd['VEGAMAG'],datagoodmjd['errorsmag']\n",
    "\n",
    "\n",
    "plotlb(outputfile,737,columnfile,name='737',periods=np.linspace(0.08, 106, 40000))\n",
    "plotphase(outputfile,737,columnfile,name='737',periodmax=1.9)"
   ]
  },
  {
   "cell_type": "code",
   "execution_count": 36,
   "metadata": {},
   "outputs": [
    {
     "name": "stdout",
     "output_type": "stream",
     "text": [
      "sed '738q;d'  outdir/out.photo\n",
      "['515.39', '125.65']\n",
      "1.96\n"
     ]
    },
    {
     "name": "stderr",
     "output_type": "stream",
     "text": [
      "/home/mmarcano/anaconda3/envs/muse/lib/python3.7/site-packages/matplotlib/pyplot.py:514: RuntimeWarning: More than 20 figures have been opened. Figures created through the pyplot interface (`matplotlib.pyplot.figure`) are retained until explicitly closed and may consume too much memory. (To control this warning, see the rcParam `figure.max_open_warning`).\n",
      "  max_open_warning, RuntimeWarning)\n"
     ]
    },
    {
     "data": {
      "application/vnd.jupyter.widget-view+json": {
       "model_id": "25f06238b8464cafbc03d435ff8b395b",
       "version_major": 2,
       "version_minor": 0
      },
      "text/plain": [
       "FigureCanvasNbAgg()"
      ]
     },
     "metadata": {},
     "output_type": "display_data"
    }
   ],
   "source": [
    "plotphase(outputfile,737,columnfile,name='737',periodmax=1.96)"
   ]
  },
  {
   "cell_type": "code",
   "execution_count": 9,
   "metadata": {},
   "outputs": [
    {
     "name": "stdout",
     "output_type": "stream",
     "text": [
      "Finding optimal frequency:\n",
      " - Estimated peak width = 0.237\n",
      " - Using 5 steps per peak; omega_step = 0.0475\n",
      " - User-specified period range:  0.05 to 1\n",
      " - Computing periods at 2515 steps\n",
      "Zooming-in on 5 candidate peaks:\n",
      " - Computing periods at 1000 steps\n",
      "period = 0.06446146485003532\n",
      "0.06446146485003532\n"
     ]
    },
    {
     "data": {
      "text/plain": [
       "[]"
      ]
     },
     "execution_count": 9,
     "metadata": {},
     "output_type": "execute_result"
    },
    {
     "data": {
      "image/png": "[encoded data removed]",
      "text/plain": [
       "<Figure size 432x288 with 1 Axes>"
      ]
     },
     "metadata": {
      "needs_background": "light"
     },
     "output_type": "display_data"
    },
    {
     "data": {
      "image/png": "[encoded data removed]",
      "text/plain": [
       "<Figure size 432x288 with 1 Axes>"
      ]
     },
     "metadata": {
      "needs_background": "light"
     },
     "output_type": "display_data"
    },
    {
     "data": {
      "image/png": "[encoded data removed]",
      "text/plain": [
       "<Figure size 432x288 with 1 Axes>"
      ]
     },
     "metadata": {
      "needs_background": "light"
     },
     "output_type": "display_data"
    }
   ],
   "source": [
    "\n",
    "\n",
    "\n",
    "# Choose a period grid\n",
    "periods = np.linspace(0.01, 1.4, 4000)\n",
    "ang_freqs = 2 * np.pi / periods\n",
    "\n",
    "\n",
    "fmin = 1. / periods.max()\n",
    "fmax = 1. / periods.min()\n",
    "N = 100000\n",
    "df = (fmax - fmin) / N\n",
    "\n",
    "model = LombScargleFast().fit(t.flatten(), mag, dmag)\n",
    "power = model.score_frequency_grid(fmin, df, N)\n",
    "freqs = fmin + df * np.arange(N)\n",
    "\n",
    "# plot the results\n",
    "fig, ax = plt.subplots()\n",
    "ax.plot(1. / freqs, power)\n",
    "ax.set(ylim=(0, 0.8),xlim=(0,1), xlabel='period (days)',\n",
    "       ylabel='Lomb-Scargle Power');\n",
    "\n",
    "\n",
    "\n",
    "model = LombScargle().fit(t.flatten(), mag, dmag)\n",
    "periods, power = model.periodogram_auto()\n",
    "#periods, power = model.periodogram_auto()\n",
    "\n",
    "fig, ax = plt.subplots()\n",
    "ax.plot(periods, power)\n",
    "ax.set(xlim=(0, 1.4),\n",
    "       xlabel='period (days)',\n",
    "       ylabel='Lomb-Scargle Power');\n",
    "\n",
    "\n",
    "\n",
    "# set range and find period\n",
    "model.optimizer.period_range=(0.05, 1)\n",
    "\n",
    "\n",
    "\n",
    "\n",
    "period = model.best_period\n",
    "print(\"period = {0}\".format(period))\n",
    "\n",
    "# Compute phases of the obsevations\n",
    "phase = (t.flatten() / period) % 1\n",
    "print(period)\n",
    "# Plot the phased data & model\n",
    "fig, ax = plt.subplots()\n",
    "ax.errorbar(phase, mag, dmag, fmt='.k', ecolor='gray', alpha=0.5)\n",
    "ax.set(xlabel='Phase', ylabel='magitude')\n",
    "#ax.invert_yaxis();\n",
    "plt.plot()"
   ]
  },
  {
   "cell_type": "code",
   "execution_count": null,
   "metadata": {},
   "outputs": [],
   "source": [
    "data = getobjectdata(outputfile,737)\n",
    "\n",
    "vegamagindex = np.arange(28,6568,13)\n",
    "\n",
    "\n",
    "vegamaglist = np.array([float(data[i]) for i in vegamagindex])\n",
    "vegamaglisterrors = np.array([float(data[i+2]) for i in vegamagindex])\n",
    "\n",
    "photometricflag = np.array([float(data[i+8]) for i in vegamagindex])\n",
    "snr = np.array([float(data[i+4]) for i in vegamagindex])\n",
    "\n",
    "\n",
    "columns = []\n",
    "with open(columnfile) as filecol:\n",
    "    for line in filecol:\n",
    "        columns.append(line)\n",
    "\n",
    "columns = np.array(columns)"
   ]
  }
 ],
 "metadata": {
  "kernelspec": {
   "display_name": "Python 3",
   "language": "python",
   "name": "python3"
  },
  "language_info": {
   "codemirror_mode": {
    "name": "ipython",
    "version": 3
   },
   "file_extension": ".py",
   "mimetype": "text/x-python",
   "name": "python",
   "nbconvert_exporter": "python",
   "pygments_lexer": "ipython3",
   "version": "3.7.3"
  }
 },
 "nbformat": 4,
 "nbformat_minor": 2
}
