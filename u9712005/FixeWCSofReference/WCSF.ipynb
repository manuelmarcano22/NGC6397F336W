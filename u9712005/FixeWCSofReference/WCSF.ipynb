{
 "cells": [
  {
   "cell_type": "code",
   "execution_count": 1,
   "metadata": {},
   "outputs": [],
   "source": [
    "from astropy.io import fits\n",
    "from mpdaf.obj import Image, WCS"
   ]
  },
  {
   "cell_type": "code",
   "execution_count": null,
   "metadata": {},
   "outputs": [
    {
     "name": "stderr",
     "output_type": "stream",
     "text": [
      "WARNING: MpdafUnitsWarning: No physical unit in the FITS header: missing BUNIT keyword. [mpdaf.obj.data]\n",
      "WARNING: MpdafUnitsWarning: Error parsing the BUNIT: 'counts' did not parse as unit: At col 0, counts is not a valid unit. Did you mean count? [mpdaf.obj.data]\n"
     ]
    }
   ],
   "source": [
    "\n",
    "\n",
    "### get offset between MUSE and HST ###\n",
    "imahst = Image('hlsp_hugs_hst_wfc3-uvis_ngc6397_f336w_v1_stack-0310s.fits')\n",
    "cont = Image('final_drz_sci.chip0.fits')\n",
    "ima2hst = imahst.adjust_coordinates(cont)\n",
    "\n"
   ]
  },
  {
   "cell_type": "code",
   "execution_count": null,
   "metadata": {},
   "outputs": [],
   "source": []
  }
 ],
 "metadata": {
  "kernelspec": {
   "display_name": "Python 3",
   "language": "python",
   "name": "python3"
  },
  "language_info": {
   "codemirror_mode": {
    "name": "ipython",
    "version": 3
   },
   "file_extension": ".py",
   "mimetype": "text/x-python",
   "name": "python",
   "nbconvert_exporter": "python",
   "pygments_lexer": "ipython3",
   "version": "3.7.3"
  }
 },
 "nbformat": 4,
 "nbformat_minor": 2
}
