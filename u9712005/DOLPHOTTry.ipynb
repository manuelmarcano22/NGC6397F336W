{
 "cells": [
  {
   "cell_type": "markdown",
   "metadata": {},
   "source": [
    "# DOLPHOT/WFPC2\n",
    "\n",
    "Notebook to do photometry with DOLPHOT and WFPC2 data. It calls the bash routines and the outpout redirected to a file so the notebook doesn't get too long"
   ]
  },
  {
   "cell_type": "code",
   "execution_count": 48,
   "metadata": {},
   "outputs": [],
   "source": [
    "import glob\n",
    "import os\n",
    "import subprocess"
   ]
  },
  {
   "cell_type": "code",
   "execution_count": 49,
   "metadata": {},
   "outputs": [],
   "source": [
    "datadir = 'Try/'\n",
    "pattern = 'u*c0m.fits'\n",
    "listacom = glob.glob('{}{}'.format(datadir,pattern))\n",
    "listafits = glob.glob('{}{}'.format(datadir,'*fits'))"
   ]
  },
  {
   "cell_type": "markdown",
   "metadata": {},
   "source": [
    "# 3.2 wfpc2mask"
   ]
  },
  {
   "cell_type": "code",
   "execution_count": 52,
   "metadata": {},
   "outputs": [
    {
     "name": "stdout",
     "output_type": "stream",
     "text": [
      "Reading FITS file Try/u9710106m_c0m.fits\n",
      "Reading IMAGE extension: 800x800\n",
      "Reading IMAGE extension: 800x800\n",
      "Reading IMAGE extension: 800x800\n",
      "Reading IMAGE extension: 800x800\n",
      "Reading FITS file Try/u9710106m_c1m.fits\n",
      "Reading IMAGE extension: 800x800\n",
      "Reading IMAGE extension: 800x800\n",
      "Reading IMAGE extension: 800x800\n",
      "Reading IMAGE extension: 800x800\n"
     ]
    }
   ],
   "source": [
    "for i in listacom:\n",
    "    t = i.replace('c0m','c1m')\n",
    "    commandmask = 'wfpc2mask {} {} &> wfpc2mask.log'.format(i,t)\n",
    "    #print(commandmask)\n",
    "    ! {commandmask}\n",
    "! head wfpc2mask.log"
   ]
  },
  {
   "cell_type": "markdown",
   "metadata": {},
   "source": [
    "# 3.3 splitgroups: Split UVIS Chips"
   ]
  },
  {
   "cell_type": "code",
   "execution_count": 53,
   "metadata": {},
   "outputs": [
    {
     "name": "stdout",
     "output_type": "stream",
     "text": [
      "splitgroups Try/*.fits &> splitgroups.log\n",
      "Reading FITS file Try/final_drz_sci.chip0.chip0.fits: 1549x1527\n",
      "Writing FITS file Try/final_drz_sci.chip0.chip0.chip0.fits: 1549x1527\n",
      "Reading FITS file Try/final_drz_sci.chip0.fits: 1549x1527\n",
      "Writing FITS file Try/final_drz_sci.chip0.chip0.fits: 1549x1527\n",
      "Reading FITS file Try/final_drz_sci.chip1.chip0.fits: 2307x504\n",
      "Writing FITS file Try/final_drz_sci.chip1.chip0.chip0.fits: 2307x504\n",
      "Reading FITS file Try/final_drz_sci.chip1.fits: 2307x504\n",
      "Writing FITS file Try/final_drz_sci.chip1.chip0.fits: 2307x504\n",
      "Reading FITS file Try/final_drz_sci.fits: 1549x1527\n",
      "Reading BINTABLE extension: 2307x504\n"
     ]
    }
   ],
   "source": [
    "dirfits = datadir+'*.fits'\n",
    "#print(dirfits)\n",
    "commandsplit = 'splitgroups {} &> splitgroups.log'.format(dirfits)\n",
    "print(commandsplit)\n",
    "! {commandsplit}\n",
    "! head splitgroups.log"
   ]
  },
  {
   "cell_type": "markdown",
   "metadata": {},
   "source": [
    "# 3.4 calcsky: Calculate Sky for Image"
   ]
  },
  {
   "cell_type": "code",
   "execution_count": 69,
   "metadata": {},
   "outputs": [
    {
     "name": "stdout",
     "output_type": "stream",
     "text": [
      "calcsky Try/u9710103m_c0m.fits 10 25 2 2.25 2.0 &>> calcsky.log\n",
      "calcsky Try/u9710106m_c0m.fits 10 25 2 2.25 2.0 &>> calcsky.log\n"
     ]
    }
   ],
   "source": [
    "rin=10\n",
    "rout = 25\n",
    "step = 2\n",
    "sigmalow = 2.25\n",
    "sigmahigh = 2.00\n",
    "listacom = glob.glob('{}{}'.format(datadir,'u971*m_c0m.fits'))\n",
    "\n",
    "\n",
    "for i in listacom:\n",
    "    calcskycommad = 'calcsky {} {} {} {} {} {} &>> calcsky.log'.format(i,rin,rout,step,sigmalow, sigmahigh)\n",
    "    print(calcskycommad)\n",
    "    ! {calcskycommad}\n",
    "\n",
    "#! head calcsky.log\n"
   ]
  },
  {
   "cell_type": "code",
   "execution_count": 70,
   "metadata": {},
   "outputs": [
    {
     "name": "stdout",
     "output_type": "stream",
     "text": [
      "Error reading \"Try/u9710103m_c0m.fits.fits\"\n",
      "Error reading \"Try/u9710106m_c0m.fits.fits\"\n"
     ]
    }
   ],
   "source": [
    "cat calcsky.log"
   ]
  },
  {
   "cell_type": "code",
   "execution_count": 65,
   "metadata": {},
   "outputs": [
    {
     "data": {
      "text/plain": [
       "['Try/u9710103m_c0m.fits', 'Try/u9710106m_c0m.fits']"
      ]
     },
     "execution_count": 65,
     "metadata": {},
     "output_type": "execute_result"
    }
   ],
   "source": [
    "listacom"
   ]
  },
  {
   "cell_type": "code",
   "execution_count": 71,
   "metadata": {},
   "outputs": [
    {
     "data": {
      "text/plain": [
       "'Try/u9710106m_c0m.fits'"
      ]
     },
     "execution_count": 71,
     "metadata": {},
     "output_type": "execute_result"
    }
   ],
   "source": [
    "i"
   ]
  },
  {
   "cell_type": "code",
   "execution_count": null,
   "metadata": {},
   "outputs": [],
   "source": []
  }
 ],
 "metadata": {
  "kernelspec": {
   "display_name": "Python 3",
   "language": "python",
   "name": "python3"
  },
  "language_info": {
   "codemirror_mode": {
    "name": "ipython",
    "version": 3
   },
   "file_extension": ".py",
   "mimetype": "text/x-python",
   "name": "python",
   "nbconvert_exporter": "python",
   "pygments_lexer": "ipython3",
   "version": "3.7.3"
  }
 },
 "nbformat": 4,
 "nbformat_minor": 2
}
