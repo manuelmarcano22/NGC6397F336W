{
 "cells": [
  {
   "cell_type": "markdown",
   "metadata": {},
   "source": [
    "# Know things about U18\n",
    "\n",
    "From MUSE data Husser et al. 2016"
   ]
  },
  {
   "cell_type": "code",
   "execution_count": 6,
   "metadata": {},
   "outputs": [],
   "source": [
    "import numpy as np"
   ]
  },
  {
   "cell_type": "code",
   "execution_count": 7,
   "metadata": {},
   "outputs": [],
   "source": [
    "Teff = 4200 #k\n",
    "logg = 3.6\n",
    "vrad = 145.9 #km/s"
   ]
  },
  {
   "cell_type": "markdown",
   "metadata": {},
   "source": [
    "## Constant"
   ]
  },
  {
   "cell_type": "code",
   "execution_count": 8,
   "metadata": {},
   "outputs": [],
   "source": [
    "G = 6.674 *10**(-11) #N m^2/kg^2\n",
    "pi = np.pi\n",
    "day = 86400 #seconds\n",
    "massun = 1.988435*10**(30) # Kg\n",
    "lsun = 3.848*10**(26)# Watts\n",
    "lsunergs = 3.848*10**(33) #erg/s\n",
    "stephanboltzmannconstant = 5.67*10**(-8) # W/m^2/K^4"
   ]
  },
  {
   "cell_type": "markdown",
   "metadata": {},
   "source": [
    "# Functions"
   ]
  },
  {
   "cell_type": "code",
   "execution_count": 42,
   "metadata": {},
   "outputs": [],
   "source": [
    "def massfunction(Porbindays,Kinkm):\n",
    "    G = 6.674 *10**(-11) #N m^2/kg^2\n",
    "    pi = np.pi\n",
    "    day = 86400 #seconds\n",
    "    massun = 1.988435*10**(30) # Kg\n",
    "    Porbinsec = Porbindays * day\n",
    "    K = Kinkm*1000.\n",
    "    f = (Porbinsec*K**3)/(2*pi*G)\n",
    "    finsolarmass = f/massun\n",
    "    return finsolarmass, f\n",
    "\n",
    "def density(Porbindays):\n",
    "    day = 24.#hours\n",
    "    Porbinhr = Porbindays * day\n",
    "    rho = 107*Porbinhr**(-2.)  #g/cm^3\n",
    "    return rho\n",
    "\n",
    "def logg(Msolar,Rsolar):\n",
    "    loggstar = np.log10(Msolar)-2*np.log10(Rsolar)+4.4374\n",
    "    return loggstar\n",
    "    \n",
    "def densitystar()"
   ]
  },
  {
   "cell_type": "markdown",
   "metadata": {},
   "source": [
    "#\n",
    "\n",
    "$$M = M_\\text{Sun} - 2.5 \\log_{10}\\left( \\frac{L}{L_\\odot} \\right )$$\n",
    "\n",
    "$$M = M_\\text{Sun} - 2.5 \\log_{10}\\left( \\frac{L}{L_\\odot} \\right )$$\n",
    "\n",
    "$$M_V = 4.84 $$\n",
    "$$ L = 4\\pi R^2 \\sigma T^4$$\n",
    "\n",
    "$$\\frac{m_2^3}{(m_1+m_2)^2} \\sin ^3 i = \\frac{P K^3}{2 \\pi G}$$\n",
    "\n",
    "This gives us a lower-limit on the mass of the unseen object, $M_2$:\n",
    "\n",
    "$$M_2 \\ge \\frac{P K^3}{2 \\pi G}$$ if $i=90$ and $M_1=0$\n",
    "\n",
    "\n"
   ]
  },
  {
   "cell_type": "markdown",
   "metadata": {},
   "source": [
    "$$ R/R_S = (\\frac{T_s}{T})^2$$"
   ]
  },
  {
   "cell_type": "code",
   "execution_count": 66,
   "metadata": {},
   "outputs": [
    {
     "data": {
      "text/plain": [
       "(0.6254685393802636, 1.2437035351025944e+30)"
      ]
     },
     "execution_count": 66,
     "metadata": {},
     "output_type": "execute_result"
    }
   ],
   "source": [
    "massfunction(1.98,145)"
   ]
  },
  {
   "cell_type": "code",
   "execution_count": 44,
   "metadata": {},
   "outputs": [
    {
     "data": {
      "text/plain": [
       "2.411574110511132e-13"
      ]
     },
     "execution_count": 44,
     "metadata": {},
     "output_type": "execute_result"
    }
   ],
   "source": [
    "2.51**(-31.57)"
   ]
  },
  {
   "cell_type": "code",
   "execution_count": 67,
   "metadata": {},
   "outputs": [
    {
     "data": {
      "text/plain": [
       "0.05290089258233304"
      ]
     },
     "execution_count": 67,
     "metadata": {},
     "output_type": "execute_result"
    }
   ],
   "source": [
    "110*(1.9*24)**(-2)"
   ]
  },
  {
   "cell_type": "code",
   "execution_count": 47,
   "metadata": {},
   "outputs": [
    {
     "data": {
      "text/plain": [
       "0.05145814096645123"
      ]
     },
     "execution_count": 47,
     "metadata": {},
     "output_type": "execute_result"
    }
   ],
   "source": [
    "\n",
    "density(1.9)"
   ]
  },
  {
   "cell_type": "markdown",
   "metadata": {},
   "source": [
    "# Radius\n"
   ]
  },
  {
   "cell_type": "code",
   "execution_count": 50,
   "metadata": {},
   "outputs": [],
   "source": [
    "Gcgs = 6.672 *10**(-8) #cm3⋅g−1⋅s−2.\n",
    "Rsuncgs = 6.96*10**10 #cm\n",
    "Msuncgs = 1.988435*10**(33) # grams\n",
    "densitysuncgs = Msuncgs/(4/3.*np.pi*Rsuncgs**3)"
   ]
  },
  {
   "cell_type": "markdown",
   "metadata": {},
   "source": [
    "For the Sun:\n",
    "\n",
    "https://www.wolframalpha.com/input/?i=Solve%5B1.4%3D%3D%28M%2F%284%2F3.*Pi*R%5E3%29%29%2C4.44%3D%3DLog10%5B6.672+*10%5E%28-8%29*M%2FR%5E2%5D%5D"
   ]
  },
  {
   "cell_type": "markdown",
   "metadata": {},
   "source": [
    "For the star:\n",
    "\n",
    "https://www.wolframalpha.com/input/?i=Solve%5B0.05%3D%3D%28M%2F%284%2F3.*Pi*R%5E3%29%29%2C3.6%3D%3DLog10%5B6.672+*10%5E%28-8%29*M%2FR%5E2%5D%5D    \n",
    "    "
   ]
  },
  {
   "cell_type": "code",
   "execution_count": 36,
   "metadata": {},
   "outputs": [
    {
     "data": {
      "text/plain": [
       "4.437548957299725"
      ]
     },
     "execution_count": 36,
     "metadata": {},
     "output_type": "execute_result"
    }
   ],
   "source": [
    "np.log10(Gcgs*Msuncgs/Rsuncgs**2)"
   ]
  },
  {
   "cell_type": "code",
   "execution_count": 65,
   "metadata": {},
   "outputs": [
    {
     "data": {
      "text/plain": [
       "0.8171250254597209"
      ]
     },
     "execution_count": 65,
     "metadata": {},
     "output_type": "execute_result"
    }
   ],
   "source": [
    "1.6248*10**33/Msuncgs\n",
    "\n"
   ]
  },
  {
   "cell_type": "code",
   "execution_count": 63,
   "metadata": {},
   "outputs": [
    {
     "data": {
      "text/plain": [
       "3.7472039199714864"
      ]
     },
     "execution_count": 63,
     "metadata": {},
     "output_type": "execute_result"
    }
   ],
   "source": [
    "logg(0.9,2.1)\n"
   ]
  },
  {
   "cell_type": "code",
   "execution_count": 71,
   "metadata": {},
   "outputs": [
    {
     "data": {
      "text/plain": [
       "0.05145814096645123"
      ]
     },
     "execution_count": 71,
     "metadata": {},
     "output_type": "execute_result"
    }
   ],
   "source": [
    "density(1.9)"
   ]
  },
  {
   "cell_type": "markdown",
   "metadata": {},
   "source": [
    "# Find radius from magnitude"
   ]
  },
  {
   "cell_type": "code",
   "execution_count": 72,
   "metadata": {},
   "outputs": [
    {
     "data": {
      "text/plain": [
       "0.37274238227146816"
      ]
     },
     "execution_count": 72,
     "metadata": {},
     "output_type": "execute_result"
    }
   ],
   "source": [
    "(5800/9500)**2*(2.51)"
   ]
  },
  {
   "cell_type": "code",
   "execution_count": null,
   "metadata": {},
   "outputs": [],
   "source": []
  }
 ],
 "metadata": {
  "kernelspec": {
   "display_name": "Python 3",
   "language": "python",
   "name": "python3"
  },
  "language_info": {
   "codemirror_mode": {
    "name": "ipython",
    "version": 3
   },
   "file_extension": ".py",
   "mimetype": "text/x-python",
   "name": "python",
   "nbconvert_exporter": "python",
   "pygments_lexer": "ipython3",
   "version": "3.7.4"
  }
 },
 "nbformat": 4,
 "nbformat_minor": 4
}
