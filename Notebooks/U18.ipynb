{
 "cells": [
  {
   "cell_type": "markdown",
   "metadata": {},
   "source": [
    "# Know things about U18\n",
    "\n",
    "From MUSE data Husser et al. 2016"
   ]
  },
  {
   "cell_type": "code",
   "execution_count": 1,
   "metadata": {},
   "outputs": [],
   "source": [
    "import numpy as np"
   ]
  },
  {
   "cell_type": "code",
   "execution_count": 2,
   "metadata": {},
   "outputs": [],
   "source": [
    "Teff = 4200 #k\n",
    "logg = 3.6\n",
    "vrad = 145.9 #km/s"
   ]
  },
  {
   "cell_type": "markdown",
   "metadata": {},
   "source": [
    "## Constant"
   ]
  },
  {
   "cell_type": "code",
   "execution_count": 3,
   "metadata": {},
   "outputs": [],
   "source": [
    "G = 6.674 *10**(-11) #N m^2/kg^2\n",
    "pi = np.pi\n",
    "day = 86400 #seconds\n",
    "massun = 1.988435*10**(30) # Kg\n",
    "lsun = 3.848*10**(26)# Watts\n",
    "lsunergs = 3.848*10**(33) #erg/s\n",
    "stephanboltzmannconstant = 5.67*10**(-8) # W/m^2/K^4"
   ]
  },
  {
   "cell_type": "markdown",
   "metadata": {},
   "source": [
    "# Functions"
   ]
  },
  {
   "cell_type": "code",
   "execution_count": 4,
   "metadata": {},
   "outputs": [],
   "source": [
    "def massfunction(Porbindays,Kinkm):\n",
    "    G = 6.674 *10**(-11) #N m^2/kg^2\n",
    "    pi = np.pi\n",
    "    day = 86400 #seconds\n",
    "    massun = 1.988435*10**(30) # Kg\n",
    "    Porbinsec = Porbindays * day\n",
    "    K = Kinkm*1000.\n",
    "    f = (Porbinsec*K**3)/(2*pi*G)\n",
    "    finsolarmass = f/massun\n",
    "    return finsolarmass, f\n",
    "\n",
    "def density(Porbindays):\n",
    "    day = 24.#seconds\n",
    "    Porbinhr = Porbindays * day\n",
    "    rho = 107*Porbinhr**(-2.)  #g/cm^3\n",
    "    return rho\n",
    "    "
   ]
  },
  {
   "cell_type": "markdown",
   "metadata": {},
   "source": [
    "#\n",
    "\n",
    "$$M = M_\\text{Sun} - 2.5 \\log_{10}\\left( \\frac{L}{L_\\odot} \\right )$$\n",
    "\n",
    "$$M = M_\\text{Sun} - 2.5 \\log_{10}\\left( \\frac{L}{L_\\odot} \\right )$$\n",
    "\n",
    "$$M_V = 4.84 $$\n",
    "$$ L = 4\\pi R^2 \\sigma T^4$$\n",
    "\n",
    "$$\\frac{m_2^3}{(m_1+m_2)^2} \\sin ^3 i = \\frac{P K^3}{2 \\pi G}$$\n",
    "\n",
    "This gives us a lower-limit on the mass of the unseen object, $M_2$:\n",
    "\n",
    "$$M_2 \\ge \\frac{P K^3}{2 \\pi G}$$ if $i=90$ and $M_1=0$\n",
    "\n",
    "\n"
   ]
  },
  {
   "cell_type": "code",
   "execution_count": 5,
   "metadata": {},
   "outputs": [
    {
     "data": {
      "text/plain": [
       "(0.6254685393802636, 1.2437035351025944e+30)"
      ]
     },
     "execution_count": 5,
     "metadata": {},
     "output_type": "execute_result"
    }
   ],
   "source": [
    "massfunction(1.98,145)"
   ]
  },
  {
   "cell_type": "code",
   "execution_count": 33,
   "metadata": {},
   "outputs": [
    {
     "data": {
      "text/plain": [
       "2.411574110511132e-13"
      ]
     },
     "execution_count": 33,
     "metadata": {},
     "output_type": "execute_result"
    }
   ],
   "source": [
    "2.51**(-31.57)"
   ]
  },
  {
   "cell_type": "code",
   "execution_count": 32,
   "metadata": {},
   "outputs": [
    {
     "data": {
      "text/plain": [
       "-2.9"
      ]
     },
     "execution_count": 32,
     "metadata": {},
     "output_type": "execute_result"
    }
   ],
   "source": [
    "-1.44-1.46"
   ]
  },
  {
   "cell_type": "code",
   "execution_count": null,
   "metadata": {},
   "outputs": [],
   "source": []
  }
 ],
 "metadata": {
  "kernelspec": {
   "display_name": "Python 3",
   "language": "python",
   "name": "python3"
  },
  "language_info": {
   "codemirror_mode": {
    "name": "ipython",
    "version": 3
   },
   "file_extension": ".py",
   "mimetype": "text/x-python",
   "name": "python",
   "nbconvert_exporter": "python",
   "pygments_lexer": "ipython3",
   "version": "3.7.4"
  }
 },
 "nbformat": 4,
 "nbformat_minor": 4
}
