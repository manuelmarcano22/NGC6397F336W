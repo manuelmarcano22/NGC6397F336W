{
 "cells": [
  {
   "cell_type": "markdown",
   "metadata": {},
   "source": [
    "# Mass Function\n",
    "\n",
    "M1 and M2 with orbital period P. \n",
    "\n",
    "If the radial velocity of component 1 is seen with amplitude K1 then:\n",
    "\n",
    "\n",
    "$$f(M2) = \\frac{M2^3 \\sin ^3 i}{(M1+M2)^2} = \\frac{P K1^3}{2 \\pi G} $$"
   ]
  },
  {
   "cell_type": "code",
   "execution_count": null,
   "metadata": {},
   "outputs": [],
   "source": []
  }
 ],
 "metadata": {
  "kernelspec": {
   "display_name": "Python 3",
   "language": "python",
   "name": "python3"
  },
  "language_info": {
   "codemirror_mode": {
    "name": "ipython",
    "version": 3
   },
   "file_extension": ".py",
   "mimetype": "text/x-python",
   "name": "python",
   "nbconvert_exporter": "python",
   "pygments_lexer": "ipython3",
   "version": "3.7.3"
  }
 },
 "nbformat": 4,
 "nbformat_minor": 2
}
