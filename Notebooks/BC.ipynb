{
 "cells": [
  {
   "cell_type": "markdown",
   "metadata": {},
   "source": [
    "# To Find Bolometric Magnitude\n",
    "\n",
    "Pallanca et al. (2017) take the WFPC2 F55W filter as V. They deredden and get $V_o = 16.05$ for U18.\n",
    "\n",
    "With a distace modulus $(m-M)_0 = 12.01$ we get $M_v = 4.05$\n",
    "\n",
    "## Bolometric Correction\n",
    "\n",
    "Torres (2010) \"ON THE USE OF EMPIRICAL BOLOMETRIC CORRECTIONS FOR STARS\" he prints the corrected version of the Flower (1996) to get BC depending on the $T_{eff}$.\n",
    "\n",
    "$$BC_V = a +b (\\log T_{eff}) + c (\\log T_{eff})^2 + ...$$\n",
    "\n",
    "For $\\log T_{eff} > 3.90$ like the case we have it is:\n",
    "\n",
    "$$a = -0.118115450538963E+06$$\n",
    "$$b = 0.137145973583929E+06$$\n",
    "$$c = -0.63623381210022E+05$$\n",
    "$$d = 0.14741292356264E+05$$\n",
    "$$e = -0.17058727840687E+04$$\n",
    "$$f = 0.788731721804990E+02$$\n",
    "\n",
    "Then\n",
    "\n",
    "$$\\log(\\frac{L}{L_\\odot}) = -0.4 [ M_V - V_\\odot - 31.572 + (BC_V - BC_{V,\\odot}) ])$$\n",
    "\n",
    "\n"
   ]
  },
  {
   "cell_type": "code",
   "execution_count": 102,
   "metadata": {},
   "outputs": [],
   "source": [
    "import numpy as np\n",
    "lsunergs = 3.848*10**(33) #luminosity of the sun in erg/s\n",
    "logteff = np.log10(4200) #log10 of Teff from Husser (2016)\n",
    "Vo = 16.05 #Vo given by Pallanca\n",
    "Mv = Vo - 12.01 #Distance Modulus\n",
    "Vsun = -26.76 # V for the Sun\n",
    "BCVsun = -0.080 # BC for the Sun\n",
    "#Coefficients from Torres \n",
    "a = -0.118115450538963*10**(6)\n",
    "b = 0.137145973583929*10**(6)\n",
    "c = -0.63623381210022*10**(5)\n",
    "d = 0.14741292356264*10**(5)\n",
    "e = -0.17058727840687*10**(4)\n",
    "f = 0.788731721804990*10**2\n",
    "BCV = a+b*logteff**2 + c *logteff**3 + d *logteff**4 * e*logteff**5*f*logteff**6\n"
   ]
  },
  {
   "cell_type": "code",
   "execution_count": 100,
   "metadata": {},
   "outputs": [
    {
     "name": "stdout",
     "output_type": "stream",
     "text": [
      "17.2859447364533 6.651631534587229e+34\n"
     ]
    }
   ],
   "source": [
    "logl = -0.4*(Mv-Vsun-31.572+(BCV-BCVsun)) #Get log of L/Lsun\n",
    "l = np.log10(logl) #L in Lsun\n",
    "lergs = lsunergs * l #conver L to ergs\n",
    "print(l,lergs) #L in Lsun and L in ergs"
   ]
  },
  {
   "cell_type": "code",
   "execution_count": 101,
   "metadata": {},
   "outputs": [
    {
     "name": "stdout",
     "output_type": "stream",
     "text": [
      "1.00727e-03\n"
     ]
    }
   ],
   "source": [
    "lx = 6.7*10**(31) # From Bogdanov for U18\n",
    "ratio = lx/lergs\n",
    "print(\"{:.5e}\".format(ratio))"
   ]
  },
  {
   "cell_type": "markdown",
   "metadata": {},
   "source": [
    "It is very close to the saturation of \n",
    "\n",
    "$$\\frac{L_x}{L_{bol}} \\sim 10^{-3}$$"
   ]
  },
  {
   "cell_type": "code",
   "execution_count": 95,
   "metadata": {},
   "outputs": [
    {
     "data": {
      "text/plain": [
       "0.001"
      ]
     },
     "execution_count": 95,
     "metadata": {},
     "output_type": "execute_result"
    }
   ],
   "source": [
    "10**(-3)"
   ]
  },
  {
   "cell_type": "code",
   "execution_count": null,
   "metadata": {},
   "outputs": [],
   "source": []
  }
 ],
 "metadata": {
  "kernelspec": {
   "display_name": "Python 3",
   "language": "python",
   "name": "python3"
  },
  "language_info": {
   "codemirror_mode": {
    "name": "ipython",
    "version": 3
   },
   "file_extension": ".py",
   "mimetype": "text/x-python",
   "name": "python",
   "nbconvert_exporter": "python",
   "pygments_lexer": "ipython3",
   "version": "3.7.4"
  }
 },
 "nbformat": 4,
 "nbformat_minor": 4
}
