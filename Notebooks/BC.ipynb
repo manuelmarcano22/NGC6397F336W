{
 "cells": [
  {
   "cell_type": "markdown",
   "metadata": {},
   "source": [
    "# To Find Bolometric Magnitude\n",
    "\n",
    "Pallanca et al. (2017) take the WFPC2 F55W filter as V. They deredden and get $V_o = 16.05$ for U18.\n",
    "\n",
    "With a distace modulus $(m-M)_0 = 12.01$ we get $M_v = 4.05$\n",
    "\n",
    "## Bolometric Correction\n",
    "\n",
    "Torres (2010) \"ON THE USE OF EMPIRICAL BOLOMETRIC CORRECTIONS FOR STARS\" he prints the corrected version of the Flower (1996) to get BC depending on the $T_{eff}$.\n",
    "\n",
    "$$BC_V = a +b (\\log T_{eff}) + c (\\log T_{eff})^2 + ...$$\n",
    "\n",
    "\n",
    "\n",
    "Then\n",
    "\n",
    "$$\\log\\left (\\frac{L}{L_\\odot}\\right) = -0.4 \\left[ M_V - V_\\odot - 31.572 + \\left (BC_V - BC_{V,\\odot}\\right) \\right])$$\n",
    "\n",
    "\n"
   ]
  },
  {
   "cell_type": "code",
   "execution_count": 1,
   "metadata": {},
   "outputs": [
    {
     "name": "stdout",
     "output_type": "stream",
     "text": [
      "-0.8675044634983351\n"
     ]
    }
   ],
   "source": [
    "import numpy as np\n",
    "lsunergs = 3.848*10**(33) #luminosity of the sun in erg/s\n",
    "logteff = np.log10(4200) #log10 of Teff from Husser (2016)\n",
    "Vo = 16.05 #Vo given by Pallanca\n",
    "Mv = Vo - 12.01 #Distance Modulus\n",
    "Vsun = -26.76 # V for the Sun\n",
    "BCVsun = -0.080 # BC for the Sun\n",
    "#Coefficients from Torres \n",
    "a = -0.1905372914964*10**(5)\n",
    "b = 0.15514486676441*10**(5)\n",
    "c = -0.42127881930171*10**(4)\n",
    "d = 0.3814763284223*10**(3)\n",
    "e = 0#-0.17058727840687*10**(4)\n",
    "f = 0#0.788731721804990*10**2\n",
    "BCV = a + b*logteff**1 + c *logteff**2 + d *(logteff)**3 + e*(logteff)**4 + f*(logteff)**5\n",
    "print(BCV)"
   ]
  },
  {
   "cell_type": "code",
   "execution_count": 2,
   "metadata": {},
   "outputs": [
    {
     "name": "stdout",
     "output_type": "stream",
     "text": [
      "4.205346500466855 1.6182173333796458e+34\n"
     ]
    }
   ],
   "source": [
    "logl = -0.4*(Mv-Vsun-31.572+(BCV-BCVsun)) #Get log of L/Lsun\n",
    "l = 10**(logl) #L in Lsun\n",
    "lergs = lsunergs * l #conver L to ergs\n",
    "print(l,lergs) #L in Lsun and L in ergs"
   ]
  },
  {
   "cell_type": "code",
   "execution_count": 3,
   "metadata": {},
   "outputs": [
    {
     "name": "stdout",
     "output_type": "stream",
     "text": [
      "4.14036e-03\n"
     ]
    }
   ],
   "source": [
    "lx = 6.7*10**(31) # From Bogdanov for U18\n",
    "ratio = lx/lergs\n",
    "print(\"{:.5e}\".format(ratio))"
   ]
  },
  {
   "cell_type": "code",
   "execution_count": null,
   "metadata": {},
   "outputs": [],
   "source": []
  },
  {
   "cell_type": "markdown",
   "metadata": {},
   "source": [
    "Saturation of \n",
    "\n",
    "$$\\frac{L_x}{L_{bol}} \\sim 10^{-3}$$"
   ]
  },
  {
   "cell_type": "code",
   "execution_count": 15,
   "metadata": {},
   "outputs": [
    {
     "data": {
      "text/plain": [
       "3.6232492903979003"
      ]
     },
     "execution_count": 15,
     "metadata": {},
     "output_type": "execute_result"
    }
   ],
   "source": [
    "logteff"
   ]
  },
  {
   "cell_type": "code",
   "execution_count": 8,
   "metadata": {},
   "outputs": [
    {
     "data": {
      "text/plain": [
       "0.752574989159953"
      ]
     },
     "execution_count": 8,
     "metadata": {},
     "output_type": "execute_result"
    }
   ],
   "source": [
    "2.5*np.log10(2)"
   ]
  },
  {
   "cell_type": "code",
   "execution_count": null,
   "metadata": {},
   "outputs": [],
   "source": []
  }
 ],
 "metadata": {
  "kernelspec": {
   "display_name": "Python 3",
   "language": "python",
   "name": "python3"
  },
  "language_info": {
   "codemirror_mode": {
    "name": "ipython",
    "version": 3
   },
   "file_extension": ".py",
   "mimetype": "text/x-python",
   "name": "python",
   "nbconvert_exporter": "python",
   "pygments_lexer": "ipython3",
   "version": "3.7.3"
  }
 },
 "nbformat": 4,
 "nbformat_minor": 4
}
