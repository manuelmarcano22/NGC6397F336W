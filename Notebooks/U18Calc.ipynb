{
 "cells": [
  {
   "cell_type": "markdown",
   "metadata": {},
   "source": [
    "# Know things about U18\n",
    "\n",
    "From MUSE data Husser et al. 2016"
   ]
  },
  {
   "cell_type": "code",
   "execution_count": 2,
   "metadata": {},
   "outputs": [],
   "source": [
    "import numpy as np"
   ]
  },
  {
   "cell_type": "code",
   "execution_count": 4,
   "metadata": {},
   "outputs": [],
   "source": [
    "Teff = 4200 #k\n",
    "logg = 3.6\n",
    "vrad = 145.9 #km/s"
   ]
  },
  {
   "cell_type": "markdown",
   "metadata": {},
   "source": [
    "## Constant"
   ]
  },
  {
   "cell_type": "code",
   "execution_count": 5,
   "metadata": {},
   "outputs": [],
   "source": [
    "G = 6.674 *10**(-11) #N m^2/kg^2\n",
    "pi = np.pi\n",
    "day = 86400 #seconds\n",
    "massun = 1.988435*10**(30) # Kg\n",
    "lsun = 3.848*10**(26)# Watts\n",
    "lsunergs = 3.848*10**(33) #erg/s\n",
    "stephanboltzmannconstant = 5.67*10**(-8) # W/m^2/K^4"
   ]
  },
  {
   "cell_type": "markdown",
   "metadata": {},
   "source": [
    "# Functions"
   ]
  },
  {
   "cell_type": "code",
   "execution_count": 17,
   "metadata": {},
   "outputs": [],
   "source": [
    "def massfunction(Porbindays,Kinkm):\n",
    "    G = 6.674 *10**(-11) #N m^2/kg^2\n",
    "    pi = np.pi\n",
    "    day = 86400 #seconds\n",
    "    massun = 1.988435*10**(30) # Kg\n",
    "    Porbinsec = Porbindays * day\n",
    "    K = (Kinkm*1000.)\n",
    "    f = (Porbinsec*K**3)/(2*pi*G)\n",
    "    finsolarmass = f/massun\n",
    "    return finsolarmass, f\n",
    "\n",
    "def density(Porbindays):\n",
    "    day = 24.#hours\n",
    "    Porbinhr = Porbindays * day\n",
    "    rho = 107*Porbinhr**(-2.)  #g/cm^3\n",
    "    return rho\n",
    "\n",
    "def logg(Msolar,Rsolar):\n",
    "    loggstar = np.log10(Msolar)-2*np.log10(Rsolar)+4.4374\n",
    "    return loggstar\n",
    "    \n"
   ]
  },
  {
   "cell_type": "markdown",
   "metadata": {},
   "source": [
    "#\n",
    "\n",
    "$$M = M_\\text{Sun} - 2.5 \\log_{10}\\left( \\frac{L}{L_\\odot} \\right )$$\n",
    "\n",
    "$$M = M_\\text{Sun} - 2.5 \\log_{10}\\left( \\frac{L}{L_\\odot} \\right )$$\n",
    "\n",
    "$$M_V = 4.84 $$\n",
    "$$ L = 4\\pi R^2 \\sigma T^4$$\n",
    "\n",
    "$$\\frac{m_2^3}{(m_1+m_2)^2} \\sin ^3 i = \\frac{P K^3}{2 \\pi G}$$\n",
    "\n",
    "This gives us a lower-limit on the mass of the unseen object, $M_2$:\n",
    "\n",
    "$$M_2 \\ge \\frac{P K^3}{2 \\pi G}$$ \n",
    "\n",
    "\n",
    "if $i=90$ and $M_1=0$\n",
    "\n",
    "\n"
   ]
  },
  {
   "cell_type": "markdown",
   "metadata": {},
   "source": [
    "$$ R/R_S = (\\frac{T_s}{T})^2$$"
   ]
  },
  {
   "cell_type": "code",
   "execution_count": 29,
   "metadata": {},
   "outputs": [
    {
     "data": {
      "text/plain": [
       "(0.07884392442047952, 1.5677601885503619e+29)"
      ]
     },
     "execution_count": 29,
     "metadata": {},
     "output_type": "execute_result"
    }
   ],
   "source": [
    "massfunction(1.96,145.9/2.)"
   ]
  },
  {
   "cell_type": "code",
   "execution_count": 21,
   "metadata": {},
   "outputs": [
    {
     "data": {
      "text/plain": [
       "(1.2681459749544075, 2.5216258417084672e+30)"
      ]
     },
     "execution_count": 21,
     "metadata": {},
     "output_type": "execute_result"
    }
   ],
   "source": [
    "massfunction(0.1617006898,423)"
   ]
  },
  {
   "cell_type": "code",
   "execution_count": 130,
   "metadata": {},
   "outputs": [
    {
     "data": {
      "text/plain": [
       "(0.0031900106182008886, 6.343128763602284e+27)"
      ]
     },
     "execution_count": 130,
     "metadata": {},
     "output_type": "execute_result"
    }
   ],
   "source": [
    "massfunction(16.544,12.3)"
   ]
  },
  {
   "cell_type": "code",
   "execution_count": 9,
   "metadata": {},
   "outputs": [
    {
     "data": {
      "text/plain": [
       "0.05145814096645123"
      ]
     },
     "execution_count": 9,
     "metadata": {},
     "output_type": "execute_result"
    }
   ],
   "source": [
    "\n",
    "density(1.9)"
   ]
  },
  {
   "cell_type": "markdown",
   "metadata": {},
   "source": [
    "# Radius\n"
   ]
  },
  {
   "cell_type": "code",
   "execution_count": 10,
   "metadata": {},
   "outputs": [],
   "source": [
    "Gcgs = 6.672 *10**(-8) #cm3⋅g−1⋅s−2.\n",
    "Rsuncgs = 6.96*10**10 #cm\n",
    "Msuncgs = 1.988435*10**(33) # grams\n",
    "densitysuncgs = Msuncgs/(4/3.*np.pi*Rsuncgs**3)"
   ]
  },
  {
   "cell_type": "markdown",
   "metadata": {},
   "source": [
    "For the Sun:\n",
    "\n",
    "https://www.wolframalpha.com/input/?i=Solve%5B1.4%3D%3D%28M%2F%284%2F3.*Pi*R%5E3%29%29%2C4.44%3D%3DLog10%5B6.672+*10%5E%28-8%29*M%2FR%5E2%5D%5D"
   ]
  },
  {
   "cell_type": "markdown",
   "metadata": {},
   "source": [
    "For the star:\n",
    "\n",
    "https://www.wolframalpha.com/input/?i=Solve%5B0.05%3D%3D%28M%2F%284%2F3.*Pi*R%5E3%29%29%2C3.6%3D%3DLog10%5B6.672+*10%5E%28-8%29*M%2FR%5E2%5D%5D    \n",
    "    "
   ]
  },
  {
   "cell_type": "code",
   "execution_count": 11,
   "metadata": {},
   "outputs": [
    {
     "data": {
      "text/plain": [
       "4.437548957299725"
      ]
     },
     "execution_count": 11,
     "metadata": {},
     "output_type": "execute_result"
    }
   ],
   "source": [
    "np.log10(Gcgs*Msuncgs/Rsuncgs**2)"
   ]
  },
  {
   "cell_type": "code",
   "execution_count": 12,
   "metadata": {},
   "outputs": [
    {
     "data": {
      "text/plain": [
       "0.8171250254597209"
      ]
     },
     "execution_count": 12,
     "metadata": {},
     "output_type": "execute_result"
    }
   ],
   "source": [
    "1.6248*10**33/Msuncgs\n",
    "\n"
   ]
  },
  {
   "cell_type": "code",
   "execution_count": 13,
   "metadata": {},
   "outputs": [
    {
     "data": {
      "text/plain": [
       "3.7472039199714864"
      ]
     },
     "execution_count": 13,
     "metadata": {},
     "output_type": "execute_result"
    }
   ],
   "source": [
    "logg(0.9,2.1)\n"
   ]
  },
  {
   "cell_type": "code",
   "execution_count": 14,
   "metadata": {},
   "outputs": [
    {
     "data": {
      "text/plain": [
       "0.05145814096645123"
      ]
     },
     "execution_count": 14,
     "metadata": {},
     "output_type": "execute_result"
    }
   ],
   "source": [
    "density(1.9)"
   ]
  },
  {
   "cell_type": "markdown",
   "metadata": {},
   "source": [
    "# Find radius from magnitude"
   ]
  },
  {
   "cell_type": "code",
   "execution_count": 15,
   "metadata": {},
   "outputs": [
    {
     "data": {
      "text/plain": [
       "0.935583379501385"
      ]
     },
     "execution_count": 15,
     "metadata": {},
     "output_type": "execute_result"
    }
   ],
   "source": [
    "(5800/9500)**2*(2.51)"
   ]
  },
  {
   "cell_type": "code",
   "execution_count": 16,
   "metadata": {},
   "outputs": [
    {
     "data": {
      "text/plain": [
       "(0.6324520199239918, 1.2575897322375626e+30)"
      ]
     },
     "execution_count": 16,
     "metadata": {},
     "output_type": "execute_result"
    }
   ],
   "source": [
    "massfunction(1.9652845291542833,145.9)"
   ]
  },
  {
   "cell_type": "code",
   "execution_count": 19,
   "metadata": {},
   "outputs": [
    {
     "data": {
      "text/plain": [
       "(1.2034139560574486, 2.392910429713093e+30)"
      ]
     },
     "execution_count": 19,
     "metadata": {},
     "output_type": "execute_result"
    }
   ],
   "source": [
    "massfunction(78.9,52.8)"
   ]
  },
  {
   "cell_type": "markdown",
   "metadata": {},
   "source": [
    "# Measure Halpha"
   ]
  },
  {
   "cell_type": "code",
   "execution_count": 59,
   "metadata": {},
   "outputs": [
    {
     "data": {
      "text/html": [
       "\n",
       "    <div class=\"bk-root\">\n",
       "        <a href=\"https://bokeh.pydata.org\" target=\"_blank\" class=\"bk-logo bk-logo-small bk-logo-notebook\"></a>\n",
       "        <span id=\"1191\">Loading BokehJS ...</span>\n",
       "    </div>"
      ]
     },
     "metadata": {},
     "output_type": "display_data"
    },
    {
     "data": {
      "application/javascript": [
       "\n",
       "(function(root) {\n",
       "  function now() {\n",
       "    return new Date();\n",
       "  }\n",
       "\n",
       "  var force = true;\n",
       "\n",
       "  if (typeof root._bokeh_onload_callbacks === \"undefined\" || force === true) {\n",
       "    root._bokeh_onload_callbacks = [];\n",
       "    root._bokeh_is_loading = undefined;\n",
       "  }\n",
       "\n",
       "  var JS_MIME_TYPE = 'application/javascript';\n",
       "  var HTML_MIME_TYPE = 'text/html';\n",
       "  var EXEC_MIME_TYPE = 'application/vnd.bokehjs_exec.v0+json';\n",
       "  var CLASS_NAME = 'output_bokeh rendered_html';\n",
       "\n",
       "  /**\n",
       "   * Render data to the DOM node\n",
       "   */\n",
       "  function render(props, node) {\n",
       "    var script = document.createElement(\"script\");\n",
       "    node.appendChild(script);\n",
       "  }\n",
       "\n",
       "  /**\n",
       "   * Handle when an output is cleared or removed\n",
       "   */\n",
       "  function handleClearOutput(event, handle) {\n",
       "    var cell = handle.cell;\n",
       "\n",
       "    var id = cell.output_area._bokeh_element_id;\n",
       "    var server_id = cell.output_area._bokeh_server_id;\n",
       "    // Clean up Bokeh references\n",
       "    if (id != null && id in Bokeh.index) {\n",
       "      Bokeh.index[id].model.document.clear();\n",
       "      delete Bokeh.index[id];\n",
       "    }\n",
       "\n",
       "    if (server_id !== undefined) {\n",
       "      // Clean up Bokeh references\n",
       "      var cmd = \"from bokeh.io.state import curstate; print(curstate().uuid_to_server['\" + server_id + \"'].get_sessions()[0].document.roots[0]._id)\";\n",
       "      cell.notebook.kernel.execute(cmd, {\n",
       "        iopub: {\n",
       "          output: function(msg) {\n",
       "            var id = msg.content.text.trim();\n",
       "            if (id in Bokeh.index) {\n",
       "              Bokeh.index[id].model.document.clear();\n",
       "              delete Bokeh.index[id];\n",
       "            }\n",
       "          }\n",
       "        }\n",
       "      });\n",
       "      // Destroy server and session\n",
       "      var cmd = \"import bokeh.io.notebook as ion; ion.destroy_server('\" + server_id + \"')\";\n",
       "      cell.notebook.kernel.execute(cmd);\n",
       "    }\n",
       "  }\n",
       "\n",
       "  /**\n",
       "   * Handle when a new output is added\n",
       "   */\n",
       "  function handleAddOutput(event, handle) {\n",
       "    var output_area = handle.output_area;\n",
       "    var output = handle.output;\n",
       "\n",
       "    // limit handleAddOutput to display_data with EXEC_MIME_TYPE content only\n",
       "    if ((output.output_type != \"display_data\") || (!output.data.hasOwnProperty(EXEC_MIME_TYPE))) {\n",
       "      return\n",
       "    }\n",
       "\n",
       "    var toinsert = output_area.element.find(\".\" + CLASS_NAME.split(' ')[0]);\n",
       "\n",
       "    if (output.metadata[EXEC_MIME_TYPE][\"id\"] !== undefined) {\n",
       "      toinsert[toinsert.length - 1].firstChild.textContent = output.data[JS_MIME_TYPE];\n",
       "      // store reference to embed id on output_area\n",
       "      output_area._bokeh_element_id = output.metadata[EXEC_MIME_TYPE][\"id\"];\n",
       "    }\n",
       "    if (output.metadata[EXEC_MIME_TYPE][\"server_id\"] !== undefined) {\n",
       "      var bk_div = document.createElement(\"div\");\n",
       "      bk_div.innerHTML = output.data[HTML_MIME_TYPE];\n",
       "      var script_attrs = bk_div.children[0].attributes;\n",
       "      for (var i = 0; i < script_attrs.length; i++) {\n",
       "        toinsert[toinsert.length - 1].firstChild.setAttribute(script_attrs[i].name, script_attrs[i].value);\n",
       "      }\n",
       "      // store reference to server id on output_area\n",
       "      output_area._bokeh_server_id = output.metadata[EXEC_MIME_TYPE][\"server_id\"];\n",
       "    }\n",
       "  }\n",
       "\n",
       "  function register_renderer(events, OutputArea) {\n",
       "\n",
       "    function append_mime(data, metadata, element) {\n",
       "      // create a DOM node to render to\n",
       "      var toinsert = this.create_output_subarea(\n",
       "        metadata,\n",
       "        CLASS_NAME,\n",
       "        EXEC_MIME_TYPE\n",
       "      );\n",
       "      this.keyboard_manager.register_events(toinsert);\n",
       "      // Render to node\n",
       "      var props = {data: data, metadata: metadata[EXEC_MIME_TYPE]};\n",
       "      render(props, toinsert[toinsert.length - 1]);\n",
       "      element.append(toinsert);\n",
       "      return toinsert\n",
       "    }\n",
       "\n",
       "    /* Handle when an output is cleared or removed */\n",
       "    events.on('clear_output.CodeCell', handleClearOutput);\n",
       "    events.on('delete.Cell', handleClearOutput);\n",
       "\n",
       "    /* Handle when a new output is added */\n",
       "    events.on('output_added.OutputArea', handleAddOutput);\n",
       "\n",
       "    /**\n",
       "     * Register the mime type and append_mime function with output_area\n",
       "     */\n",
       "    OutputArea.prototype.register_mime_type(EXEC_MIME_TYPE, append_mime, {\n",
       "      /* Is output safe? */\n",
       "      safe: true,\n",
       "      /* Index of renderer in `output_area.display_order` */\n",
       "      index: 0\n",
       "    });\n",
       "  }\n",
       "\n",
       "  // register the mime type if in Jupyter Notebook environment and previously unregistered\n",
       "  if (root.Jupyter !== undefined) {\n",
       "    var events = require('base/js/events');\n",
       "    var OutputArea = require('notebook/js/outputarea').OutputArea;\n",
       "\n",
       "    if (OutputArea.prototype.mime_types().indexOf(EXEC_MIME_TYPE) == -1) {\n",
       "      register_renderer(events, OutputArea);\n",
       "    }\n",
       "  }\n",
       "\n",
       "  \n",
       "  if (typeof (root._bokeh_timeout) === \"undefined\" || force === true) {\n",
       "    root._bokeh_timeout = Date.now() + 5000;\n",
       "    root._bokeh_failed_load = false;\n",
       "  }\n",
       "\n",
       "  var NB_LOAD_WARNING = {'data': {'text/html':\n",
       "     \"<div style='background-color: #fdd'>\\n\"+\n",
       "     \"<p>\\n\"+\n",
       "     \"BokehJS does not appear to have successfully loaded. If loading BokehJS from CDN, this \\n\"+\n",
       "     \"may be due to a slow or bad network connection. Possible fixes:\\n\"+\n",
       "     \"</p>\\n\"+\n",
       "     \"<ul>\\n\"+\n",
       "     \"<li>re-rerun `output_notebook()` to attempt to load from CDN again, or</li>\\n\"+\n",
       "     \"<li>use INLINE resources instead, as so:</li>\\n\"+\n",
       "     \"</ul>\\n\"+\n",
       "     \"<code>\\n\"+\n",
       "     \"from bokeh.resources import INLINE\\n\"+\n",
       "     \"output_notebook(resources=INLINE)\\n\"+\n",
       "     \"</code>\\n\"+\n",
       "     \"</div>\"}};\n",
       "\n",
       "  function display_loaded() {\n",
       "    var el = document.getElementById(\"1191\");\n",
       "    if (el != null) {\n",
       "      el.textContent = \"BokehJS is loading...\";\n",
       "    }\n",
       "    if (root.Bokeh !== undefined) {\n",
       "      if (el != null) {\n",
       "        el.textContent = \"BokehJS \" + root.Bokeh.version + \" successfully loaded.\";\n",
       "      }\n",
       "    } else if (Date.now() < root._bokeh_timeout) {\n",
       "      setTimeout(display_loaded, 100)\n",
       "    }\n",
       "  }\n",
       "\n",
       "\n",
       "  function run_callbacks() {\n",
       "    try {\n",
       "      root._bokeh_onload_callbacks.forEach(function(callback) {\n",
       "        if (callback != null)\n",
       "          callback();\n",
       "      });\n",
       "    } finally {\n",
       "      delete root._bokeh_onload_callbacks\n",
       "    }\n",
       "    console.debug(\"Bokeh: all callbacks have finished\");\n",
       "  }\n",
       "\n",
       "  function load_libs(css_urls, js_urls, callback) {\n",
       "    if (css_urls == null) css_urls = [];\n",
       "    if (js_urls == null) js_urls = [];\n",
       "\n",
       "    root._bokeh_onload_callbacks.push(callback);\n",
       "    if (root._bokeh_is_loading > 0) {\n",
       "      console.debug(\"Bokeh: BokehJS is being loaded, scheduling callback at\", now());\n",
       "      return null;\n",
       "    }\n",
       "    if (js_urls == null || js_urls.length === 0) {\n",
       "      run_callbacks();\n",
       "      return null;\n",
       "    }\n",
       "    console.debug(\"Bokeh: BokehJS not loaded, scheduling load and callback at\", now());\n",
       "    root._bokeh_is_loading = css_urls.length + js_urls.length;\n",
       "\n",
       "    function on_load() {\n",
       "      root._bokeh_is_loading--;\n",
       "      if (root._bokeh_is_loading === 0) {\n",
       "        console.debug(\"Bokeh: all BokehJS libraries/stylesheets loaded\");\n",
       "        run_callbacks()\n",
       "      }\n",
       "    }\n",
       "\n",
       "    function on_error() {\n",
       "      console.error(\"failed to load \" + url);\n",
       "    }\n",
       "\n",
       "    for (var i = 0; i < css_urls.length; i++) {\n",
       "      var url = css_urls[i];\n",
       "      const element = document.createElement(\"link\");\n",
       "      element.onload = on_load;\n",
       "      element.onerror = on_error;\n",
       "      element.rel = \"stylesheet\";\n",
       "      element.type = \"text/css\";\n",
       "      element.href = url;\n",
       "      console.debug(\"Bokeh: injecting link tag for BokehJS stylesheet: \", url);\n",
       "      document.body.appendChild(element);\n",
       "    }\n",
       "\n",
       "    for (var i = 0; i < js_urls.length; i++) {\n",
       "      var url = js_urls[i];\n",
       "      var element = document.createElement('script');\n",
       "      element.onload = on_load;\n",
       "      element.onerror = on_error;\n",
       "      element.async = false;\n",
       "      element.src = url;\n",
       "      console.debug(\"Bokeh: injecting script tag for BokehJS library: \", url);\n",
       "      document.head.appendChild(element);\n",
       "    }\n",
       "  };var element = document.getElementById(\"1191\");\n",
       "  if (element == null) {\n",
       "    console.error(\"Bokeh: ERROR: autoload.js configured with elementid '1191' but no matching script tag was found. \")\n",
       "    return false;\n",
       "  }\n",
       "\n",
       "  function inject_raw_css(css) {\n",
       "    const element = document.createElement(\"style\");\n",
       "    element.appendChild(document.createTextNode(css));\n",
       "    document.body.appendChild(element);\n",
       "  }\n",
       "\n",
       "  var js_urls = [\"https://cdn.pydata.org/bokeh/release/bokeh-1.1.0.min.js\", \"https://cdn.pydata.org/bokeh/release/bokeh-widgets-1.1.0.min.js\", \"https://cdn.pydata.org/bokeh/release/bokeh-tables-1.1.0.min.js\", \"https://cdn.pydata.org/bokeh/release/bokeh-gl-1.1.0.min.js\"];\n",
       "  var css_urls = [\"https://cdn.pydata.org/bokeh/release/bokeh-1.1.0.min.css\", \"https://cdn.pydata.org/bokeh/release/bokeh-widgets-1.1.0.min.css\", \"https://cdn.pydata.org/bokeh/release/bokeh-tables-1.1.0.min.css\"];\n",
       "\n",
       "  var inline_js = [\n",
       "    function(Bokeh) {\n",
       "      Bokeh.set_log_level(\"info\");\n",
       "    },\n",
       "    \n",
       "    function(Bokeh) {\n",
       "      \n",
       "    },\n",
       "    function(Bokeh) {} // ensure no trailing comma for IE\n",
       "  ];\n",
       "\n",
       "  function run_inline_js() {\n",
       "    \n",
       "    if ((root.Bokeh !== undefined) || (force === true)) {\n",
       "      for (var i = 0; i < inline_js.length; i++) {\n",
       "        inline_js[i].call(root, root.Bokeh);\n",
       "      }if (force === true) {\n",
       "        display_loaded();\n",
       "      }} else if (Date.now() < root._bokeh_timeout) {\n",
       "      setTimeout(run_inline_js, 100);\n",
       "    } else if (!root._bokeh_failed_load) {\n",
       "      console.log(\"Bokeh: BokehJS failed to load within specified timeout.\");\n",
       "      root._bokeh_failed_load = true;\n",
       "    } else if (force !== true) {\n",
       "      var cell = $(document.getElementById(\"1191\")).parents('.cell').data().cell;\n",
       "      cell.output_area.append_execute_result(NB_LOAD_WARNING)\n",
       "    }\n",
       "\n",
       "  }\n",
       "\n",
       "  if (root._bokeh_is_loading === 0) {\n",
       "    console.debug(\"Bokeh: BokehJS loaded, going straight to plotting\");\n",
       "    run_inline_js();\n",
       "  } else {\n",
       "    load_libs(css_urls, js_urls, function() {\n",
       "      console.debug(\"Bokeh: BokehJS plotting callback run at\", now());\n",
       "      run_inline_js();\n",
       "    });\n",
       "  }\n",
       "}(window));"
      ],
      "application/vnd.bokehjs_load.v0+json": "\n(function(root) {\n  function now() {\n    return new Date();\n  }\n\n  var force = true;\n\n  if (typeof root._bokeh_onload_callbacks === \"undefined\" || force === true) {\n    root._bokeh_onload_callbacks = [];\n    root._bokeh_is_loading = undefined;\n  }\n\n  \n\n  \n  if (typeof (root._bokeh_timeout) === \"undefined\" || force === true) {\n    root._bokeh_timeout = Date.now() + 5000;\n    root._bokeh_failed_load = false;\n  }\n\n  var NB_LOAD_WARNING = {'data': {'text/html':\n     \"<div style='background-color: #fdd'>\\n\"+\n     \"<p>\\n\"+\n     \"BokehJS does not appear to have successfully loaded. If loading BokehJS from CDN, this \\n\"+\n     \"may be due to a slow or bad network connection. Possible fixes:\\n\"+\n     \"</p>\\n\"+\n     \"<ul>\\n\"+\n     \"<li>re-rerun `output_notebook()` to attempt to load from CDN again, or</li>\\n\"+\n     \"<li>use INLINE resources instead, as so:</li>\\n\"+\n     \"</ul>\\n\"+\n     \"<code>\\n\"+\n     \"from bokeh.resources import INLINE\\n\"+\n     \"output_notebook(resources=INLINE)\\n\"+\n     \"</code>\\n\"+\n     \"</div>\"}};\n\n  function display_loaded() {\n    var el = document.getElementById(\"1191\");\n    if (el != null) {\n      el.textContent = \"BokehJS is loading...\";\n    }\n    if (root.Bokeh !== undefined) {\n      if (el != null) {\n        el.textContent = \"BokehJS \" + root.Bokeh.version + \" successfully loaded.\";\n      }\n    } else if (Date.now() < root._bokeh_timeout) {\n      setTimeout(display_loaded, 100)\n    }\n  }\n\n\n  function run_callbacks() {\n    try {\n      root._bokeh_onload_callbacks.forEach(function(callback) {\n        if (callback != null)\n          callback();\n      });\n    } finally {\n      delete root._bokeh_onload_callbacks\n    }\n    console.debug(\"Bokeh: all callbacks have finished\");\n  }\n\n  function load_libs(css_urls, js_urls, callback) {\n    if (css_urls == null) css_urls = [];\n    if (js_urls == null) js_urls = [];\n\n    root._bokeh_onload_callbacks.push(callback);\n    if (root._bokeh_is_loading > 0) {\n      console.debug(\"Bokeh: BokehJS is being loaded, scheduling callback at\", now());\n      return null;\n    }\n    if (js_urls == null || js_urls.length === 0) {\n      run_callbacks();\n      return null;\n    }\n    console.debug(\"Bokeh: BokehJS not loaded, scheduling load and callback at\", now());\n    root._bokeh_is_loading = css_urls.length + js_urls.length;\n\n    function on_load() {\n      root._bokeh_is_loading--;\n      if (root._bokeh_is_loading === 0) {\n        console.debug(\"Bokeh: all BokehJS libraries/stylesheets loaded\");\n        run_callbacks()\n      }\n    }\n\n    function on_error() {\n      console.error(\"failed to load \" + url);\n    }\n\n    for (var i = 0; i < css_urls.length; i++) {\n      var url = css_urls[i];\n      const element = document.createElement(\"link\");\n      element.onload = on_load;\n      element.onerror = on_error;\n      element.rel = \"stylesheet\";\n      element.type = \"text/css\";\n      element.href = url;\n      console.debug(\"Bokeh: injecting link tag for BokehJS stylesheet: \", url);\n      document.body.appendChild(element);\n    }\n\n    for (var i = 0; i < js_urls.length; i++) {\n      var url = js_urls[i];\n      var element = document.createElement('script');\n      element.onload = on_load;\n      element.onerror = on_error;\n      element.async = false;\n      element.src = url;\n      console.debug(\"Bokeh: injecting script tag for BokehJS library: \", url);\n      document.head.appendChild(element);\n    }\n  };var element = document.getElementById(\"1191\");\n  if (element == null) {\n    console.error(\"Bokeh: ERROR: autoload.js configured with elementid '1191' but no matching script tag was found. \")\n    return false;\n  }\n\n  function inject_raw_css(css) {\n    const element = document.createElement(\"style\");\n    element.appendChild(document.createTextNode(css));\n    document.body.appendChild(element);\n  }\n\n  var js_urls = [\"https://cdn.pydata.org/bokeh/release/bokeh-1.1.0.min.js\", \"https://cdn.pydata.org/bokeh/release/bokeh-widgets-1.1.0.min.js\", \"https://cdn.pydata.org/bokeh/release/bokeh-tables-1.1.0.min.js\", \"https://cdn.pydata.org/bokeh/release/bokeh-gl-1.1.0.min.js\"];\n  var css_urls = [\"https://cdn.pydata.org/bokeh/release/bokeh-1.1.0.min.css\", \"https://cdn.pydata.org/bokeh/release/bokeh-widgets-1.1.0.min.css\", \"https://cdn.pydata.org/bokeh/release/bokeh-tables-1.1.0.min.css\"];\n\n  var inline_js = [\n    function(Bokeh) {\n      Bokeh.set_log_level(\"info\");\n    },\n    \n    function(Bokeh) {\n      \n    },\n    function(Bokeh) {} // ensure no trailing comma for IE\n  ];\n\n  function run_inline_js() {\n    \n    if ((root.Bokeh !== undefined) || (force === true)) {\n      for (var i = 0; i < inline_js.length; i++) {\n        inline_js[i].call(root, root.Bokeh);\n      }if (force === true) {\n        display_loaded();\n      }} else if (Date.now() < root._bokeh_timeout) {\n      setTimeout(run_inline_js, 100);\n    } else if (!root._bokeh_failed_load) {\n      console.log(\"Bokeh: BokehJS failed to load within specified timeout.\");\n      root._bokeh_failed_load = true;\n    } else if (force !== true) {\n      var cell = $(document.getElementById(\"1191\")).parents('.cell').data().cell;\n      cell.output_area.append_execute_result(NB_LOAD_WARNING)\n    }\n\n  }\n\n  if (root._bokeh_is_loading === 0) {\n    console.debug(\"Bokeh: BokehJS loaded, going straight to plotting\");\n    run_inline_js();\n  } else {\n    load_libs(css_urls, js_urls, function() {\n      console.debug(\"Bokeh: BokehJS plotting callback run at\", now());\n      run_inline_js();\n    });\n  }\n}(window));"
     },
     "metadata": {},
     "output_type": "display_data"
    }
   ],
   "source": [
    "import astropy.units as u\n",
    "from astropy.io import fits\n",
    "from spectral_cube import SpectralCube\n",
    "from spectral_cube import BooleanArrayMask\n",
    "import matplotlib.pyplot as plt\n",
    "from bokeh.plotting import output_notebook, figure, show\n",
    "from bokeh.models import HoverTool, tools\n",
    "from bokeh.models import Span, Label, Arrow, NormalHead\n",
    "import numpy as np\n",
    "output_notebook()\n",
    "%matplotlib widget\n",
    "\n",
    "import warnings\n",
    "warnings.filterwarnings('ignore')"
   ]
  },
  {
   "cell_type": "code",
   "execution_count": 60,
   "metadata": {},
   "outputs": [],
   "source": [
    "cube1= SpectralCube.read('/home/mmarcano/Documents/ReduceMUSE2017/Observation1/data/DATACUBE_FINAL.fits',hdu=1)"
   ]
  },
  {
   "cell_type": "code",
   "execution_count": 61,
   "metadata": {},
   "outputs": [
    {
     "data": {
      "text/html": [
       "\n",
       "\n",
       "\n",
       "\n",
       "\n",
       "\n",
       "  <div class=\"bk-root\" id=\"42edd5f4-78b8-4a92-9d3a-a31b7dd8f8c1\" data-root-id=\"1192\"></div>\n"
      ]
     },
     "metadata": {},
     "output_type": "display_data"
    },
    {
     "data": {
      "application/javascript": [
       "(function(root) {\n",
       "  function embed_document(root) {\n",
       "    \n",
       "  var docs_json = {\"44e0e20f-bdcd-4de0-8fc5-5d5cd1d62a74\":{\"roots\":{\"references\":[{\"attributes\":{\"below\":[{\"id\":\"1203\",\"type\":\"LinearAxis\"}],\"center\":[{\"id\":\"1207\",\"type\":\"Grid\"},{\"id\":\"1212\",\"type\":\"Grid\"}],\"left\":[{\"id\":\"1208\",\"type\":\"LinearAxis\"}],\"plot_height\":500,\"plot_width\":900,\"renderers\":[{\"id\":\"1230\",\"type\":\"GlyphRenderer\"}],\"title\":{\"id\":\"1193\",\"type\":\"Title\"},\"toolbar\":{\"id\":\"1219\",\"type\":\"Toolbar\"},\"x_range\":{\"id\":\"1195\",\"type\":\"DataRange1d\"},\"x_scale\":{\"id\":\"1199\",\"type\":\"LinearScale\"},\"y_range\":{\"id\":\"1197\",\"type\":\"DataRange1d\"},\"y_scale\":{\"id\":\"1201\",\"type\":\"LinearScale\"}},\"id\":\"1192\",\"subtype\":\"Figure\",\"type\":\"Plot\"},{\"attributes\":{},\"id\":\"1204\",\"type\":\"BasicTicker\"},{\"attributes\":{},\"id\":\"1217\",\"type\":\"ResetTool\"},{\"attributes\":{\"formatter\":{\"id\":\"1247\",\"type\":\"BasicTickFormatter\"},\"ticker\":{\"id\":\"1204\",\"type\":\"BasicTicker\"}},\"id\":\"1203\",\"type\":\"LinearAxis\"},{\"attributes\":{\"bottom_units\":\"screen\",\"fill_alpha\":{\"value\":0.5},\"fill_color\":{\"value\":\"lightgrey\"},\"left_units\":\"screen\",\"level\":\"overlay\",\"line_alpha\":{\"value\":1.0},\"line_color\":{\"value\":\"black\"},\"line_dash\":[4,4],\"line_width\":{\"value\":2},\"render_mode\":\"css\",\"right_units\":\"screen\",\"top_units\":\"screen\"},\"id\":\"1251\",\"type\":\"BoxAnnotation\"},{\"attributes\":{\"line_color\":\"#1f77b4\",\"x\":{\"field\":\"x\"},\"y\":{\"field\":\"y\"}},\"id\":\"1228\",\"type\":\"Line\"},{\"attributes\":{\"callback\":null,\"tooltips\":[[\"(x,y)\",\"($x{1}, $y)\"]]},\"id\":\"1226\",\"type\":\"HoverTool\"},{\"attributes\":{\"callback\":null},\"id\":\"1197\",\"type\":\"DataRange1d\"},{\"attributes\":{},\"id\":\"1209\",\"type\":\"BasicTicker\"},{\"attributes\":{},\"id\":\"1199\",\"type\":\"LinearScale\"},{\"attributes\":{\"data_source\":{\"id\":\"1227\",\"type\":\"ColumnDataSource\"},\"glyph\":{\"id\":\"1228\",\"type\":\"Line\"},\"hover_glyph\":null,\"muted_glyph\":null,\"nonselection_glyph\":{\"id\":\"1229\",\"type\":\"Line\"},\"selection_glyph\":null,\"view\":{\"id\":\"1231\",\"type\":\"CDSView\"}},\"id\":\"1230\",\"type\":\"GlyphRenderer\"},{\"attributes\":{\"overlay\":{\"id\":\"1251\",\"type\":\"BoxAnnotation\"}},\"id\":\"1215\",\"type\":\"BoxZoomTool\"},{\"attributes\":{\"formatter\":{\"id\":\"1245\",\"type\":\"BasicTickFormatter\"},\"ticker\":{\"id\":\"1209\",\"type\":\"BasicTicker\"}},\"id\":\"1208\",\"type\":\"LinearAxis\"},{\"attributes\":{\"text\":\"U18\"},\"id\":\"1193\",\"type\":\"Title\"},{\"attributes\":{},\"id\":\"1245\",\"type\":\"BasicTickFormatter\"},{\"attributes\":{},\"id\":\"1249\",\"type\":\"UnionRenderers\"},{\"attributes\":{},\"id\":\"1218\",\"type\":\"HelpTool\"},{\"attributes\":{\"active_drag\":{\"id\":\"1213\",\"type\":\"PanTool\"},\"active_inspect\":\"auto\",\"active_multi\":null,\"active_scroll\":{\"id\":\"1214\",\"type\":\"WheelZoomTool\"},\"active_tap\":\"auto\",\"tools\":[{\"id\":\"1213\",\"type\":\"PanTool\"},{\"id\":\"1214\",\"type\":\"WheelZoomTool\"},{\"id\":\"1215\",\"type\":\"BoxZoomTool\"},{\"id\":\"1216\",\"type\":\"SaveTool\"},{\"id\":\"1217\",\"type\":\"ResetTool\"},{\"id\":\"1218\",\"type\":\"HelpTool\"},{\"id\":\"1226\",\"type\":\"HoverTool\"}]},\"id\":\"1219\",\"type\":\"Toolbar\"},{\"attributes\":{\"callback\":null,\"data\":{\"x\":{\"__ndarray__\":\"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\",\"dtype\":\"float64\",\"shape\":[3681]},\"y\":{\"__ndarray__\":\"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\",\"dtype\":\"float32\",\"shape\":[3681]}},\"selected\":{\"id\":\"1250\",\"type\":\"Selection\"},\"selection_policy\":{\"id\":\"1249\",\"type\":\"UnionRenderers\"}},\"id\":\"1227\",\"type\":\"ColumnDataSource\"},{\"attributes\":{\"callback\":null},\"id\":\"1195\",\"type\":\"DataRange1d\"},{\"attributes\":{},\"id\":\"1250\",\"type\":\"Selection\"},{\"attributes\":{\"source\":{\"id\":\"1227\",\"type\":\"ColumnDataSource\"}},\"id\":\"1231\",\"type\":\"CDSView\"},{\"attributes\":{\"line_alpha\":0.1,\"line_color\":\"#1f77b4\",\"x\":{\"field\":\"x\"},\"y\":{\"field\":\"y\"}},\"id\":\"1229\",\"type\":\"Line\"},{\"attributes\":{},\"id\":\"1247\",\"type\":\"BasicTickFormatter\"},{\"attributes\":{},\"id\":\"1213\",\"type\":\"PanTool\"},{\"attributes\":{},\"id\":\"1214\",\"type\":\"WheelZoomTool\"},{\"attributes\":{\"ticker\":{\"id\":\"1204\",\"type\":\"BasicTicker\"}},\"id\":\"1207\",\"type\":\"Grid\"},{\"attributes\":{},\"id\":\"1201\",\"type\":\"LinearScale\"},{\"attributes\":{},\"id\":\"1216\",\"type\":\"SaveTool\"},{\"attributes\":{\"dimension\":1,\"ticker\":{\"id\":\"1209\",\"type\":\"BasicTicker\"}},\"id\":\"1212\",\"type\":\"Grid\"}],\"root_ids\":[\"1192\"]},\"title\":\"Bokeh Application\",\"version\":\"1.1.0\"}};\n",
       "  var render_items = [{\"docid\":\"44e0e20f-bdcd-4de0-8fc5-5d5cd1d62a74\",\"roots\":{\"1192\":\"42edd5f4-78b8-4a92-9d3a-a31b7dd8f8c1\"}}];\n",
       "  root.Bokeh.embed.embed_items_notebook(docs_json, render_items);\n",
       "\n",
       "  }\n",
       "  if (root.Bokeh !== undefined) {\n",
       "    embed_document(root);\n",
       "  } else {\n",
       "    var attempts = 0;\n",
       "    var timer = setInterval(function(root) {\n",
       "      if (root.Bokeh !== undefined) {\n",
       "        embed_document(root);\n",
       "        clearInterval(timer);\n",
       "      }\n",
       "      attempts++;\n",
       "      if (attempts > 100) {\n",
       "        console.log(\"Bokeh: ERROR: Unable to run BokehJS code because BokehJS library is missing\");\n",
       "        clearInterval(timer);\n",
       "      }\n",
       "    }, 10, root)\n",
       "  }\n",
       "})(window);"
      ],
      "application/vnd.bokehjs_exec.v0+json": ""
     },
     "metadata": {
      "application/vnd.bokehjs_exec.v0+json": {
       "id": "1192"
      }
     },
     "output_type": "display_data"
    }
   ],
   "source": [
    "ds9_str = 'fk5; circle(17:40:42.0058,-53:40:25.217,0.200\") # color=white text={U18}' \n",
    "subcube = cube1.subcube_from_ds9region(ds9_str)  \n",
    "spectrum = subcube.mean(axis=(1, 2)) \n",
    "\n",
    "# create a new plot\n",
    "p = figure(plot_width=900, plot_height=500, title=\"U18\",active_drag='pan', active_scroll='wheel_zoom')\n",
    "\n",
    "#Tool to get wavelength\n",
    "hover2 = HoverTool(\n",
    "        tooltips=[\n",
    "            (\"(x,y)\", \"($x{1}, $y)\"),\n",
    "        ]\n",
    "    )\n",
    "\n",
    "\n",
    "#plot Lines\n",
    "\n",
    "\n",
    "##Emission Lines\n",
    "class line(object):\n",
    "    def __init__(self,name):\n",
    "        self.name = name\n",
    "\n",
    "\n",
    "# add some renderers\n",
    "p.line(cube1.spectral_axis,spectrum)\n",
    "\n",
    "\n",
    "\n",
    "diclines = {line('H'+u\"\\u03B1\"):6563}\n",
    "\n",
    "x = np.array(cube1.spectral_axis)\n",
    "y = np.array(spectrum)\n",
    "for name, xloc in diclines.items():\n",
    "    yloc = y[np.where(abs(xloc - x) < 2)[0][0]]\n",
    "    span = Arrow(end=NormalHead(fill_color='orange', size=10),\n",
    "             x_start=xloc, y_start = yloc - 3005, x_end = xloc, y_end= yloc-.03\n",
    "            )\n",
    "    #p.add_layout(span)\n",
    "    #my_label = Label(x=xloc, y=yloc-3000, text=name.name)\n",
    "    #p.add_layout(my_label)\n",
    "\n",
    "\n",
    "\n",
    "\n",
    "\n",
    "p.add_tools(hover2)\n",
    "show(p)"
   ]
  },
  {
   "cell_type": "code",
   "execution_count": 90,
   "metadata": {},
   "outputs": [
    {
     "ename": "SyntaxError",
     "evalue": "invalid syntax (<ipython-input-90-7a7ab2372684>, line 19)",
     "output_type": "error",
     "traceback": [
      "\u001b[0;36m  File \u001b[0;32m\"<ipython-input-90-7a7ab2372684>\"\u001b[0;36m, line \u001b[0;32m19\u001b[0m\n\u001b[0;31m    sp = pyspeckit.Spectrum(data=)\u001b[0m\n\u001b[0m                                 ^\u001b[0m\n\u001b[0;31mSyntaxError\u001b[0m\u001b[0;31m:\u001b[0m invalid syntax\n"
     ]
    }
   ],
   "source": [
    "from astropy import modeling\n",
    "import pyspeckit as ps\n",
    "from astropy import units as u\n",
    "%matplotlib widget\n",
    "\n",
    "\n",
    "fitter = modeling.fitting.LevMarLSQFitter()\n",
    "model = modeling.models.Gaussian1D()   # depending on the data you need to give some initial values\n",
    "\n",
    "\n",
    "#per = 1/freq\n",
    "#persmall = per[np.argmax(PLS)-25:np.argmax(PLS)+25]\n",
    "#PLSsmall = PLS[np.argmax(PLS)-25:np.argmax(PLS)+25]\n",
    "\n",
    "\n",
    "fitter = modeling.fitting.LevMarLSQFitter()\n",
    "model = modeling.models.Gaussian1D(amplitude=4500, mean=6563.0)   # depending on the data you need to give some initial values\n",
    "\n",
    "sp = pyspeckit.Spectrum(data=)\n",
    "\n",
    "#per = 1/freq\n",
    "wavel = np.array(cube1.spectral_axis)\n",
    "flux = np.array(spectrum)\n",
    "\n",
    "limit = np.where(np.logical_and(wavel > 6550, wavel < 6575))\n",
    "\n",
    "persmall = wavel[limit[0]]\n",
    "PLSsmall = flux[limit[0]]\n",
    "\n",
    "fitted_model = fitter(model, persmall, PLSsmall)\n",
    "\n",
    "\n",
    "\n",
    "plt.plot(persmall,PLSsmall)\n",
    "plt.plot(persmall, fitted_model(persmall))\n",
    "plt.show()\n",
    "print(fitted_model.mean,fitted_model.stddev)"
   ]
  },
  {
   "cell_type": "code",
   "execution_count": 127,
   "metadata": {},
   "outputs": [
    {
     "name": "stdout",
     "output_type": "stream",
     "text": [
      "INFO: Left region selection unchanged.  xminpix, xmaxpix: 0,3681 [pyspeckit.spectrum.interactive]\n"
     ]
    },
    {
     "data": {
      "application/vnd.jupyter.widget-view+json": {
       "model_id": "b8a38dcb85724760a126f274eff2e8e0",
       "version_major": 2,
       "version_minor": 0
      },
      "text/plain": [
       "FigureCanvasNbAgg()"
      ]
     },
     "metadata": {},
     "output_type": "display_data"
    }
   ],
   "source": [
    "\n",
    "sp = ps.Spectrum(data=flux, xarr=wavel*u.AA)\n",
    "sp.crop(6400., 7000, unit='angstrom') \n",
    "sp.baseline(xmin=6000, xmax=7000,exclude=[6520,6600,6660,6700],order=2,subtract=True)\n",
    "sp.specfit(guesses=[300.,6564.,10.], \n",
    "             fittype='gaussian', show_components=True, annotate =True)\n",
    "\n",
    "sp.plotter()\n",
    "sp.specfit.plot_fit()"
   ]
  },
  {
   "cell_type": "code",
   "execution_count": 128,
   "metadata": {},
   "outputs": [
    {
     "name": "stdout",
     "output_type": "stream",
     "text": [
      "INFO: Left region selection unchanged.  xminpix, xmaxpix: 0,3680 [pyspeckit.spectrum.interactive]\n"
     ]
    },
    {
     "data": {
      "application/vnd.jupyter.widget-view+json": {
       "model_id": "d50b129b53d741d9bce2873576a36b4e",
       "version_major": 2,
       "version_minor": 0
      },
      "text/plain": [
       "FigureCanvasNbAgg()"
      ]
     },
     "metadata": {},
     "output_type": "display_data"
    }
   ],
   "source": [
    "sp2 = ps.Spectrum('ngc6397id000005596jd2456865p5826f000.fits')\n",
    "\n",
    "sp2.crop(6400., 7000, unit='angstrom') \n",
    "sp2.baseline(xmin=6000, xmax=7000,exclude=[6520,6600,6660,6700],order=2,subtract=True)\n",
    "sp2.specfit(guesses=[300.,6564.,10.], \n",
    "             fittype='gaussian', show_components=True, annotate =True)\n",
    "\n",
    "sp2.plotter()\n",
    "sp2.specfit.plot_fit()"
   ]
  },
  {
   "cell_type": "code",
   "execution_count": 129,
   "metadata": {},
   "outputs": [
    {
     "name": "stdout",
     "output_type": "stream",
     "text": [
      "INFO: Left region selection unchanged.  xminpix, xmaxpix: 0,3681 [pyspeckit.spectrum.interactive]\n"
     ]
    },
    {
     "data": {
      "application/vnd.jupyter.widget-view+json": {
       "model_id": "7c28856b415a423599ecf7df0ef5706a",
       "version_major": 2,
       "version_minor": 0
      },
      "text/plain": [
       "FigureCanvasNbAgg()"
      ]
     },
     "metadata": {},
     "output_type": "display_data"
    }
   ],
   "source": [
    "sp3 = ps.Spectrum('ngc6397id000005596jd2456866p4985f000.fits')\n",
    "\n",
    "sp3 = ps.Spectrum(data=flux, xarr=wavel*u.AA)\n",
    "sp3.crop(6400., 7000, unit='angstrom') \n",
    "sp3.baseline(xmin=6000, xmax=7000,exclude=[6520,6600,6660,6700],order=2,subtract=True)\n",
    "sp3.specfit(guesses=[300.,6564.,10.], \n",
    "             fittype='gaussian', show_components=True, annotate =True)\n",
    "\n",
    "sp3.plotter()\n",
    "sp3.specfit.plot_fit()"
   ]
  },
  {
   "cell_type": "code",
   "execution_count": 120,
   "metadata": {},
   "outputs": [
    {
     "data": {
      "text/plain": [
       "-96.81596317221698"
      ]
     },
     "execution_count": 120,
     "metadata": {},
     "output_type": "execute_result"
    }
   ],
   "source": [
    "299792 * (6561.92-6564.04)/(6564.61)"
   ]
  },
  {
   "cell_type": "code",
   "execution_count": null,
   "metadata": {},
   "outputs": [],
   "source": []
  },
  {
   "cell_type": "code",
   "execution_count": null,
   "metadata": {},
   "outputs": [],
   "source": []
  },
  {
   "cell_type": "code",
   "execution_count": 78,
   "metadata": {},
   "outputs": [],
   "source": [
    "xaxis = np.linspace(-50,150,100.) * u.km/u.s\n",
    "sigma = 10. * u.km/u.s\n",
    "center = 50. * u.km/u.s\n",
    "synth_data = np.exp(-(xaxis-center)**2/(sigma**2 * 2.))\n",
    "\n",
    "# Add noise\n",
    "stddev = 0.1\n",
    "noise = np.random.randn(xaxis.size)*stddev\n",
    "error = stddev*np.ones_like(synth_data)\n",
    "data = noise+synth_data"
   ]
  },
  {
   "cell_type": "code",
   "execution_count": 79,
   "metadata": {},
   "outputs": [
    {
     "data": {
      "text/latex": [
       "$[0.080224248,~-0.29100346,~0.00085579669,~-0.088907441,~0.026938437,~-0.061980234,~-0.062896892,~-0.02899071,~0.012973029,~0.085636081,~0.11036368,~-0.00054723756,~0.1996985,~0.089691886,~0.16776089,~-0.017112216,~-0.074516509,~0.14476182,~-0.009033084,~-0.089100493,~-0.13746791,~0.077748382,~-0.042619719,~0.040518394,~-0.11115254,~-0.076155325,~-0.01115834,~-0.0034768486,~0.087601453,~-0.10966591,~0.12480932,~0.0278716,~-0.14347365,~-0.083224414,~0.12273986,~-0.029344746,~-0.090485409,~-0.089356923,~0.19922294,~0.22532539,~0.01305887,~0.06640656,~0.22957725,~0.49748624,~0.5943063,~0.64150943,~0.80924837,~0.78895755,~0.97636647,~1.057168,~0.85089641,~0.8618911,~0.95793795,~0.81860633,~0.68847349,~0.5695395,~0.40748877,~0.33480933,~0.32879561,~0.2040004,~0.057350993,~0.057697055,~0.076687171,~0.18513754,~-0.056541167,~0.024476642,~-0.36860634,~-0.04905531,~-0.21088807,~-0.13383526,~-0.1469638,~0.10089857,~0.020768367,~0.051470402,~0.034399328,~0.011867093,~0.024261932,~-0.10293845,~-0.0023807313,~-0.13372489,~0.10739441,~-0.046414043,~-0.10386574,~0.036781493,~-0.050681186,~0.18257869,~0.0064456129,~-0.074259458,~-0.019361924,~-0.01362974,~0.11498273,~0.063754274,~0.19923165,~0.084985528,~0.081762744,~0.039665811,~-0.0074914542,~0.16912504,~0.09751574,~0.14806341] \\; \\mathrm{}$"
      ],
      "text/plain": [
       "<Quantity [ 8.02242485e-02, -2.91003461e-01,  8.55796686e-04,\n",
       "           -8.89074410e-02,  2.69384366e-02, -6.19802342e-02,\n",
       "           -6.28968919e-02, -2.89907096e-02,  1.29730295e-02,\n",
       "            8.56360810e-02,  1.10363684e-01, -5.47237564e-04,\n",
       "            1.99698497e-01,  8.96918855e-02,  1.67760893e-01,\n",
       "           -1.71122162e-02, -7.45165093e-02,  1.44761816e-01,\n",
       "           -9.03308395e-03, -8.91004927e-02, -1.37467913e-01,\n",
       "            7.77483815e-02, -4.26197188e-02,  4.05183942e-02,\n",
       "           -1.11152541e-01, -7.61553253e-02, -1.11583402e-02,\n",
       "           -3.47684856e-03,  8.76014534e-02, -1.09665910e-01,\n",
       "            1.24809317e-01,  2.78715996e-02, -1.43473650e-01,\n",
       "           -8.32244142e-02,  1.22739858e-01, -2.93447461e-02,\n",
       "           -9.04854091e-02, -8.93569234e-02,  1.99222941e-01,\n",
       "            2.25325389e-01,  1.30588702e-02,  6.64065600e-02,\n",
       "            2.29577254e-01,  4.97486238e-01,  5.94306296e-01,\n",
       "            6.41509428e-01,  8.09248370e-01,  7.88957548e-01,\n",
       "            9.76366472e-01,  1.05716795e+00,  8.50896414e-01,\n",
       "            8.61891096e-01,  9.57937949e-01,  8.18606325e-01,\n",
       "            6.88473491e-01,  5.69539496e-01,  4.07488771e-01,\n",
       "            3.34809329e-01,  3.28795606e-01,  2.04000396e-01,\n",
       "            5.73509930e-02,  5.76970546e-02,  7.66871705e-02,\n",
       "            1.85137540e-01, -5.65411673e-02,  2.44766418e-02,\n",
       "           -3.68606336e-01, -4.90553099e-02, -2.10888065e-01,\n",
       "           -1.33835264e-01, -1.46963801e-01,  1.00898570e-01,\n",
       "            2.07683668e-02,  5.14704019e-02,  3.43993276e-02,\n",
       "            1.18670935e-02,  2.42619320e-02, -1.02938446e-01,\n",
       "           -2.38073130e-03, -1.33724892e-01,  1.07394406e-01,\n",
       "           -4.64140427e-02, -1.03865737e-01,  3.67814929e-02,\n",
       "           -5.06811862e-02,  1.82578693e-01,  6.44561295e-03,\n",
       "           -7.42594581e-02, -1.93619242e-02, -1.36297398e-02,\n",
       "            1.14982731e-01,  6.37542740e-02,  1.99231647e-01,\n",
       "            8.49855285e-02,  8.17627442e-02,  3.96658110e-02,\n",
       "           -7.49145420e-03,  1.69125035e-01,  9.75157397e-02,\n",
       "            1.48063413e-01]>"
      ]
     },
     "execution_count": 79,
     "metadata": {},
     "output_type": "execute_result"
    }
   ],
   "source": [
    "data"
   ]
  },
  {
   "cell_type": "code",
   "execution_count": 68,
   "metadata": {},
   "outputs": [
    {
     "data": {
      "text/plain": [
       "(array([   0,    1,    2, ..., 1445, 1446, 1447]),)"
      ]
     },
     "execution_count": 68,
     "metadata": {},
     "output_type": "execute_result"
    }
   ],
   "source": [
    "limit"
   ]
  },
  {
   "cell_type": "code",
   "execution_count": 70,
   "metadata": {},
   "outputs": [
    {
     "data": {
      "text/plain": [
       "(array([1448, 1449, 1450, 1451, 1452, 1453, 1454, 1455]),)"
      ]
     },
     "execution_count": 70,
     "metadata": {},
     "output_type": "execute_result"
    }
   ],
   "source": []
  },
  {
   "cell_type": "code",
   "execution_count": null,
   "metadata": {},
   "outputs": [],
   "source": []
  }
 ],
 "metadata": {
  "kernelspec": {
   "display_name": "Python 3",
   "language": "python",
   "name": "python3"
  },
  "language_info": {
   "codemirror_mode": {
    "name": "ipython",
    "version": 3
   },
   "file_extension": ".py",
   "mimetype": "text/x-python",
   "name": "python",
   "nbconvert_exporter": "python",
   "pygments_lexer": "ipython3",
   "version": "3.7.3"
  }
 },
 "nbformat": 4,
 "nbformat_minor": 4
}
