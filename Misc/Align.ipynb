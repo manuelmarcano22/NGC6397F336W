{
 "cells": [
  {
   "cell_type": "code",
   "execution_count": 36,
   "metadata": {},
   "outputs": [],
   "source": [
    "from astropy.io import fits\n",
    "from mpdaf.obj import Image, WCS, Cube\n",
    "import os, glob\n"
   ]
  },
  {
   "cell_type": "code",
   "execution_count": 37,
   "metadata": {},
   "outputs": [],
   "source": [
    "#Pick a image as guide\n",
    "#datafolder = 'data/'\n",
    "imageone = 'imageone_drz.fits'"
   ]
  },
  {
   "cell_type": "code",
   "execution_count": 38,
   "metadata": {},
   "outputs": [],
   "source": [
    "listofdrz = glob.glob('data/*drz.fits')\n"
   ]
  },
  {
   "cell_type": "code",
   "execution_count": 39,
   "metadata": {},
   "outputs": [
    {
     "name": "stderr",
     "output_type": "stream",
     "text": [
      "WARNING: MpdafUnitsWarning: Error parsing the BUNIT: 'COUNTS/S' did not parse as unit: At col 0, COUNTS is not a valid unit. Did you mean count? [mpdaf.obj.data]\n",
      "WARNING: AstropyDeprecationWarning: \n",
      "Private attributes \"_naxis1\" and \"_naxis2\" have been deprecated since v3.1.\n",
      "Instead use the \"pixel_shape\" property which returns a list of NAXISj keyword values.\n",
      " [astropy.wcs.wcs]\n",
      "WARNING: AstropyDeprecationWarning: \n",
      "Private attributes \"_naxis1\" and \"_naxis2\" have been deprecated since v3.1.\n",
      "Instead use the \"pixel_shape\" property which returns a list of NAXISj keyword values.\n",
      " [astropy.wcs.wcs]\n",
      "WARNING: AstropyDeprecationWarning: \n",
      "Private attributes \"_naxis1\" and \"_naxis2\" have been deprecated since v3.1.\n",
      "Instead use the \"pixel_shape\" property which returns a list of NAXISj keyword values.\n",
      " [astropy.wcs.wcs]\n",
      "WARNING: AstropyDeprecationWarning: \n",
      "Private attributes \"_naxis1\" and \"_naxis2\" have been deprecated since v3.1.\n",
      "Instead use the \"pixel_shape\" property which returns a list of NAXISj keyword values.\n",
      " [astropy.wcs.wcs]\n",
      "[INFO] Shifted the coordinates by dy=0.00129 dx=0.00781 arcsec\n",
      "[INFO] Shifted the coordinates by dy=0.193 dx=0.599 arcsec\n",
      "[INFO] Shifted the coordinates by dy=-0.167 dx=0.217 arcsec\n",
      "[INFO] Shifted the coordinates by dy=0.491 dx=0.597 arcsec\n",
      "[INFO] Shifted the coordinates by dy=0.00233 dx=0.00215 arcsec\n",
      "[INFO] Shifted the coordinates by dy=-0.334 dx=0.0444 arcsec\n",
      "[INFO] Shifted the coordinates by dy=-0.346 dx=0.0482 arcsec\n",
      "[INFO] Shifted the coordinates by dy=-0.173 dx=0.217 arcsec\n",
      "[INFO] Shifted the coordinates by dy=0.194 dx=0.201 arcsec\n",
      "[INFO] Shifted the coordinates by dy=-0.000816 dx=0.00346 arcsec\n",
      "[INFO] Shifted the coordinates by dy=0.197 dx=0.194 arcsec\n",
      "[INFO] Shifted the coordinates by dy=-0.0126 dx=0.389 arcsec\n",
      "[INFO] Shifted the coordinates by dy=0.187 dx=0.196 arcsec\n",
      "[INFO] Shifted the coordinates by dy=-0.169 dx=0.221 arcsec\n",
      "[INFO] Shifted the coordinates by dy=0.19 dx=0.592 arcsec\n",
      "[INFO] Shifted the coordinates by dy=0.0123 dx=-0.00193 arcsec\n",
      "[INFO] Shifted the coordinates by dy=0.345 dx=0.763 arcsec\n",
      "[INFO] Shifted the coordinates by dy=-0.172 dx=-0.194 arcsec\n",
      "[INFO] Shifted the coordinates by dy=-0.167 dx=-0.186 arcsec\n",
      "[INFO] Shifted the coordinates by dy=-0.0217 dx=0.39 arcsec\n",
      "[INFO] Shifted the coordinates by dy=-0.176 dx=-0.191 arcsec\n",
      "[INFO] Shifted the coordinates by dy=0.192 dx=0.202 arcsec\n",
      "[INFO] Shifted the coordinates by dy=0.00272 dx=0.00794 arcsec\n",
      "[INFO] Shifted the coordinates by dy=0.184 dx=0.6 arcsec\n",
      "[INFO] Shifted the coordinates by dy=-0.0197 dx=0.388 arcsec\n",
      "[INFO] Shifted the coordinates by dy=-1.4 dx=-1.49 arcsec\n",
      "[INFO] Shifted the coordinates by dy=0.363 dx=0.398 arcsec\n",
      "[INFO] Shifted the coordinates by dy=-0.164 dx=-0.187 arcsec\n",
      "[INFO] Shifted the coordinates by dy=-0.336 dx=0.0529 arcsec\n",
      "[INFO] Shifted the coordinates by dy=-0.0101 dx=0.39 arcsec\n",
      "[INFO] Shifted the coordinates by dy=0.491 dx=0.589 arcsec\n",
      "[INFO] Shifted the coordinates by dy=-0.177 dx=0.214 arcsec\n",
      "[INFO] Shifted the coordinates by dy=-1.78 dx=-1.49 arcsec\n",
      "[INFO] Shifted the coordinates by dy=0.179 dx=0.198 arcsec\n",
      "[INFO] Shifted the coordinates by dy=-0.327 dx=0.0466 arcsec\n",
      "[INFO] Shifted the coordinates by dy=0.484 dx=0.59 arcsec\n",
      "[INFO] Shifted the coordinates by dy=-0.165 dx=-0.189 arcsec\n",
      "[INFO] Shifted the coordinates by dy=-0.0145 dx=0.389 arcsec\n",
      "[INFO] Shifted the coordinates by dy=0.488 dx=0.592 arcsec\n",
      "[INFO] Shifted the coordinates by dy=0.00499 dx=0.00336 arcsec\n",
      "[INFO] Shifted the coordinates by dy=-0.333 dx=0.0571 arcsec\n",
      "[INFO] Shifted the coordinates by dy=0.351 dx=0.396 arcsec\n",
      "[INFO] Shifted the coordinates by dy=0.36 dx=0.399 arcsec\n",
      "[INFO] Shifted the coordinates by dy=-0.174 dx=-0.194 arcsec\n",
      "[INFO] Shifted the coordinates by dy=0.338 dx=0.768 arcsec\n",
      "[INFO] Shifted the coordinates by dy=-0.00114 dx=0.00818 arcsec\n",
      "[INFO] Shifted the coordinates by dy=0.499 dx=0.596 arcsec\n",
      "[INFO] Shifted the coordinates by dy=0.193 dx=0.2 arcsec\n",
      "[INFO] Shifted the coordinates by dy=-1.75 dx=-1.88 arcsec\n",
      "[INFO] Shifted the coordinates by dy=-0.174 dx=-0.195 arcsec\n",
      "[INFO] Shifted the coordinates by dy=0.194 dx=0.597 arcsec\n",
      "[INFO] Shifted the coordinates by dy=0.194 dx=0.201 arcsec\n",
      "[INFO] Shifted the coordinates by dy=-0.0191 dx=0.386 arcsec\n",
      "[INFO] Shifted the coordinates by dy=0.494 dx=0.593 arcsec\n",
      "[INFO] Shifted the coordinates by dy=-0.166 dx=0.219 arcsec\n",
      "[INFO] Shifted the coordinates by dy=0.00478 dx=0.00473 arcsec\n",
      "[INFO] Shifted the coordinates by dy=-0.00229 dx=0.0034 arcsec\n",
      "[INFO] Shifted the coordinates by dy=-0.171 dx=-0.19 arcsec\n",
      "[INFO] Shifted the coordinates by dy=0.00143 dx=0.00689 arcsec\n",
      "[INFO] Shifted the coordinates by dy=-0.179 dx=0.212 arcsec\n",
      "[INFO] Shifted the coordinates by dy=0.000228 dx=0.00185 arcsec\n",
      "[INFO] Shifted the coordinates by dy=0.196 dx=0.597 arcsec\n",
      "[INFO] Shifted the coordinates by dy=0.00519 dx=-0.00157 arcsec\n",
      "[INFO] Shifted the coordinates by dy=0.00621 dx=-0.00302 arcsec\n",
      "[INFO] Shifted the coordinates by dy=0.492 dx=0.586 arcsec\n",
      "[INFO] Shifted the coordinates by dy=0.185 dx=0.599 arcsec\n",
      "[INFO] Shifted the coordinates by dy=-0.321 dx=0.0348 arcsec\n",
      "[INFO] Shifted the coordinates by dy=0.486 dx=0.584 arcsec\n",
      "[INFO] Shifted the coordinates by dy=-0.17 dx=-0.192 arcsec\n",
      "[INFO] Shifted the coordinates by dy=-2.1 dx=-1.83 arcsec\n",
      "[INFO] Shifted the coordinates by dy=0.00117 dx=0.00892 arcsec\n",
      "[INFO] Shifted the coordinates by dy=0.346 dx=0.76 arcsec\n",
      "[INFO] Shifted the coordinates by dy=-0.0147 dx=0.39 arcsec\n",
      "[INFO] Shifted the coordinates by dy=0.00488 dx=0.0129 arcsec\n",
      "[INFO] Shifted the coordinates by dy=-0.332 dx=0.0472 arcsec\n",
      "[INFO] Shifted the coordinates by dy=0.371 dx=0.388 arcsec\n",
      "[INFO] Shifted the coordinates by dy=0.184 dx=0.593 arcsec\n",
      "[INFO] Shifted the coordinates by dy=0.357 dx=0.396 arcsec\n",
      "[INFO] Shifted the coordinates by dy=0.359 dx=0.398 arcsec\n",
      "[INFO] Shifted the coordinates by dy=-0.151 dx=-0.196 arcsec\n",
      "[INFO] Shifted the coordinates by dy=-1.92 dx=-2.08 arcsec\n",
      "[INFO] Shifted the coordinates by dy=-0.158 dx=-0.199 arcsec\n",
      "[INFO] Shifted the coordinates by dy=0.183 dx=0.2 arcsec\n",
      "[INFO] Shifted the coordinates by dy=-0.0119 dx=0.392 arcsec\n",
      "[INFO] Shifted the coordinates by dy=-0.342 dx=0.05 arcsec\n",
      "[INFO] Shifted the coordinates by dy=-0.168 dx=-0.187 arcsec\n",
      "[INFO] Shifted the coordinates by dy=-0.175 dx=-0.191 arcsec\n",
      "[INFO] Shifted the coordinates by dy=0.338 dx=0.766 arcsec\n",
      "[INFO] Shifted the coordinates by dy=-0.171 dx=-0.19 arcsec\n",
      "[INFO] Shifted the coordinates by dy=0.489 dx=0.588 arcsec\n",
      "[INFO] Shifted the coordinates by dy=0.195 dx=0.596 arcsec\n",
      "[INFO] Shifted the coordinates by dy=0.341 dx=0.764 arcsec\n",
      "[INFO] Shifted the coordinates by dy=0.191 dx=0.599 arcsec\n",
      "[INFO] Shifted the coordinates by dy=-0.166 dx=-0.188 arcsec\n",
      "[INFO] Shifted the coordinates by dy=-0.177 dx=0.216 arcsec\n",
      "[INFO] Shifted the coordinates by dy=-0.00379 dx=0.00494 arcsec\n",
      "[INFO] Shifted the coordinates by dy=-0.168 dx=-0.188 arcsec\n",
      "[INFO] Shifted the coordinates by dy=0.365 dx=0.396 arcsec\n",
      "[INFO] Shifted the coordinates by dy=-0.173 dx=0.23 arcsec\n",
      "[INFO] Shifted the coordinates by dy=0.489 dx=0.585 arcsec\n",
      "[INFO] Shifted the coordinates by dy=0.337 dx=0.767 arcsec\n",
      "[INFO] Shifted the coordinates by dy=0.00374 dx=0.0108 arcsec\n",
      "[INFO] Shifted the coordinates by dy=0.341 dx=0.762 arcsec\n",
      "[INFO] Shifted the coordinates by dy=-0.175 dx=-0.193 arcsec\n",
      "[INFO] Shifted the coordinates by dy=0.199 dx=0.187 arcsec\n",
      "[INFO] Shifted the coordinates by dy=-0.334 dx=0.0564 arcsec\n",
      "[INFO] Shifted the coordinates by dy=-0.168 dx=-0.19 arcsec\n",
      "[INFO] Shifted the coordinates by dy=-0.165 dx=-0.194 arcsec\n",
      "[INFO] Shifted the coordinates by dy=-0.00488 dx=0.385 arcsec\n",
      "[INFO] Shifted the coordinates by dy=0.352 dx=0.742 arcsec\n",
      "[INFO] Shifted the coordinates by dy=-0.169 dx=-0.189 arcsec\n",
      "[INFO] Shifted the coordinates by dy=0.36 dx=0.398 arcsec\n",
      "[INFO] Shifted the coordinates by dy=0.501 dx=0.595 arcsec\n",
      "[INFO] Shifted the coordinates by dy=0.356 dx=0.395 arcsec\n",
      "[INFO] Shifted the coordinates by dy=-0.182 dx=0.219 arcsec\n",
      "[INFO] Shifted the coordinates by dy=0.00334 dx=0.00765 arcsec\n",
      "[INFO] Shifted the coordinates by dy=-0.178 dx=0.222 arcsec\n",
      "[INFO] Shifted the coordinates by dy=-0.00116 dx=0.00813 arcsec\n",
      "[INFO] Shifted the coordinates by dy=0.335 dx=0.758 arcsec\n",
      "[INFO] Shifted the coordinates by dy=-0.182 dx=0.214 arcsec\n",
      "[INFO] Shifted the coordinates by dy=0.186 dx=0.602 arcsec\n",
      "[INFO] Shifted the coordinates by dy=0.188 dx=0.198 arcsec\n",
      "[INFO] Shifted the coordinates by dy=-0.165 dx=-0.19 arcsec\n",
      "[INFO] Shifted the coordinates by dy=0.193 dx=0.599 arcsec\n",
      "[INFO] Shifted the coordinates by dy=0.351 dx=0.759 arcsec\n"
     ]
    }
   ],
   "source": [
    "imahst = Image(imageone)\n",
    "\n",
    "for image in listofdrz:\n",
    "    \n",
    "    ### get offset between MUSE and HST ###\n",
    "    #cont = Image('CousingI.fits')\n",
    "    cont = Image(image)\n",
    "    ima2hst = cont.adjust_coordinates(imahst)\n",
    "\n"
   ]
  },
  {
   "cell_type": "code",
   "execution_count": 27,
   "metadata": {},
   "outputs": [
    {
     "data": {
      "text/plain": [
       "'data/9710103m_drz.fits'"
      ]
     },
     "execution_count": 27,
     "metadata": {},
     "output_type": "execute_result"
    }
   ],
   "source": [
    "imageone"
   ]
  },
  {
   "cell_type": "code",
   "execution_count": 33,
   "metadata": {},
   "outputs": [
    {
     "data": {
      "text/plain": [
       "'data/u971200fm_drz.fits'"
      ]
     },
     "execution_count": 33,
     "metadata": {},
     "output_type": "execute_result"
    }
   ],
   "source": [
    "listofdrz[0]"
   ]
  },
  {
   "cell_type": "code",
   "execution_count": null,
   "metadata": {},
   "outputs": [],
   "source": []
  }
 ],
 "metadata": {
  "kernelspec": {
   "display_name": "Python 2",
   "language": "python",
   "name": "python2"
  },
  "language_info": {
   "codemirror_mode": {
    "name": "ipython",
    "version": 2
   },
   "file_extension": ".py",
   "mimetype": "text/x-python",
   "name": "python",
   "nbconvert_exporter": "python",
   "pygments_lexer": "ipython2",
   "version": "2.7.16"
  }
 },
 "nbformat": 4,
 "nbformat_minor": 2
}
