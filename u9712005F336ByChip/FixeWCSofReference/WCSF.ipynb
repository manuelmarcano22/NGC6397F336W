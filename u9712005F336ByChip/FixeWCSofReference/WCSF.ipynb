{
 "cells": [
  {
   "cell_type": "code",
   "execution_count": 109,
   "metadata": {},
   "outputs": [],
   "source": [
    "from astropy.io import fits\n",
    "from mpdaf.obj import Image, WCS"
   ]
  },
  {
   "cell_type": "code",
   "execution_count": 110,
   "metadata": {},
   "outputs": [
    {
     "name": "stderr",
     "output_type": "stream",
     "text": [
      "WARNING: MpdafUnitsWarning: No physical unit in the FITS header: missing BUNIT keyword. [mpdaf.obj.data]\n",
      "WARNING: MpdafUnitsWarning: Error parsing the BUNIT: 'COUNTS' did not parse as unit: At col 0, COUNTS is not a valid unit. Did you mean count? [mpdaf.obj.data]\n",
      "WARNING: FITSFixedWarning: 'datfix' made the change 'Invalid parameter values: MJD-OBS and DATE-OBS are inconsistent'. [astropy.wcs.wcs]\n",
      "[INFO] Shifted the coordinates by dy=1.32 dx=0.219 arcsec\n"
     ]
    }
   ],
   "source": [
    "\n",
    "\n",
    "### get offset between MUSE and HST ###\n",
    "imahst = Image('hlsp_hugs_hst_acs-wfc_ngc6397_f606w_v1_stack-0015s.fits')\n",
    "cont = Image('u9710103m_c0m.chiptres.fits',ext='SCI')\n",
    "\n",
    "fixed = cont.adjust_coordinates(imahst,inplace='False')\n",
    "\n",
    "fixed.write('fixedvals.fits')"
   ]
  },
  {
   "cell_type": "code",
   "execution_count": 111,
   "metadata": {},
   "outputs": [],
   "source": [
    "fixedfix = 'fixedvals.fits'"
   ]
  },
  {
   "cell_type": "markdown",
   "metadata": {},
   "source": [
    "# Had to do it this way for some reason"
   ]
  },
  {
   "cell_type": "code",
   "execution_count": 112,
   "metadata": {},
   "outputs": [],
   "source": [
    "#musecube[1].setval('CRVAL1',value=fixedfov[1].header['CRVAL1'])\n",
    "\n",
    "valuestocopy = ['CRVAL1','CRVAL2','CRPIX1','CRPIX2','CD1_1','CD1_2','CD2_1','CD2_2']\n",
    "fitstofix = 'u9710103m_c0m.chiptres.fits'\n",
    "\n",
    "valsfixed = {}\n",
    "with fits.open(fixedfix) as fixed:\n",
    "    for val in valuestocopy:\n",
    "        valsfixed[val] = fixed[1].header[val]\n",
    "\n",
    "with fits.open(fitstofix, mode='update') as hdul:\n",
    "    for key,value in valsfixed.items():\n",
    "        #print(key)\n",
    "        hdul[0].header[key] = value\n",
    "    hdul.flush()\n"
   ]
  },
  {
   "cell_type": "code",
   "execution_count": 113,
   "metadata": {},
   "outputs": [],
   "source": [
    "! mv {fitstofix} Fixed{fitstofix}"
   ]
  },
  {
   "cell_type": "code",
   "execution_count": null,
   "metadata": {},
   "outputs": [],
   "source": [
    "Had"
   ]
  }
 ],
 "metadata": {
  "kernelspec": {
   "display_name": "Python 3",
   "language": "python",
   "name": "python3"
  },
  "language_info": {
   "codemirror_mode": {
    "name": "ipython",
    "version": 3
   },
   "file_extension": ".py",
   "mimetype": "text/x-python",
   "name": "python",
   "nbconvert_exporter": "python",
   "pygments_lexer": "ipython3",
   "version": "3.7.3"
  }
 },
 "nbformat": 4,
 "nbformat_minor": 2
}
