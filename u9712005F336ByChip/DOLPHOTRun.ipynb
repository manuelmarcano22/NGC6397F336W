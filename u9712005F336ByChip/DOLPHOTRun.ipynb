{
 "cells": [
  {
   "cell_type": "markdown",
   "metadata": {},
   "source": [
    "# DOLPHOT/WFPC2\n",
    "\n",
    "Notebook to do photometry with DOLPHOT and WFPC2 data. It calls the bash routines and the outpout redirected to a file so the notebook doesn't get too long"
   ]
  },
  {
   "cell_type": "code",
   "execution_count": 2,
   "metadata": {},
   "outputs": [],
   "source": [
    "import glob\n",
    "import os\n",
    "import subprocess\n",
    "from shutil import copy2\n",
    "from dolphot import DolphotParameters"
   ]
  },
  {
   "cell_type": "code",
   "execution_count": 23,
   "metadata": {},
   "outputs": [
    {
     "data": {
      "text/plain": [
       "'/home/mmarcano/Documents/NGC6397F336W/u9712005F336Copy'"
      ]
     },
     "execution_count": 23,
     "metadata": {},
     "output_type": "execute_result"
    }
   ],
   "source": [
    "pwd"
   ]
  },
  {
   "cell_type": "code",
   "execution_count": 7,
   "metadata": {},
   "outputs": [
    {
     "name": "stdout",
     "output_type": "stream",
     "text": [
      "final_drz_sci\n"
     ]
    }
   ],
   "source": [
    "listainitials = glob.glob('Originals/u971*c[0-1]m.fits')\n",
    "#drzinitial = glob.glob('Originals/u971010*drz.fits')\n",
    "#drzinitialfile =drzinitial[0]\n",
    "#drzinitialfilename = drzinitialfile.split('.')[0].split('/')[1]\n",
    "#listainitials.append(drzinitial[0])\n",
    "#print(listainitials)\n",
    "finaldrizorfile = 'Driz/final_drz_sci.fits'\n",
    "listainitials.append(finaldrizorfile)\n",
    "drzfilename = finaldrizorfile.split('.')[0].split('/')[1]\n",
    "print(drzfilename)\n",
    "#print(listainitials)\n",
    "datadir = 'Try/'\n",
    "\n",
    "for i in listainitials:\n",
    "    copy2(i,datadir)"
   ]
  },
  {
   "cell_type": "code",
   "execution_count": 14,
   "metadata": {},
   "outputs": [],
   "source": [
    "pattern = 'u*c0m.fits'\n",
    "listacom = glob.glob('{}{}'.format(datadir,pattern))\n",
    "listafits = glob.glob('{}{}'.format(datadir,'*fits'))\n"
   ]
  },
  {
   "cell_type": "markdown",
   "metadata": {},
   "source": [
    "listacom"
   ]
  },
  {
   "cell_type": "code",
   "execution_count": 15,
   "metadata": {},
   "outputs": [
    {
     "name": "stdout",
     "output_type": "stream",
     "text": [
      "Reading FITS file Try/u971210fm_c0m.fits\n",
      "Reading IMAGE extension: 800x800\n",
      "Reading IMAGE extension: 800x800\n",
      "Reading IMAGE extension: 800x800\n",
      "Reading IMAGE extension: 800x800\n",
      "Reading FITS file Try/u971210fm_c1m.fits\n",
      "Reading IMAGE extension: 800x800\n",
      "Reading IMAGE extension: 800x800\n",
      "Reading IMAGE extension: 800x800\n",
      "Reading IMAGE extension: 800x800\n"
     ]
    }
   ],
   "source": [
    "for i in listacom:\n",
    "    t = i.replace('c0m','c1m')\n",
    "    commandmask = 'wfpc2mask {} {} &>> wfpc2mask.log'.format(i,t)\n",
    "    #print(commandmask)\n",
    "    ! {commandmask}\n",
    "! head wfpc2mask.log"
   ]
  },
  {
   "cell_type": "markdown",
   "metadata": {},
   "source": [
    "# 3.3 splitgroups: Split UVIS Chips"
   ]
  },
  {
   "cell_type": "code",
   "execution_count": 16,
   "metadata": {},
   "outputs": [
    {
     "name": "stdout",
     "output_type": "stream",
     "text": [
      "Reading FITS file Try/final_drz_sci.chip0.fits: 1549x1527\n",
      "Writing FITS file Try/final_drz_sci.chip0.chip0.fits: 1549x1527\n",
      "Reading FITS file Try/final_drz_sci.chip1.fits: 2307x504\n",
      "Writing FITS file Try/final_drz_sci.chip1.chip0.fits: 2307x504\n",
      "Reading FITS file Try/final_drz_sci.fits: 1549x1527\n",
      "Reading BINTABLE extension: 2307x504\n",
      "Writing FITS file Try/final_drz_sci.chip0.fits: 1549x1527\n",
      "Writing FITS file Try/final_drz_sci.chip1.fits: 2307x504\n",
      "Reading FITS file Try/u9710103m_c0m.chip1.fits: 800x800\n",
      "Writing FITS file Try/u9710103m_c0m.chip1.chip0.fits: 800x800\n"
     ]
    }
   ],
   "source": [
    "dirfits = datadir+'*.fits'\n",
    "#print(dirfits)\n",
    "commandsplit = 'splitgroups {} &>> splitgroups.log'.format(dirfits)\n",
    "#print(commandsplit)\n",
    "! {commandsplit}\n",
    "! head splitgroups.log"
   ]
  },
  {
   "cell_type": "markdown",
   "metadata": {},
   "source": [
    "# 3.4 calcsky: Calculate Sky for Image"
   ]
  },
  {
   "cell_type": "code",
   "execution_count": 17,
   "metadata": {},
   "outputs": [],
   "source": [
    "rin=10\n",
    "rout = 25\n",
    "step = 2\n",
    "sigmalow = 2.25\n",
    "sigmahigh = 2.00\n",
    "listacomall = glob.glob('{}{}'.format(datadir,'u971*m_c0m.*.fits'))\n",
    "listachipdrz = glob.glob('{}{}'.format(datadir,drzfilename+'*chip*'))\n",
    "listacomall.extend(listachipdrz)\n",
    "#listafits = glob.glob('{}{}'.format(datadir,'*fits'))\n",
    "#print(listachipdrz)\n",
    "for i in listacomall:\n",
    "    name = i.split('.fits')[0]\n",
    "    #print(name)\n",
    "    #name = 'Try/u9710103m_c0m.chip1'\n",
    "    calcskycommad = 'calcsky {} {} {} {} {} {} &>> calcsky.log'.format(name,rin,rout,step,sigmalow, sigmahigh)\n",
    "    #print(calcskycommad)\n",
    "    #! {calcskycommad}\n",
    "\n",
    "#! head calcsky.log\n"
   ]
  },
  {
   "cell_type": "markdown",
   "metadata": {},
   "source": [
    "# Build Param file\n",
    "\n",
    "This is a great exampleto build a param file in htis git repo:\n",
    "\n",
    "https://github.com/jonathansick/delphinus\n",
    "\n",
    "Ill use this to build the params file.\n",
    "\n",
    "\n",
    "Do it only one or it will add"
   ]
  },
  {
   "cell_type": "code",
   "execution_count": 3,
   "metadata": {},
   "outputs": [],
   "source": [
    "dolpa = DolphotParameters()\n",
    "\n"
   ]
  },
  {
   "cell_type": "markdown",
   "metadata": {},
   "source": [
    "# Try chip3"
   ]
  },
  {
   "cell_type": "code",
   "execution_count": 11,
   "metadata": {},
   "outputs": [],
   "source": [
    "dolpa.setup_image('Try/final_drz_sci.chip0',ref=True)"
   ]
  },
  {
   "cell_type": "code",
   "execution_count": 12,
   "metadata": {},
   "outputs": [],
   "source": [
    "#listacomallchip3 = glob.glob('{}{}'.format(datadir,'u971*[!103]m_c0m.chip3.fits'))\n",
    "listacomallchip = glob.glob('{}{}'.format(datadir,'u971*m_c0m.chip[1-4].fits'))\n",
    "\n",
    "#Try with subset\n",
    "listacomallchip = listacomallchip[0:20]\n",
    "\n",
    "for i in listacomallchip:\n",
    "    dolpa.setup_image(i)\n",
    "    #print(i)"
   ]
  },
  {
   "cell_type": "code",
   "execution_count": 13,
   "metadata": {},
   "outputs": [],
   "source": [
    "dolpa.write_parameters('dolphot.param')"
   ]
  },
  {
   "cell_type": "code",
   "execution_count": 14,
   "metadata": {},
   "outputs": [
    {
     "name": "stdout",
     "output_type": "stream",
     "text": [
      "Nimg = 40\n",
      "img0_file = Try/final_drz_sci.chip0\n",
      "img0_psfa = 3.00 0.00 0.00 0.00 0.00 0.00\n",
      "img0_psfb = 3.00 0.00 0.00 0.00 0.00 0.00\n",
      "img0_psfc = 0.00 0.00 0.00 0.00 0.00 0.00\n",
      "img0_aprad = 10.00\n",
      "img0_apsky = 15.00 25.00\n",
      "img0_RSky = 15.00 25.00\n",
      "img0_RAper = 2.50\n",
      "img0_RChi = 2.00\n"
     ]
    }
   ],
   "source": [
    "!head dolphot.param"
   ]
  },
  {
   "cell_type": "code",
   "execution_count": null,
   "metadata": {},
   "outputs": [],
   "source": []
  }
 ],
 "metadata": {
  "kernelspec": {
   "display_name": "Python 3",
   "language": "python",
   "name": "python3"
  },
  "language_info": {
   "codemirror_mode": {
    "name": "ipython",
    "version": 3
   },
   "file_extension": ".py",
   "mimetype": "text/x-python",
   "name": "python",
   "nbconvert_exporter": "python",
   "pygments_lexer": "ipython3",
   "version": "3.7.3"
  }
 },
 "nbformat": 4,
 "nbformat_minor": 2
}
