{
 "cells": [
  {
   "cell_type": "markdown",
   "metadata": {},
   "source": [
    "# DOLPHOT/WFPC2\n",
    "\n",
    "Notebook to do photometry with DOLPHOT and WFPC2 data. It calls the bash routines and the outpout redirected to a file so the notebook doesn't get too long.,\n",
    "\n",
    "Dolphot2 doesnt per image some parameters and does it for all images"
   ]
  },
  {
   "cell_type": "code",
   "execution_count": 2,
   "metadata": {},
   "outputs": [],
   "source": [
    "import glob\n",
    "import os\n",
    "import subprocess\n",
    "from shutil import copy2\n",
    "from dolphot2 import DolphotParameters"
   ]
  },
  {
   "cell_type": "code",
   "execution_count": 3,
   "metadata": {},
   "outputs": [
    {
     "data": {
      "text/plain": [
       "'/home/mmarcano/Documents/NGC6397F336W/u9712005F336ByChip'"
      ]
     },
     "execution_count": 3,
     "metadata": {},
     "output_type": "execute_result"
    }
   ],
   "source": [
    "pwd"
   ]
  },
  {
   "cell_type": "code",
   "execution_count": 4,
   "metadata": {},
   "outputs": [],
   "source": [
    "datadir = 'Try/'\n"
   ]
  },
  {
   "cell_type": "code",
   "execution_count": 3,
   "metadata": {},
   "outputs": [
    {
     "name": "stdout",
     "output_type": "stream",
     "text": [
      "final_drz_sci\n"
     ]
    }
   ],
   "source": [
    "listainitials = glob.glob('Originals/u971*c[0-1]m.fits')\n",
    "#drzinitial = glob.glob('Originals/u971010*drz.fits')\n",
    "#drzinitialfile =drzinitial[0]\n",
    "#drzinitialfilename = drzinitialfile.split('.')[0].split('/')[1]\n",
    "#listainitials.append(drzinitial[0])\n",
    "#print(listainitials)\n",
    "finaldrizorfile = 'Driz/final_drz_sci.fits'\n",
    "listainitials.append(finaldrizorfile)\n",
    "drzfilename = finaldrizorfile.split('.')[0].split('/')[1]\n",
    "print(drzfilename)\n",
    "#print(listainitials)\n",
    "\n",
    "for i in listainitials:\n",
    "    copy2(i,datadir)"
   ]
  },
  {
   "cell_type": "code",
   "execution_count": 4,
   "metadata": {},
   "outputs": [],
   "source": [
    "pattern = 'u*c0m.fits'\n",
    "listacom = glob.glob('{}{}'.format(datadir,pattern))\n",
    "listafits = glob.glob('{}{}'.format(datadir,'*fits'))\n"
   ]
  },
  {
   "cell_type": "markdown",
   "metadata": {},
   "source": [
    "listacom"
   ]
  },
  {
   "cell_type": "code",
   "execution_count": 5,
   "metadata": {},
   "outputs": [
    {
     "name": "stdout",
     "output_type": "stream",
     "text": [
      "Reading FITS file Try/u9712306m_c0m.fits\n",
      "Reading IMAGE extension: 800x800\n",
      "Reading IMAGE extension: 800x800\n",
      "Reading IMAGE extension: 800x800\n",
      "Reading IMAGE extension: 800x800\n",
      "Reading FITS file Try/u9712306m_c1m.fits\n",
      "Reading IMAGE extension: 800x800\n",
      "Reading IMAGE extension: 800x800\n",
      "Reading IMAGE extension: 800x800\n",
      "Reading IMAGE extension: 800x800\n"
     ]
    }
   ],
   "source": [
    "for i in listacom:\n",
    "    t = i.replace('c0m','c1m')\n",
    "    commandmask = 'wfpc2mask {} {} &>> wfpc2mask.log'.format(i,t)\n",
    "    #print(commandmask)\n",
    "    ! {commandmask}\n",
    "! head wfpc2mask.log"
   ]
  },
  {
   "cell_type": "markdown",
   "metadata": {},
   "source": [
    "# 3.3 splitgroups: Split UVIS Chips"
   ]
  },
  {
   "cell_type": "code",
   "execution_count": 6,
   "metadata": {},
   "outputs": [
    {
     "name": "stdout",
     "output_type": "stream",
     "text": [
      "Reading FITS file Try/final_drz_sci.fits: 1549x1527\n",
      "Reading BINTABLE extension: 2307x504\n",
      "Writing FITS file Try/final_drz_sci.chip0.fits: 1549x1527\n",
      "Writing FITS file Try/final_drz_sci.chip1.fits: 2307x504\n",
      "Reading FITS file Try/u9710103m_c0m.fits\n",
      "Reading IMAGE extension: 800x800\n",
      "Reading IMAGE extension: 800x800\n",
      "Reading IMAGE extension: 800x800\n",
      "Reading IMAGE extension: 800x800\n",
      "Writing FITS file Try/u9710103m_c0m.chip1.fits: 800x800\n"
     ]
    }
   ],
   "source": [
    "dirfits = datadir+'*.fits'\n",
    "#print(dirfits)\n",
    "commandsplit = 'splitgroups {} &>> splitgroups.log'.format(dirfits)\n",
    "#print(commandsplit)\n",
    "! {commandsplit}\n",
    "! head splitgroups.log"
   ]
  },
  {
   "cell_type": "markdown",
   "metadata": {},
   "source": [
    "# 3.4 calcsky: Calculate Sky for Image"
   ]
  },
  {
   "cell_type": "code",
   "execution_count": 7,
   "metadata": {},
   "outputs": [],
   "source": [
    "rin=10\n",
    "rout = 25\n",
    "step = 2\n",
    "sigmalow = 2.25\n",
    "sigmahigh = 2.00\n",
    "listacomall = glob.glob('{}{}'.format(datadir,'u971*m_c0m.*.fits'))\n",
    "listachipdrz = glob.glob('{}{}'.format(datadir,drzfilename+'*chip*'))\n",
    "listacomall.extend(listachipdrz)\n",
    "#listafits = glob.glob('{}{}'.format(datadir,'*fits'))\n",
    "#print(listachipdrz)\n",
    "for i in listacomall:\n",
    "    name = i.split('.fits')[0]\n",
    "    #print(name)\n",
    "    #name = 'Try/u9710103m_c0m.chip1'\n",
    "    calcskycommad = 'calcsky {} {} {} {} {} {} &>> calcsky.log'.format(name,rin,rout,step,sigmalow, sigmahigh)\n",
    "    #print(calcskycommad)\n",
    "    #! {calcskycommad}\n",
    "\n",
    "#! head calcsky.log\n"
   ]
  },
  {
   "cell_type": "markdown",
   "metadata": {},
   "source": [
    "# Build Param file\n",
    "\n",
    "This is a great exampleto build a param file in htis git repo:\n",
    "\n",
    "https://github.com/jonathansick/delphinus\n",
    "\n",
    "Ill use this to build the params file.\n",
    "\n",
    "\n",
    "Do it only one or it will add"
   ]
  },
  {
   "cell_type": "code",
   "execution_count": 5,
   "metadata": {},
   "outputs": [],
   "source": [
    "dolpa = DolphotParameters(psfA=(3, 0, 0, 0, 0, 0),\n",
    "            psfB=(3, 0, 0, 0, 0, 0), psfC=(0, 0, 0, 0, 0, 0),\n",
    "            shift=(0, 0), xform=(1, 0, 0), aprad=0.5, apsky=(15, 25),\n",
    "            RAper=7, RSky2=(5.0, 10.0), RChi=2, RSky=(15.0, 35.0) , RPSF=13,\n",
    "            PSFPhot=1, FitSky=2, SkipSky=2, SkySig=2.25,\n",
    "            SigFind=2.5, SigFindMult=0.85,\n",
    "            SigFinal=3.0, MaxIT=25, NoiseMult=0.10, FSat=0.999, Zero=25.0,\n",
    "            RCentroid=2, PosStep=0.25,\n",
    "            dPosMax=3.0, RCombine=1.5, FPSF=\"G+L\",\n",
    "            sigPSF=5.0, PSFStep=0.25, MinS=1.0, MaxS=9.0, MaxE=0.5,\n",
    "            UseWCS=1, Align=2, Rotate=1, secondPass=5, SearchMode=1,\n",
    "            Force1=0,\n",
    "            EPSF=1,\n",
    "            PSFsol=0, PSFres=1, psfstars=None, psfoff=0.0,\n",
    "            ApCor=1, SubPixel=1,\n",
    "            FakeStars=None, FakeMatch=3., FakeStarPSF=0, FakePSF=1.5,\n",
    "            RandomFake=1,\n",
    "            xytfile=None, xytpsf=None, photsec=None,\n",
    "                WFPC2useCTE=1,FlagMask=4)\n",
    "\n"
   ]
  },
  {
   "cell_type": "code",
   "execution_count": 6,
   "metadata": {},
   "outputs": [
    {
     "data": {
      "text/plain": [
       "[]"
      ]
     },
     "execution_count": 6,
     "metadata": {},
     "output_type": "execute_result"
    }
   ],
   "source": [
    "dolpa.imageParams"
   ]
  },
  {
   "cell_type": "markdown",
   "metadata": {},
   "source": [
    "# Try chip3"
   ]
  },
  {
   "cell_type": "code",
   "execution_count": 7,
   "metadata": {},
   "outputs": [],
   "source": [
    "#dolpa.setup_image('Try/final_drz_sci.chip0',ref=True)"
   ]
  },
  {
   "cell_type": "code",
   "execution_count": 8,
   "metadata": {},
   "outputs": [],
   "source": [
    "dolpa.setup_image('Try/u9710103m_c0m.chiptres',ref=True)"
   ]
  },
  {
   "cell_type": "code",
   "execution_count": 9,
   "metadata": {},
   "outputs": [],
   "source": [
    "#listacomallchip3 = glob.glob('{}{}'.format(datadir,'u971*[!103]m_c0m.chip3.fits'))\n",
    "listacomallchip = glob.glob('{}{}'.format(datadir,'u971*m_c0m.chip[3].fits'))\n",
    "\n",
    "#Try with subset\n",
    "listacomallchip = listacomallchip\n",
    "\n",
    "for i in listacomallchip:\n",
    "    dolpa.setup_image(i)\n",
    "    #print(i)"
   ]
  },
  {
   "cell_type": "code",
   "execution_count": 10,
   "metadata": {},
   "outputs": [],
   "source": [
    "dolpa.write_parameters('dolphot.param')"
   ]
  },
  {
   "cell_type": "code",
   "execution_count": 11,
   "metadata": {},
   "outputs": [
    {
     "name": "stdout",
     "output_type": "stream",
     "text": [
      "Nimg = 125\n",
      "img0_file = Try/u9710103m_c0m.chiptres\n",
      "img1_file = Try/u9710106m_c0m.chip3\n",
      "img2_file = Try/u9710109m_c0m.chip3\n",
      "img3_file = Try/u9710203m_c0m.chip3\n",
      "img4_file = Try/u9710206m_c0m.chip3\n",
      "img5_file = Try/u9710209m_c0m.chip3\n",
      "img6_file = Try/u9710303m_c0m.chip3\n",
      "img7_file = Try/u9710306m_c0m.chip3\n",
      "img8_file = Try/u9710403m_c0m.chip3\n"
     ]
    }
   ],
   "source": [
    "!head dolphot.param"
   ]
  },
  {
   "cell_type": "code",
   "execution_count": 12,
   "metadata": {},
   "outputs": [
    {
     "data": {
      "text/plain": [
       "{'img_psfa': (3, 0, 0, 0, 0, 0),\n",
       " 'img_psfb': (3, 0, 0, 0, 0, 0),\n",
       " 'img_psfc': (0, 0, 0, 0, 0, 0),\n",
       " 'img_shift': (0, 0),\n",
       " 'img_xform': (1, 0, 0),\n",
       " 'img_aprad': 0.5,\n",
       " 'img_apsky': (15, 25),\n",
       " 'img_RSky': (15.0, 35.0),\n",
       " 'img_RSky2': (5.0, 10.0),\n",
       " 'img_RAper': 7,\n",
       " 'img_RChi': 2,\n",
       " 'img_RPSF': 13,\n",
       " 'PSFPhot': 1,\n",
       " 'FitSky': 2,\n",
       " 'SkipSky': 2,\n",
       " 'SkySig': 2.25,\n",
       " 'SigFind': 2.5,\n",
       " 'SigFindMult': 0.85,\n",
       " 'SigFinal': 3.0,\n",
       " 'MaxIT': 25,\n",
       " 'NoiseMult': 0.1,\n",
       " 'FSat': 0.999,\n",
       " 'Zero': 25.0,\n",
       " 'RCentroid': 2,\n",
       " 'PosStep': 0.25,\n",
       " 'dPosMax': 3.0,\n",
       " 'RCombine': 1.5,\n",
       " 'FPSF': 'G+L',\n",
       " 'sigPSF': 5.0,\n",
       " 'PSFStep': 0.25,\n",
       " 'MinS': 1.0,\n",
       " 'MaxS': 9.0,\n",
       " 'MaxE': 0.5,\n",
       " 'UseWCS': 1,\n",
       " 'Align': 2,\n",
       " 'Rotate': 1,\n",
       " 'secondPass': 5,\n",
       " 'SearchMode': 1,\n",
       " 'Force1': 0,\n",
       " 'EPSF': 1,\n",
       " 'PSFsol': 0,\n",
       " 'PSFres': 1,\n",
       " 'psfstars': None,\n",
       " 'psfoff': 0.0,\n",
       " 'ApCor': 1,\n",
       " 'SubPixel': 1,\n",
       " 'FakeStars': None,\n",
       " 'FakeMatch': 3.0,\n",
       " 'FakeStarPSF': 0,\n",
       " 'FakePSF': 1.5,\n",
       " 'RandomFake': 1,\n",
       " 'xytfile': None,\n",
       " 'xytpsf': None,\n",
       " 'photsec': None,\n",
       " 'WFPC2useCTE': 1,\n",
       " 'FlagMask': 4}"
      ]
     },
     "execution_count": 12,
     "metadata": {},
     "output_type": "execute_result"
    }
   ],
   "source": [
    "dolpa.params"
   ]
  },
  {
   "cell_type": "code",
   "execution_count": null,
   "metadata": {},
   "outputs": [],
   "source": []
  },
  {
   "cell_type": "code",
   "execution_count": null,
   "metadata": {},
   "outputs": [],
   "source": []
  }
 ],
 "metadata": {
  "kernelspec": {
   "display_name": "Python 3",
   "language": "python",
   "name": "python3"
  },
  "language_info": {
   "codemirror_mode": {
    "name": "ipython",
    "version": 3
   },
   "file_extension": ".py",
   "mimetype": "text/x-python",
   "name": "python",
   "nbconvert_exporter": "python",
   "pygments_lexer": "ipython3",
   "version": "3.7.3"
  }
 },
 "nbformat": 4,
 "nbformat_minor": 2
}
