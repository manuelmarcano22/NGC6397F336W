{
 "cells": [
  {
   "cell_type": "code",
   "execution_count": 1,
   "metadata": {},
   "outputs": [],
   "source": [
    "from astropy.io import fits\n",
    "from astropy.wcs import WCS\n",
    "import numpy as np\n",
    "from astropy.time import Time\n",
    "\n",
    "\n",
    "\n",
    "def _build_ref_wcs(ref_path):\n",
    "        \"\"\"Make a list of :class:`astropy.wcs.WCS` instances for each extension\n",
    "        of the reference image.\n",
    "        \"\"\"\n",
    "        wcs_list = []\n",
    "        with fits.open(ref_path) as f:\n",
    "            for ext in f:\n",
    "                wcs = WCS(ext.header)\n",
    "                wcs_list.append(wcs)\n",
    "        return wcs, wcs_list"
   ]
  },
  {
   "cell_type": "code",
   "execution_count": 2,
   "metadata": {},
   "outputs": [],
   "source": [
    "outputfile = 'outdir/out.photo'\n",
    "#referenceimage = 'Try/final_drz_sci.chip0.fits'\n",
    "referenceimage = 'Try/u9710103m_c0m.chiptres.fits'\n",
    "columnfile = 'outdir/out.columns'"
   ]
  },
  {
   "cell_type": "code",
   "execution_count": 3,
   "metadata": {},
   "outputs": [
    {
     "name": "stderr",
     "output_type": "stream",
     "text": [
      "WARNING: FITSFixedWarning: 'datfix' made the change 'Invalid parameter values: MJD-OBS and DATE-OBS are inconsistent'. [astropy.wcs.wcs]\n"
     ]
    }
   ],
   "source": [
    "refwcs = _build_ref_wcs(referenceimage)\n"
   ]
  },
  {
   "cell_type": "code",
   "execution_count": null,
   "metadata": {},
   "outputs": [],
   "source": [
    "datafromfile = np.loadtxt(outputfile)\n"
   ]
  },
  {
   "cell_type": "code",
   "execution_count": null,
   "metadata": {},
   "outputs": [],
   "source": [
    "columns = []\n",
    "with open(columnfile) as filecol:\n",
    "    for line in filecol:\n",
    "        columns.append(line)"
   ]
  },
  {
   "cell_type": "code",
   "execution_count": null,
   "metadata": {},
   "outputs": [],
   "source": [
    "xy = datafromfile[0:,2:4]\n"
   ]
  },
  {
   "cell_type": "code",
   "execution_count": null,
   "metadata": {},
   "outputs": [],
   "source": [
    "xy"
   ]
  },
  {
   "cell_type": "code",
   "execution_count": null,
   "metadata": {},
   "outputs": [],
   "source": [
    "coordinate = refwcs[0].all_pix2world(xy,1)"
   ]
  },
  {
   "cell_type": "code",
   "execution_count": null,
   "metadata": {},
   "outputs": [],
   "source": [
    "#region to plot\n",
    "findreg = 'stars.reg'\n",
    "\n",
    "with open(findreg,'w') as fileone:\n",
    "    for index, coor in enumerate(coordinate):\n",
    "    #for index, coor in enumerate(xy):\n",
    "            #text='circle({0},{1},.1\") # color=blue text={2} \\n'.format(ra[index],dec[index],'{'+str(ind[index])+\"}\")\n",
    "            text='fk5; circle({0},{1},0.1\") # color=blue text={2} \\n'.format(coor[0],coor[1],'{'+str(index)+\"}\")\n",
    "            #text='circle({0},{1},1) # color=blue text={2} \\n'.format(coor[0],coor[1],'{'+str(index)+\"}\")\n",
    "            fileone.write(text)"
   ]
  },
  {
   "cell_type": "code",
   "execution_count": null,
   "metadata": {},
   "outputs": [],
   "source": [
    "#region to plot\n",
    "findreg = 'starsxandy.reg'\n",
    "\n",
    "with open(findreg,'w') as fileone:\n",
    "    #for index, coor in enumerate(coordinate):\n",
    "    for index, coor in enumerate(xy):\n",
    "            #text='circle({0},{1},.1\") # color=blue text={2} \\n'.format(ra[index],dec[index],'{'+str(ind[index])+\"}\")\n",
    "            #text='fk5; circle({0},{1},0.1\") # color=blue text={2} \\n'.format(coor[0],coor[1],'{'+str(index)+\"}\")\n",
    "            text='circle({0},{1},1) # color=blue text={2} \\n'.format(coor[0],coor[1],'{'+str(index)+\"}\")\n",
    "            fileone.write(text)"
   ]
  },
  {
   "cell_type": "code",
   "execution_count": null,
   "metadata": {},
   "outputs": [],
   "source": []
  },
  {
   "cell_type": "code",
   "execution_count": null,
   "metadata": {},
   "outputs": [],
   "source": []
  },
  {
   "cell_type": "code",
   "execution_count": null,
   "metadata": {},
   "outputs": [],
   "source": []
  }
 ],
 "metadata": {
  "kernelspec": {
   "display_name": "Python 3",
   "language": "python",
   "name": "python3"
  },
  "language_info": {
   "codemirror_mode": {
    "name": "ipython",
    "version": 3
   },
   "file_extension": ".py",
   "mimetype": "text/x-python",
   "name": "python",
   "nbconvert_exporter": "python",
   "pygments_lexer": "ipython3",
   "version": "3.7.3"
  }
 },
 "nbformat": 4,
 "nbformat_minor": 2
}
